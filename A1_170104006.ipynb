{
  "nbformat": 4,
  "nbformat_minor": 0,
  "metadata": {
    "colab": {
      "name": "NLP_LSTM_Pytorch.ipynb",
      "provenance": []
    },
    "kernelspec": {
      "name": "python3",
      "display_name": "Python 3"
    },
    "language_info": {
      "name": "python"
    },
    "accelerator": "GPU"
  },
  "cells": [
    {
      "cell_type": "code",
      "metadata": {
        "colab": {
          "base_uri": "https://localhost:8080/"
        },
        "id": "GzChYtxoZjbg",
        "outputId": "6d8272ed-cf64-4aa6-d54b-d9b08237623d"
      },
      "source": [
        "# ! conda install -y gdown\n",
        "!gdown --id 1ovYiBl-6XFBI9ooATficyPpY6aaZCYEk"
      ],
      "execution_count": 11,
      "outputs": [
        {
          "output_type": "stream",
          "name": "stdout",
          "text": [
            "Downloading...\n",
            "From: https://drive.google.com/uc?id=1ovYiBl-6XFBI9ooATficyPpY6aaZCYEk\n",
            "To: /content/Dataset 1.csv\n",
            "\r  0% 0.00/999k [00:00<?, ?B/s]\r100% 999k/999k [00:00<00:00, 32.3MB/s]\n"
          ]
        }
      ]
    },
    {
      "cell_type": "code",
      "metadata": {
        "id": "oBatEwueZjep"
      },
      "source": [
        "import torch   \n",
        "\n",
        "#handling text data\n",
        "from torchtext.legacy import data  "
      ],
      "execution_count": 29,
      "outputs": []
    },
    {
      "cell_type": "code",
      "metadata": {
        "id": "l6YemjLtaFP3"
      },
      "source": [
        "dataset=pd.read_csv('/content/Dataset 1.csv',encoding='ISO-8859-1')"
      ],
      "execution_count": 18,
      "outputs": []
    },
    {
      "cell_type": "code",
      "metadata": {
        "id": "CAqRIZygG3QB"
      },
      "source": [
        "import re\n",
        "def remove(text):\n",
        "    return re.sub(r\"[,.\\\"!@#$%^&*(){}?/;`~:<>+=-]\", \"\", text)\n"
      ],
      "execution_count": 22,
      "outputs": []
    },
    {
      "cell_type": "code",
      "metadata": {
        "id": "SLiEwNCJGuL7"
      },
      "source": [
        "dataset['message'] = dataset['message'].apply(lambda x: remove(x))\n"
      ],
      "execution_count": 23,
      "outputs": []
    },
    {
      "cell_type": "code",
      "metadata": {
        "colab": {
          "base_uri": "https://localhost:8080/",
          "height": 415
        },
        "id": "VpHkYg4N1knr",
        "outputId": "38612513-a5a6-47ad-e1d3-c62f5be5746e"
      },
      "source": [
        "dataset"
      ],
      "execution_count": 24,
      "outputs": [
        {
          "output_type": "execute_result",
          "data": {
            "text/html": [
              "<div>\n",
              "<style scoped>\n",
              "    .dataframe tbody tr th:only-of-type {\n",
              "        vertical-align: middle;\n",
              "    }\n",
              "\n",
              "    .dataframe tbody tr th {\n",
              "        vertical-align: top;\n",
              "    }\n",
              "\n",
              "    .dataframe thead th {\n",
              "        text-align: right;\n",
              "    }\n",
              "</style>\n",
              "<table border=\"1\" class=\"dataframe\">\n",
              "  <thead>\n",
              "    <tr style=\"text-align: right;\">\n",
              "      <th></th>\n",
              "      <th>message</th>\n",
              "      <th>label</th>\n",
              "    </tr>\n",
              "  </thead>\n",
              "  <tbody>\n",
              "    <tr>\n",
              "      <th>0</th>\n",
              "      <td>just had a real good moment i missssssssss him...</td>\n",
              "      <td>0</td>\n",
              "    </tr>\n",
              "    <tr>\n",
              "      <th>1</th>\n",
              "      <td>is reading manga</td>\n",
              "      <td>0</td>\n",
              "    </tr>\n",
              "    <tr>\n",
              "      <th>2</th>\n",
              "      <td>comeagainjen</td>\n",
              "      <td>0</td>\n",
              "    </tr>\n",
              "    <tr>\n",
              "      <th>3</th>\n",
              "      <td>lapcat Need to send 'em to my accountant tomor...</td>\n",
              "      <td>0</td>\n",
              "    </tr>\n",
              "    <tr>\n",
              "      <th>4</th>\n",
              "      <td>ADD ME ON MYSPACE  myspacecomLookThunder</td>\n",
              "      <td>0</td>\n",
              "    </tr>\n",
              "    <tr>\n",
              "      <th>...</th>\n",
              "      <td>...</td>\n",
              "      <td>...</td>\n",
              "    </tr>\n",
              "    <tr>\n",
              "      <th>10309</th>\n",
              "      <td>No Depression by G Herbo is my mood from now o...</td>\n",
              "      <td>1</td>\n",
              "    </tr>\n",
              "    <tr>\n",
              "      <th>10310</th>\n",
              "      <td>What do you do when depression succumbs the br...</td>\n",
              "      <td>1</td>\n",
              "    </tr>\n",
              "    <tr>\n",
              "      <th>10311</th>\n",
              "      <td>Ketamine Nasal Spray Shows Promise Against Dep...</td>\n",
              "      <td>1</td>\n",
              "    </tr>\n",
              "    <tr>\n",
              "      <th>10312</th>\n",
              "      <td>dont mistake a bad day with depression everyon...</td>\n",
              "      <td>1</td>\n",
              "    </tr>\n",
              "    <tr>\n",
              "      <th>10313</th>\n",
              "      <td>0</td>\n",
              "      <td>1</td>\n",
              "    </tr>\n",
              "  </tbody>\n",
              "</table>\n",
              "<p>10314 rows × 2 columns</p>\n",
              "</div>"
            ],
            "text/plain": [
              "                                                 message  label\n",
              "0      just had a real good moment i missssssssss him...      0\n",
              "1                                     is reading manga        0\n",
              "2                                       comeagainjen          0\n",
              "3      lapcat Need to send 'em to my accountant tomor...      0\n",
              "4               ADD ME ON MYSPACE  myspacecomLookThunder      0\n",
              "...                                                  ...    ...\n",
              "10309  No Depression by G Herbo is my mood from now o...      1\n",
              "10310  What do you do when depression succumbs the br...      1\n",
              "10311  Ketamine Nasal Spray Shows Promise Against Dep...      1\n",
              "10312  dont mistake a bad day with depression everyon...      1\n",
              "10313                                                  0      1\n",
              "\n",
              "[10314 rows x 2 columns]"
            ]
          },
          "metadata": {},
          "execution_count": 24
        }
      ]
    },
    {
      "cell_type": "code",
      "metadata": {
        "id": "56mHtd7Q7VTZ"
      },
      "source": [
        "dataset.drop(10313,inplace=True)"
      ],
      "execution_count": 25,
      "outputs": []
    },
    {
      "cell_type": "code",
      "metadata": {
        "id": "Yll4EbCn25lL"
      },
      "source": [
        "dataset.rename(columns = {'message':'text'}, inplace = True)"
      ],
      "execution_count": 26,
      "outputs": []
    },
    {
      "cell_type": "code",
      "metadata": {
        "colab": {
          "base_uri": "https://localhost:8080/",
          "height": 415
        },
        "id": "Oh9yFJVb2_o8",
        "outputId": "7c40e378-3d24-4634-a42c-7cfb254a097f"
      },
      "source": [
        "dataset"
      ],
      "execution_count": 27,
      "outputs": [
        {
          "output_type": "execute_result",
          "data": {
            "text/html": [
              "<div>\n",
              "<style scoped>\n",
              "    .dataframe tbody tr th:only-of-type {\n",
              "        vertical-align: middle;\n",
              "    }\n",
              "\n",
              "    .dataframe tbody tr th {\n",
              "        vertical-align: top;\n",
              "    }\n",
              "\n",
              "    .dataframe thead th {\n",
              "        text-align: right;\n",
              "    }\n",
              "</style>\n",
              "<table border=\"1\" class=\"dataframe\">\n",
              "  <thead>\n",
              "    <tr style=\"text-align: right;\">\n",
              "      <th></th>\n",
              "      <th>text</th>\n",
              "      <th>label</th>\n",
              "    </tr>\n",
              "  </thead>\n",
              "  <tbody>\n",
              "    <tr>\n",
              "      <th>0</th>\n",
              "      <td>just had a real good moment i missssssssss him...</td>\n",
              "      <td>0</td>\n",
              "    </tr>\n",
              "    <tr>\n",
              "      <th>1</th>\n",
              "      <td>is reading manga</td>\n",
              "      <td>0</td>\n",
              "    </tr>\n",
              "    <tr>\n",
              "      <th>2</th>\n",
              "      <td>comeagainjen</td>\n",
              "      <td>0</td>\n",
              "    </tr>\n",
              "    <tr>\n",
              "      <th>3</th>\n",
              "      <td>lapcat Need to send 'em to my accountant tomor...</td>\n",
              "      <td>0</td>\n",
              "    </tr>\n",
              "    <tr>\n",
              "      <th>4</th>\n",
              "      <td>ADD ME ON MYSPACE  myspacecomLookThunder</td>\n",
              "      <td>0</td>\n",
              "    </tr>\n",
              "    <tr>\n",
              "      <th>...</th>\n",
              "      <td>...</td>\n",
              "      <td>...</td>\n",
              "    </tr>\n",
              "    <tr>\n",
              "      <th>10308</th>\n",
              "      <td>Many sufferers of depression aren't sad they f...</td>\n",
              "      <td>1</td>\n",
              "    </tr>\n",
              "    <tr>\n",
              "      <th>10309</th>\n",
              "      <td>No Depression by G Herbo is my mood from now o...</td>\n",
              "      <td>1</td>\n",
              "    </tr>\n",
              "    <tr>\n",
              "      <th>10310</th>\n",
              "      <td>What do you do when depression succumbs the br...</td>\n",
              "      <td>1</td>\n",
              "    </tr>\n",
              "    <tr>\n",
              "      <th>10311</th>\n",
              "      <td>Ketamine Nasal Spray Shows Promise Against Dep...</td>\n",
              "      <td>1</td>\n",
              "    </tr>\n",
              "    <tr>\n",
              "      <th>10312</th>\n",
              "      <td>dont mistake a bad day with depression everyon...</td>\n",
              "      <td>1</td>\n",
              "    </tr>\n",
              "  </tbody>\n",
              "</table>\n",
              "<p>10313 rows × 2 columns</p>\n",
              "</div>"
            ],
            "text/plain": [
              "                                                    text  label\n",
              "0      just had a real good moment i missssssssss him...      0\n",
              "1                                     is reading manga        0\n",
              "2                                       comeagainjen          0\n",
              "3      lapcat Need to send 'em to my accountant tomor...      0\n",
              "4               ADD ME ON MYSPACE  myspacecomLookThunder      0\n",
              "...                                                  ...    ...\n",
              "10308  Many sufferers of depression aren't sad they f...      1\n",
              "10309  No Depression by G Herbo is my mood from now o...      1\n",
              "10310  What do you do when depression succumbs the br...      1\n",
              "10311  Ketamine Nasal Spray Shows Promise Against Dep...      1\n",
              "10312  dont mistake a bad day with depression everyon...      1\n",
              "\n",
              "[10313 rows x 2 columns]"
            ]
          },
          "metadata": {},
          "execution_count": 27
        }
      ]
    },
    {
      "cell_type": "code",
      "metadata": {
        "id": "qvUYMVPN6quP"
      },
      "source": [
        "dataset.drop( dataset[dataset.text.str.len() < 5].index, inplace=True)"
      ],
      "execution_count": 45,
      "outputs": []
    },
    {
      "cell_type": "code",
      "metadata": {
        "id": "a_Xr8tlL3a7S"
      },
      "source": [
        "dataset.to_csv('data.csv',index=False)"
      ],
      "execution_count": 46,
      "outputs": []
    },
    {
      "cell_type": "code",
      "metadata": {
        "id": "Xc6OW9_T16JT"
      },
      "source": [
        "#Reproducing same results\n",
        "SEED = 2019\n",
        "\n",
        "#Torch\n",
        "torch.manual_seed(SEED)\n",
        "\n",
        "#Cuda algorithms\n",
        "torch.backends.cudnn.deterministic = True  \n",
        "\n",
        "TEXT = data.Field(tokenize='spacy',batch_first=True,include_lengths=True)\n",
        "LABEL = data.LabelField(dtype = torch.float,batch_first=True)\n",
        "\n",
        "fields = [('text',TEXT),('label', LABEL)]"
      ],
      "execution_count": 51,
      "outputs": []
    },
    {
      "cell_type": "code",
      "metadata": {
        "colab": {
          "base_uri": "https://localhost:8080/"
        },
        "id": "djaDwzz716MS",
        "outputId": "6e664157-b5c0-4db6-ae77-380f2cd0514e"
      },
      "source": [
        "#loading custom dataset\n",
        "training_data=data.TabularDataset(path = 'data.csv',format = 'csv',fields = fields,skip_header = True)\n",
        "\n",
        "#print preprocessed text\n",
        "print(vars(training_data.examples[2]))"
      ],
      "execution_count": 52,
      "outputs": [
        {
          "output_type": "stream",
          "name": "stdout",
          "text": [
            "{'text': ['comeagainjen', '   '], 'label': '0'}\n"
          ]
        }
      ]
    },
    {
      "cell_type": "code",
      "metadata": {
        "id": "90l905Vq44Ne"
      },
      "source": [
        "import random\n",
        "train_data, valid_data = training_data.split(split_ratio=0.7, random_state = random.seed(SEED))"
      ],
      "execution_count": 53,
      "outputs": []
    },
    {
      "cell_type": "code",
      "metadata": {
        "colab": {
          "base_uri": "https://localhost:8080/"
        },
        "id": "rl2VRfas16PY",
        "outputId": "4a2bf449-6387-4dcd-e6fc-01a9a447dc02"
      },
      "source": [
        "#initialize glove embeddings\n",
        "TEXT.build_vocab(train_data,min_freq=3,vectors = \"glove.6B.100d\")  \n",
        "LABEL.build_vocab(train_data)\n",
        "\n",
        "#No. of unique tokens in text\n",
        "print(\"Size of TEXT vocabulary:\",len(TEXT.vocab))\n",
        "\n",
        "#No. of unique tokens in label\n",
        "print(\"Size of LABEL vocabulary:\",len(LABEL.vocab))\n",
        "\n",
        "#Commonly used words\n",
        "print(TEXT.vocab.freqs.most_common(10))  \n",
        "\n",
        "#Word dictionary\n",
        "print(TEXT.vocab.stoi)   "
      ],
      "execution_count": 54,
      "outputs": [
        {
          "output_type": "stream",
          "name": "stdout",
          "text": [
            "Size of TEXT vocabulary: 3597\n",
            "Size of LABEL vocabulary: 2\n",
            "[(' ', 3358), ('I', 2710), ('to', 2605), ('the', 2399), ('a', 2107), ('and', 1793), ('you', 1605), ('depression', 1269), ('of', 1252), ('it', 1204)]\n",
            "defaultdict(<bound method Vocab._default_unk_index of <torchtext.legacy.vocab.Vocab object at 0x7f8bd2f6e890>>, {'<unk>': 0, '<pad>': 1, ' ': 2, 'I': 3, 'to': 4, 'the': 5, 'a': 6, 'and': 7, 'you': 8, 'depression': 9, 'of': 10, 'it': 11, 'is': 12, 'my': 13, 'for': 14, 'i': 15, 'in': 16, \"'s\": 17, 'that': 18, 'with': 19, 'on': 20, 'me': 21, 'have': 22, \"n't\": 23, 'so': 24, \"'m\": 25, 'do': 26, 'be': 27, 'your': 28, 'was': 29, '\\xa0': 30, 'are': 31, 'Ã\\x82Â': 32, 'just': 33, 'but': 34, 'this': 35, 'not': 36, 'at': 37, 'out': 38, 'good': 39, 'like': 40, 'all': 41, 'day': 42, 'about': 43, '  ': 44, 'up': 45, 'love': 46, 'can': 47, '¦': 48, 'from': 49, 'get': 50, 'now': 51, 'Depression': 52, 'Ã¢Â\\x80Â': 53, 'know': 54, \"'\": 55, 'time': 56, 'what': 57, 'or': 58, 'today': 59, 'will': 60, 'one': 61, 'go': 62, 'some': 63, 'got': 64, 'we': 65, 'u': 66, 'going': 67, 'as': 68, 'It': 69, 'am': 70, 'anxiety': 71, 'more': 72, 'too': 73, 'if': 74, 'when': 75, 'see': 76, 'back': 77, 'has': 78, 'The': 79, 'lol': 80, 'new': 81, \"'ll\": 82, 'how': 83, \"'re\": 84, 'by': 85, 'no': 86, 'there': 87, 'an': 88, 'much': 89, 'm': 90, 'You': 91, 'great': 92, 'think': 93, 'really': 94, 'here': 95, 'they': 96, 'night': 97, 'people': 98, 'work': 99, 'her': 100, 'had': 101, 'amp': 102, 'thanks': 103, 'then': 104, 'who': 105, 'did': 106, 'nt': 107, 'would': 108, 'well': 109, 'ca': 110, 'haha': 111, 'its': 112, \"'ve\": 113, 'he': 114, 'been': 115, 'feel': 116, 'want': 117, '2': 118, 'them': 119, 'My': 120, 'make': 121, 'off': 122, 'Just': 123, 'life': 124, 'need': 125, 'Emoji': 126, 'happy': 127, 'way': 128, 'better': 129, 'fun': 130, 'morning': 131, 'na': 132, 'still': 133, 'again': 134, 'should': 135, 'Good': 136, 'hope': 137, 'last': 138, 'home': 139, 'she': 140, 'only': 141, 'over': 142, 'And': 143, 'bed': 144, 'gon': 145, 'right': 146, 'very': 147, 'Thanks': 148, 'being': 149, 'twitter': 150, '\\xa0 ': 151, 'than': 152, 'everyone': 153, 'face': 154, 'into': 155, '_': 156, 'could': 157, 'nice': 158, 'tomorrow': 159, 'We': 160, 'does': 161, 'wait': 162, 'help': 163, 'even': 164, 'never': 165, 'us': 166, 'because': 167, 'someone': 168, 'after': 169, 'oh': 170, 'What': 171, 'getting': 172, 'take': 173, 'first': 174, 'something': 175, 'come': 176, 'say': 177, 'How': 178, 'our': 179, 'awesome': 180, 'best': 181, 'were': 182, 'That': 183, 'bad': 184, 'friends': 185, 'made': 186, 'his': 187, 'sure': 188, 'thing': 189, 'doing': 190, 'things': 191, '   ': 192, 'days': 193, 'down': 194, 'tonight': 195, 'done': 196, 'guys': 197, 'long': 198, 'school': 199, '3': 200, 'So': 201, '4': 202, 'cool': 203, 's': 204, 'watching': 205, 'look': 206, 'ready': 207, 'their': 208, 'though': 209, 'But': 210, 'having': 211, 'week': 212, 'Happy': 213, 'let': 214, 'mental': 215, 'next': 216, 'always': 217, 'ever': 218, 'sleep': 219, 'try': 220, 'while': 221, 'This': 222, 'excited': 223, 'myself': 224, 'soon': 225, 'those': 226, 'watch': 227, 'why': 228, 'other': 229, 'thank': 230, 'weekend': 231, 'him': 232, 'If': 233, 'lot': 234, 'Have': 235, 'Thank': 236, 'friend': 237, 'hey': 238, 'where': 239, 'A': 240, 'Do': 241, 'LOL': 242, 'No': 243, \"'d\": 244, 'every': 245, 'real': 246, 'song': 247, 'through': 248, 'yeah': 249, 'already': 250, 'amazing': 251, 'feeling': 252, 'follow': 253, 'health': 254, 'show': 255, 'world': 256, 'went': 257, 'makes': 258, 'ok': 259, 'please': 260, 'ur': 261, '5': 262, 'around': 263, 'give': 264, 'lt3': 265, 'little': 266, 'such': 267, 'year': 268, 'yes': 269, 'Is': 270, 'Oh': 271, 'few': 272, 'glad': 273, 'many': 274, 'pretty': 275, 'x': 276, '1': 277, 'Great': 278, 'actually': 279, 'movie': 280, 'also': 281, 'hard': 282, 'via': 283, 'Hey': 284, 'Twitter': 285, 'Well': 286, 'shit': 287, 'tweet': 288, 'wo': 289, 'years': 290, 'Not': 291, 'kids': 292, 'sun': 293, 'use': 294, 'working': 295, 'find': 296, 'girl': 297, 'job': 298, 'man': 299, 'nothing': 300, 'same': 301, 'which': 302, 'another': 303, 'beautiful': 304, 'before': 305, 'check': 306, 'house': 307, 'post': 308, 'read': 309, 'talk': 310, 'any': 311, 'big': 312, 'enjoy': 313, 'hours': 314, 'may': 315, 'said': 316, 'start': 317, 'looking': 318, 'music': 319, 'tell': 320, 'enough': 321, 'person': 322, 'trying': 323, 'wanna': 324, 'wish': 325, 'She': 326, 'bit': 327, 'n': 328, 'sorry': 329, 'anything': 330, 'away': 331, 'birthday': 332, 'coming': 333, 'dinner': 334, 'eating': 335, 'keep': 336, 'later': 337, 'live': 338, 'miss': 339, 'these': 340, 'waiting': 341, 'ya': 342, 'He': 343, 'finally': 344, 'thinking': 345, 'times': 346, 'two': 347, 'yet': 348, 'On': 349, 'both': 350, 'mom': 351, 'old': 352, 'stop': 353, 'thought': 354, '°': 355, 'most': 356, 'party': 357, 'At': 358, 'Love': 359, 'baby': 360, 'cute': 361, 'early': 362, 'eat': 363, 'family': 364, 'hit': 365, 'listening': 366, 'luck': 367, 'might': 368, 'video': 369, 'weather': 370, 'Hi': 371, 'everything': 372, 'hair': 373, 'least': 374, 'once': 375, 'put': 376, 'used': 377, 'Got': 378, 'Hope': 379, 'In': 380, 'Me': 381, 'They': 382, 'When': 383, 'emotional': 384, 'hear': 385, 'making': 386, 'stuff': 387, 'summer': 388, 'till': 389, 'tired': 390, '10': 391, 'Going': 392, 'almost': 393, 'anyone': 394, 'blog': 395, 'care': 396, 'food': 397, 'found': 398, 'game': 399, 'own': 400, 'since': 401, 'stress': 402, 'true': 403, '100': 404, 'Mom': 405, 'THE': 406, 'guess': 407, 'maybe': 408, 'money': 409, 'outside': 410, 'room': 411, 'sad': 412, 'study': 413, 'using': 414, 'xx': 415, 'yay': 416, 'Now': 417, 'called': 418, 'else': 419, 'followers': 420, 'free': 421, 'fucking': 422, 'heart': 423, 'left': 424, 'looks': 425, 'lovely': 426, 'pain': 427, 'pay': 428, 'phone': 429, 'taking': 430, 'without': 431, 'Ca': 432, 'Day': 433, 'God': 434, 'Its': 435, 'There': 436, 'Your': 437, 'anyway': 438, 'coffee': 439, 'hot': 440, 'late': 441, 'mean': 442, 'play': 443, 'talking': 444, 'w': 445, 'yesterday': 446, 'For': 447, 'To': 448, 'buy': 449, 'cause': 450, 'crazy': 451, 'development': 452, 'faceEmoji': 453, 'following': 454, 'helps': 455, 'mentalhealth': 456, 'mind': 457, 'place': 458, 'remember': 459, 'sounds': 460, 'told': 461, 'whole': 462, 'LOVE': 463, 'Lol': 464, 'Why': 465, 'YOU': 466, 'add': 467, 'book': 468, 'email': 469, 'far': 470, 'forward': 471, 'funny': 472, 'illness': 473, 'loved': 474, 'pic': 475, 'ta': 476, 'totally': 477, 'welcome': 478, 'Get': 479, 'Morning': 480, 'Watching': 481, 'Yes': 482, 'came': 483, 'crying': 484, 'easy': 485, 'end': 486, 'etc': 487, 'others': 488, 'playing': 489, 'quite': 490, 'reason': 491, 'self': 492, 'stay': 493, 'suffering': 494, 'support': 495, 'thoughts': 496, 'took': 497, 'Maybe': 498, 'New': 499, 'Time': 500, 'Yeah': 501, 'ago': 502, 'ass': 503, 'call': 504, 'children': 505, 'cured': 506, 'fine': 507, 'ha': 508, 'hate': 509, 'light': 510, 'nap': 511, 'okay': 512, 'probably': 513, 'red': 514, 'side': 515, 'skin': 516, 'tied': 517, 'won': 518, 'wow': 519, '20': 520, '7': 521, 'All': 522, 'Haha': 523, 'More': 524, 'damn': 525, 'depressed': 526, 'full': 527, 'hand': 528, 'head': 529, 'hehe': 530, 'hi': 531, 'intellectual': 532, 'interesting': 533, 'seeing': 534, '©': 535, '6': 536, 'appreciate': 537, 'car': 538, 'comes': 539, 'during': 540, 'forget': 541, 'gone': 542, 'happen': 543, 'idea': 544, 'ill': 545, 'listen': 546, 'mine': 547, 'saw': 548, 'second': 549, 'story': 550, 'sweet': 551, 'train': 552, 'tweets': 553, 'wanted': 554, 'wants': 555, 'Anxiety': 556, 'Can': 557, 'Once': 558, 'Please': 559, 'Will': 560, 'With': 561, 'Yay': 562, 'ai': 563, 'album': 564, 'busy': 565, 'gt': 566, 'hahaha': 567, 'lost': 568, 'lunch': 569, 'name': 570, 'part': 571, 'rain': 572, 'shopping': 573, 'super': 574, 'trip': 575, 'win': 576, 'wrong': 577, 'Let': 578, 'Life': 579, 'Nice': 580, 'Wow': 581, 'band': 582, 'believe': 583, 'class': 584, 'college': 585, 'definitely': 586, 'disorder': 587, 'favorite': 588, 'gets': 589, 'hopefully': 590, 'mood': 591, 'movies': 592, 'run': 593, 'seen': 594, 'set': 595, 'share': 596, 'understand': 597, 'worry': 598, 'worth': 599, 'yourself': 600, 'DEPRESSION': 601, 'Had': 602, 'IT': 603, 'June': 604, 'Only': 605, 'Smiling': 606, 'Today': 607, ']': 608, 'able': 609, 'afternoon': 610, 'course': 611, 'experience': 612, 'hell': 613, 'leave': 614, 'must': 615, 'point': 616, 'ppl': 617, 'problem': 618, 'severe': 619, 'together': 620, 'tommcfly': 621, 'top': 622, 'visit': 623, 'watched': 624, 'wedding': 625, 'y': 626, 'As': 627, 'D': 628, 'One': 629, 'Sunday': 630, 'U': 631, 'bipolar': 632, 'bought': 633, 'boy': 634, 'brain': 635, 'bring': 636, 'btw': 637, 'change': 638, 'deal': 639, 'decided': 640, 'fight': 641, 'heard': 642, 'hello': 643, 'laugh': 644, 'lmao': 645, 'mother': 646, 'page': 647, 'pick': 648, 'problems': 649, 'proud': 650, 'reply': 651, 'says': 652, 'seems': 653, 'shower': 654, 'sign': 655, 'sleeping': 656, 'social': 657, 'suffer': 658, 'suicide': 659, 'wonderful': 660, 'write': 661, 'Are': 662, 'Face': 663, 'Goodnight': 664, 'Last': 665, 'May': 666, 'Off': 667, 'Saturday': 668, 'ask': 669, 'b': 670, 'bitch': 671, 'breakfast': 672, 'cold': 673, 'cure': 674, 'drug': 675, 'evening': 676, 'fall': 677, 'finished': 678, 'god': 679, 'issues': 680, 'link': 681, 'meet': 682, 'months': 683, 'online': 684, 'past': 685, 'perfect': 686, 'positive': 687, 'risk': 688, 'rock': 689, 'send': 690, 'site': 691, 'state': 692, 'sucks': 693, 'tears': 694, 'until': 695, 'worse': 696, '12': 697, '1st': 698, 'AND': 699, 'Getting': 700, 'Here': 701, 'NOT': 702, 'OMG': 703, 'YAY': 704, 'YouTube': 705, 'awake': 706, 'bc': 707, 'business': 708, 'dark': 709, 'drinking': 710, 'enjoying': 711, 'fuck': 712, 'gave': 713, 'giving': 714, 'guy': 715, 'joke': 716, 'joy': 717, 'less': 718, 'low': 719, 'nights': 720, 'reading': 721, 'rest': 722, 'saying': 723, 'serious': 724, 'songs': 725, 'starting': 726, 'tho': 727, 'weeks': 728, 'white': 729, 'works': 730, 'Be': 731, 'Finally': 732, 'Friday': 733, 'Go': 734, 'Having': 735, 'Like': 736, 'ME': 737, 'MY': 738, 'Night': 739, 'SO': 740, '[': 741, 'alone': 742, 'along': 743, 'answer': 744, 'asleep': 745, 'bout': 746, 'break': 747, 'cannabis': 748, 'drive': 749, 'each': 750, 'followfriday': 751, 'garden': 752, 'goodnight': 753, 'guitar': 754, 'half': 755, 'hands': 756, 'kind': 757, 'learn': 758, 'mileycyrus': 759, 'moment': 760, 'ones': 761, 'picture': 762, 'r': 763, 'started': 764, 'tea': 765, 'text': 766, 'vip': 767, 'Back': 768, 'Did': 769, 'Heavy': 770, 'Loudly': 771, 'ON': 772, 'TO': 773, 'US': 774, 'Up': 775, 'aww': 776, 'bday': 777, 'beach': 778, 'become': 779, 'chronic': 780, 'concert': 781, 'cut': 782, 'dad': 783, 'different': 784, 'especially': 785, 'exactly': 786, 'exercise': 787, 'helped': 788, 'kinda': 789, 'liked': 790, 'living': 791, 'loves': 792, 'luv': 793, 'month': 794, 'needs': 795, 'physical': 796, 'piece': 797, 'season': 798, 'therapy': 799, 'type': 800, '    ': 801, '30': 802, 'About': 803, 'Best': 804, 'Cool': 805, 'FOR': 806, 'Hello': 807, 'IS': 808, 'Ok': 809, 'Still': 810, 'congrats': 811, 'crippling': 812, 'ddlovato': 813, 'deep': 814, 'deserve': 815, 'dude': 816, 'either': 817, 'episode': 818, 'fact': 819, 'film': 820, 'friday': 821, 'girls': 822, 'goes': 823, 'high': 824, 'join': 825, 'knew': 826, 'knows': 827, 'lazy': 828, 'myspace': 829, 'news': 830, 'nite': 831, 'number': 832, 'o': 833, 'often': 834, 'open': 835, 'p': 836, 'pm': 837, 'sick': 838, 'sitting': 839, 'sometimes': 840, 'symptoms': 841, 'tour': 842, 'training': 843, 'tried': 844, 'turn': 845, 'under': 846, 'vacation': 847, 'walk': 848, 'woke': 849, 'wonder': 850, 'Ah': 851, 'Check': 852, 'Glad': 853, 'Monday': 854, 'Or': 855, 'People': 856, 'Then': 857, 'Weary': 858, 'Who': 859, 'Wish': 860, 'absolutely': 861, 'agree': 862, 'art': 863, 'awww': 864, 'behind': 865, 'chance': 866, 'computer': 867, 'couple': 868, 'daily': 869, 'dealing': 870, 'drink': 871, 'everybody': 872, 'eyes': 873, 'fans': 874, 'fit': 875, 'green': 876, 'healthy': 877, 'history': 878, 'honestly': 879, 'hour': 880, 'instead': 881, 'lets': 882, 'literally': 883, 'lucky': 884, 'matter': 885, 'mcflyforgermany': 886, 'men': 887, 'million': 888, 'missed': 889, 'panic': 890, 'parents': 891, 'peace': 892, 'photo': 893, 'pizza': 894, 'plan': 895, 'puff': 896, 'running': 897, 'safe': 898, 'sex': 899, 'shows': 900, 'sing': 901, 'smile': 902, 'special': 903, 'spend': 904, 'struggling': 905, 'sunshine': 906, 'teens': 907, 'tweeting': 908, 'wake': 909, 'words': 910, 'worked': 911, 'worst': 912, 'wrote': 913, 'yours': 914, 'Â\\x95Ã«Â´Â\\x84Ã¬Â': 915, 'Â\\x9cÃ«Â': 916, 'Â\\x9cÃ«Â\\x82Â´Ã«Â²Â\\x84Ã«Â': 917, 'Ã«Â': 918, '8': 919, 'Am': 920, 'Another': 921, 'Birthday': 922, 'Everyone': 923, 'Looking': 924, 'OF': 925, 'Read': 926, 'Was': 927, 'battle': 928, 'books': 929, 'broke': 930, 'cream': 931, 'death': 932, 'fan': 933, 'fighting': 934, 'graduation': 935, 'helping': 936, 'important': 937, 'interview': 938, 'knowing': 939, 'media': 940, 'move': 941, 'pictures': 942, 'raining': 943, 'sent': 944, 'sister': 945, 'straight': 946, 'strong': 947, 'struggle': 948, 'sunny': 949, 'supposed': 950, 'taken': 951, 'thinks': 952, 'three': 953, 'til': 954, 'truly': 955, 'tv': 956, 'war': 957, 'water': 958, 'weight': 959, '16': 960, 'ALL': 961, 'After': 962, 'Also': 963, 'Awesome': 964, 'Facebook': 965, 'Help': 966, 'July': 967, 'LA': 968, 'Listening': 969, 'Man': 970, 'Okay': 971, 'Right': 972, 'UP': 973, 'alot': 974, 'anymore': 975, 'attacks': 976, 'beat': 977, 'body': 978, 'case': 979, 'catch': 980, 'caused': 981, 'chat': 982, 'church': 983, 'clean': 984, 'comment': 985, 'cos': 986, 'date': 987, 'def': 988, 'ease': 989, 'enjoyed': 990, 'feels': 991, 'finish': 992, 'fix': 993, 'forgot': 994, 'gives': 995, 'hang': 996, 'happiness': 997, 'heading': 998, 'human': 999, 'jealous': 1000, 'keeps': 1001, 'lil': 1002, 'longer': 1003, 'message': 1004, 'minute': 1005, 'minutes': 1006, 'monday': 1007, 'pool': 1008, 'posted': 1009, 're': 1010, 'relax': 1011, 'research': 1012, 'ride': 1013, 'sexy': 1014, 'shall': 1015, 'short': 1016, 'sooo': 1017, 'stupid': 1018, 'style': 1019, 'suicidal': 1020, 'takes': 1021, 'team': 1022, 'test': 1023, 'town': 1024, 'update': 1025, 've': 1026, 'view': 1027, 'warm': 1028, 'weird': 1029, 'wine': 1030, 'winning': 1031, 'xxx': 1032, 'young': 1033, 'Â¤Ã«Â\\x91Â\\x90Ã¬Â\\x84Â¸Ã¬Â\\x9aÂ\\x94': 1034, 'AM': 1035, 'Congrats': 1036, 'Could': 1037, 'Enjoy': 1038, 'Exercise': 1039, 'Follow': 1040, 'MentalHealth': 1041, 'Mother': 1042, 'Need': 1043, 'News': 1044, 'Of': 1045, 'Our': 1046, 'Park': 1047, 'Really': 1048, 'See': 1049, 'Suicide': 1050, 'THAT': 1051, 'Take': 1052, 'Very': 1053, 'Welcome': 1054, 'account': 1055, 'actual': 1056, 'against': 1057, 'anytime': 1058, 'attention': 1059, 'background': 1060, 'between': 1061, 'black': 1062, 'boys': 1063, 'chill': 1064, 'choice': 1065, 'close': 1066, 'cry': 1067, 'cuz': 1068, 'depressionanxiety': 1069, 'disease': 1070, 'doctor': 1071, 'door': 1072, 'energy': 1073, 'fb': 1074, 'felt': 1075, 'figure': 1076, 'final': 1077, 'followed': 1078, 'goin': 1079, 'hahahaha': 1080, 'hanging': 1081, 'hits': 1082, 'homework': 1083, 'huge': 1084, 'hungry': 1085, 'hurt': 1086, 'indeed': 1087, 'internet': 1088, 'issue': 1089, 'line': 1090, 'lose': 1091, 'meant': 1092, 'meds': 1093, 'met': 1094, 'middle': 1095, 'model': 1096, 'mothers': 1097, 'mouth': 1098, 'nobody': 1099, 'normal': 1100, 'omg': 1101, 'pass': 1102, 'patients': 1103, 'plans': 1104, 'played': 1105, 'poor': 1106, 'questions': 1107, 'regularly': 1108, 'rise': 1109, 'secret': 1110, 'seem': 1111, 'signs': 1112, 'smiling': 1113, 'society': 1114, 'soooo': 1115, 'suffered': 1116, 'sunday': 1117, 'updates': 1118, 'voice': 1119, 'walking': 1120, 'ways': 1121, 'word': 1122, 'wwwtweeteraddercom': 1123, 'xoxo': 1124, 'yummy': 1125, \"'S\": 1126, '21': 1127, '25': 1128, 'AWESOME': 1129, 'Almost': 1130, 'Avoid': 1131, 'Bom': 1132, 'DAY': 1133, 'DM': 1134, 'Even': 1135, 'Friends': 1136, 'IN': 1137, 'JUST': 1138, 'Miley': 1139, 'Most': 1140, 'Mothers': 1141, 'Mr': 1142, 'Nothing': 1143, 'O': 1144, 'OK': 1145, 'PTSD': 1146, 'S': 1147, 'Should': 1148, 'Sounds': 1149, 'Tomorrow': 1150, 'UK': 1151, 'activity': 1152, 'added': 1153, 'addiction': 1154, 'age': 1155, 'anger': 1156, 'article': 1157, 'ate': 1158, 'awards': 1159, 'beer': 1160, 'blue': 1161, 'bottle': 1162, 'brother': 1163, 'bye': 1164, 'cake': 1165, 'camera': 1166, 'cares': 1167, 'causes': 1168, 'choiceDepression': 1169, 'constantly': 1170, 'cook': 1171, 'cooking': 1172, 'cousin': 1173, 'cover': 1174, 'crap': 1175, 'da': 1176, 'dance': 1177, 'dream': 1178, 'dreams': 1179, 'driving': 1180, 'exam': 1181, 'fake': 1182, 'fingers': 1183, 'group': 1184, 'hahah': 1185, 'highly': 1186, 'however': 1187, 'ice': 1188, 'imagine': 1189, 'info': 1190, 'inside': 1191, 'ist': 1192, 'june': 1193, 'kick': 1194, 'ladies': 1195, 'laptop': 1196, 'lately': 1197, 'learning': 1198, 'list': 1199, 'loneliness': 1200, 'lots': 1201, 'mall': 1202, 'massive': 1203, 'medication': 1204, 'medium': 1205, 'meeting': 1206, 'miley': 1207, 'moon': 1208, 'mum': 1209, 'pack': 1210, 'packing': 1211, 'passed': 1212, 'pleasure': 1213, 'porn': 1214, 'pray': 1215, 'present': 1216, 'pressure': 1217, 'promise': 1218, 'question': 1219, 'record': 1220, 'relationship': 1221, 'rn': 1222, 'road': 1223, 'round': 1224, 'row': 1225, 'scared': 1226, 'single': 1227, 'small': 1228, 'soo': 1229, 'sound': 1230, 'spending': 1231, 'stigma': 1232, 'talks': 1233, 'terrible': 1234, 'topic': 1235, 'trauma': 1236, 'treatment': 1237, 'vote': 1238, 'wearing': 1239, 'website': 1240, 'whether': 1241, 'wife': 1242, 'woo': 1243, 'writing': 1244, 'xD': 1245, 'yum': 1246, 'Ã': 1247, 'Ã¢Â\\x80Â\\x93': 1248, '24': 1249, '30SECONDSTOMARS': 1250, '9': 1251, 'Aww': 1252, 'Been': 1253, 'By': 1254, 'City': 1255, 'Come': 1256, 'Congratulations': 1257, 'Disney': 1258, 'Does': 1259, 'Enjoying': 1260, 'Especially': 1261, 'Exercising': 1262, 'FINALLY': 1263, 'Feeling': 1264, 'Free': 1265, 'Heading': 1266, 'Jesus': 1267, 'Lakers': 1268, 'Live': 1269, 'Never': 1270, 'PLEASE': 1271, 'PM': 1272, 'Person': 1273, 'Playing': 1274, 'Running': 1275, 'Show': 1276, 'Sometimes': 1277, 'TV': 1278, 'Tell': 1279, 'Therapy': 1280, 'Things': 1281, 'Trump': 1282, 'Vaastu': 1283, 'Where': 1284, 'Which': 1285, 'World': 1286, 'XD': 1287, 'abt': 1288, 'afraid': 1289, 'babe': 1290, 'bar': 1291, 'based': 1292, 'bet': 1293, 'beyond': 1294, 'bless': 1295, 'bored': 1296, 'boring': 1297, 'bother': 1298, 'brothers': 1299, 'bus': 1300, 'cancer': 1301, 'card': 1302, 'chicken': 1303, 'clothes': 1304, 'control': 1305, 'cuts': 1306, 'd': 1307, 'dear': 1308, 'developing': 1309, 'diagnosed': 1310, 'die': 1311, 'dougiemcfly': 1312, 'drunk': 1313, 'due': 1314, 'earlier': 1315, 'effects': 1316, 'eh': 1317, 'emotions': 1318, 'entire': 1319, 'escape': 1320, 'everyday': 1321, 'fabulous': 1322, 'falling': 1323, 'fantastic': 1324, 'fast': 1325, 'fat': 1326, 'fav': 1327, 'favourite': 1328, 'focus': 1329, 'front': 1330, 'glass': 1331, 'gym': 1332, 'hangover': 1333, 'happened': 1334, 'headed': 1335, 'heartEmoji': 1336, 'heartshaped': 1337, 'hold': 1338, 'hoping': 1339, 'hug': 1340, 'hugs': 1341, 'huh': 1342, 'including': 1343, 'jordanknight': 1344, 'kill': 1345, 'leaving': 1346, 'level': 1347, 'lives': 1348, 'lonely': 1349, 'losing': 1350, 'loving': 1351, 'mad': 1352, 'major': 1353, 'married': 1354, 'missing': 1355, 'mix': 1356, 'moved': 1357, 'moving': 1358, 'offer': 1359, 'officially': 1360, 'older': 1361, 'overcome': 1362, 'personal': 1363, 'planned': 1364, 'planning': 1365, 'podcast': 1366, 'power': 1367, 'psychology': 1368, 'purpose': 1369, 'quality': 1370, 'reasons': 1371, 'sense': 1372, 'session': 1373, 'shoes': 1374, 'shop': 1375, 'showing': 1376, 'sit': 1377, 'situation': 1378, 'slept': 1379, 'smoke': 1380, 'star': 1381, 'street': 1382, 'swear': 1383, 'table': 1384, 'tan': 1385, 'thx': 1386, 'tickets': 1387, 'tone': 1388, 'toneEmoji': 1389, 'trust': 1390, 'turned': 1391, 'twice': 1392, 'updated': 1393, 'videos': 1394, 'waking': 1395, 'wear': 1396, 'web': 1397, 'women': 1398, 'workout': 1399, 'yea': 1400, 'Ã¢Â\\x80Â\\x94': 1401, '     ': 1402, '1000': 1403, '2nite': 1404, '300': 1405, '50': 1406, 'ARE': 1407, 'Amazing': 1408, 'Americans': 1409, 'App': 1410, 'Because': 1411, 'Big': 1412, 'Black': 1413, 'Call': 1414, 'Crying': 1415, 'DO': 1416, \"DON'T\": 1417, 'English': 1418, 'Every': 1419, 'First': 1420, 'G': 1421, 'GET': 1422, 'GO': 1423, 'Gon': 1424, 'Harry': 1425, 'Health': 1426, 'John': 1427, 'Jonas': 1428, 'Jonasbrothers': 1429, 'Keep': 1430, 'Looks': 1431, 'Many': 1432, 'Mental': 1433, 'NO': 1434, 'Out': 1435, 'Pensive': 1436, 'Post': 1437, 'Power': 1438, 'Saw': 1439, 'Sitting': 1440, 'Some': 1441, 'Struggle': 1442, 'Sweet': 1443, 'These': 1444, 'Tim': 1445, 'Too': 1446, 'Trying': 1447, 'Tuesday': 1448, 'Two': 1449, 'advice': 1450, 'affect': 1451, 'ages': 1452, 'ahh': 1453, 'alright': 1454, 'anxietydepression': 1455, 'apple': 1456, 'area': 1457, 'avatar': 1458, 'bike': 1459, 'blame': 1460, 'brought': 1461, 'buying': 1462, 'calling': 1463, 'cd': 1464, 'changes': 1465, 'city': 1466, 'closer': 1467, 'company': 1468, 'condition': 1469, 'conditions': 1470, 'contact': 1471, 'content': 1472, 'continue': 1473, 'conversations': 1474, 'cookies': 1475, 'copy': 1476, 'count': 1477, 'country': 1478, 'created': 1479, 'crossed': 1480, 'design': 1481, 'diet': 1482, 'difficult': 1483, 'dog': 1484, 'doin': 1485, 'double': 1486, 'doubt': 1487, 'drama': 1488, 'dress': 1489, 'earth': 1490, 'eggs': 1491, 'evidence': 1492, 'except': 1493, 'exciting': 1494, 'extra': 1495, 'fam': 1496, 'fave': 1497, 'ff': 1498, 'fixed': 1499, 'flowers': 1500, 'fly': 1501, 'fresh': 1502, 'future': 1503, 'girlfriend': 1504, 'greatest': 1505, 'happens': 1506, 'harm': 1507, 'healing': 1508, 'hrs': 1509, 'hubby': 1510, 'idk': 1511, 'imma': 1512, 'improve': 1513, 'information': 1514, 'insomnia': 1515, 'jobs': 1516, 'keeping': 1517, 'kicking': 1518, 'lack': 1519, 'lady': 1520, 'learned': 1521, 'local': 1522, 'looked': 1523, 'means': 1524, 'meditation': 1525, 'memory': 1526, 'miles': 1527, 'mostly': 1528, 'naps': 1529, 'nearly': 1530, 'nom': 1531, 'note': 1532, 'opening': 1533, 'orange': 1534, 'paint': 1535, 'perhaps': 1536, 'pics': 1537, 'possible': 1538, 'postpartum': 1539, 'posts': 1540, 'practice': 1541, 'prevent': 1542, 'properly': 1543, 'pull': 1544, 'realize': 1545, 'realized': 1546, 'recommend': 1547, 'response': 1548, 'sadDepression': 1549, 'sadness': 1550, 'saved': 1551, 'sending': 1552, 'service': 1553, 'shot': 1554, 'singing': 1555, 'sis': 1556, 'sky': 1557, 'sleepy': 1558, 'slowly': 1559, 'smell': 1560, 'son': 1561, 'sort': 1562, 'speaking': 1563, 'spent': 1564, 'spread': 1565, 'step': 1566, 'stuck': 1567, 'students': 1568, 'suck': 1569, 'suggests': 1570, 'taste': 1571, 'teacher': 1572, 'terms': 1573, 'thru': 1574, 'touch': 1575, 'track': 1576, 'treating': 1577, 'truck': 1578, 'usually': 1579, 'vodka': 1580, 'votes': 1581, 'vs': 1582, 'weed': 1583, 'wins': 1584, 'wit': 1585, 'woman': 1586, '«': 1587, '0': 1588, '11': 1589, '15': 1590, '18002738255': 1591, '22': 1592, '2nd': 1593, 'AMAZING': 1594, 'AT': 1595, 'Always': 1596, 'Anyway': 1597, 'BTW': 1598, 'Beautiful': 1599, 'Bout': 1600, 'Cat': 1601, 'DEATH': 1602, 'DavidArchie': 1603, 'DonnieWahlberg': 1604, 'Eating': 1605, 'Family': 1606, 'Federal': 1607, 'From': 1608, 'Funny': 1609, 'GREAT': 1610, 'HAVE': 1611, 'Ha': 1612, 'Harmful': 1613, 'Helps': 1614, 'ITS': 1615, 'J': 1616, 'James': 1617, 'JonathanRKnight': 1618, 'Know': 1619, 'L': 1620, 'Listen': 1621, 'London': 1622, 'Long': 1623, 'Look': 1624, 'MUCH': 1625, 'Make': 1626, 'Mark': 1627, 'Music': 1628, 'National': 1629, 'Next': 1630, 'Obama': 1631, 'Omg': 1632, 'Party': 1633, 'Phrases': 1634, 'Pink': 1635, 'Potentially': 1636, 'Pretty': 1637, 'RT': 1638, 'Same': 1639, 'Social': 1640, 'Sorry': 1641, 'Spent': 1642, 'Sure': 1643, 'Talks': 1644, 'Those': 1645, 'Thursday': 1646, 'Tom': 1647, 'Use': 1648, 'WILL': 1649, 'WOW': 1650, 'Waving': 1651, 'While': 1652, 'Working': 1653, 'YES': 1654, 'YOUR': 1655, 'according': 1656, 'act': 1657, 'active': 1658, 'addicted': 1659, 'admit': 1660, 'ah': 1661, 'ahead': 1662, 'airport': 1663, 'annoying': 1664, 'apart': 1665, 'arrived': 1666, 'asked': 1667, 'attack': 1668, 'aw': 1669, 'basically': 1670, 'bb': 1671, 'bear': 1672, 'beers': 1673, 'bigger': 1674, 'birds': 1675, 'blessed': 1676, 'board': 1677, 'bro': 1678, 'bunch': 1679, 'carry': 1680, 'causing': 1681, 'changed': 1682, 'cheese': 1683, 'choose': 1684, 'classes': 1685, 'clinical': 1686, 'clue': 1687, 'color': 1688, 'combat': 1689, 'common': 1690, 'constant': 1691, 'cope': 1692, 'creative': 1693, 'daughter': 1694, 'de': 1695, 'debt': 1696, 'decision': 1697, 'diagnosis': 1698, 'drop': 1699, 'drugs': 1700, 'em': 1701, 'ends': 1702, 'epic': 1703, 'event': 1704, 'exams': 1705, 'explain': 1706, 'famous': 1707, 'fell': 1708, 'field': 1709, 'filled': 1710, 'finds': 1711, 'five': 1712, 'floor': 1713, 'folded': 1714, 'football': 1715, 'forever': 1716, 'fully': 1717, 'games': 1718, 'glasses': 1719, 'goodness': 1720, 'google': 1721, 'grow': 1722, 'happening': 1723, 'hilarious': 1724, 'himself': 1725, 'hitting': 1726, 'hmm': 1727, 'holiday': 1728, 'honor': 1729, 'hurts': 1730, 'husband': 1731, 'interested': 1732, 'jonas': 1733, 'july': 1734, 'k': 1735, 'kid': 1736, 'known': 1737, 'land': 1738, 'lead': 1739, 'letting': 1740, 'lie': 1741, 'ma': 1742, 'main': 1743, 'mama': 1744, 'medical': 1745, 'mentalillness': 1746, 'mention': 1747, 'millennials': 1748, 'mindfulness': 1749, 'mins': 1750, 'moms': 1751, 'mtv': 1752, 'near': 1753, 'needed': 1754, 'negative': 1755, 'notice': 1756, 'office': 1757, 'opinion': 1758, 'ordered': 1759, 'outfit': 1760, 'overall': 1761, 'photos': 1762, 'places': 1763, 'playlist': 1764, 'pls': 1765, 'process': 1766, 'puppy': 1767, 'quick': 1768, 'quit': 1769, 'random': 1770, 'rather': 1771, 'realise': 1772, 'relaxing': 1773, 'rt': 1774, 'sa': 1775, 'saturday': 1776, 'screen': 1777, 'seasonal': 1778, 'series': 1779, 'seriously': 1780, 'setting': 1781, 'several': 1782, 'shares': 1783, 'shine': 1784, 'shirt': 1785, 'shots': 1786, 'sir': 1787, 'slow': 1788, 'somebody': 1789, 'somehow': 1790, 'sore': 1791, 'soup': 1792, 'speak': 1793, 'stars': 1794, 'staying': 1795, 'stoked': 1796, 'stressed': 1797, 'stressing': 1798, 'subject': 1799, 'survived': 1800, 'system': 1801, 't': 1802, 'thread': 1803, 'ticket': 1804, 'tip': 1805, 'treat': 1806, 'trigger': 1807, 'twilight': 1808, 'ugh': 1809, 'ugly': 1810, 'whatever': 1811, 'wild': 1812, 'within': 1813, 'wondering': 1814, 'woot': 1815, 'worries': 1816, 'written': 1817, 'wwwtweeterfollowcom': 1818, \"y'\": 1819, 'yep': 1820, 'youtube': 1821, 'yrs': 1822, 'yup': 1823, 'Ã¢â\\x84¢Â': 1824, '13th': 1825, '140': 1826, '18': 1827, '3rd': 1828, '40': 1829, '7th': 1830, 'Actually': 1831, 'Addiction': 1832, 'An': 1833, 'Anyone': 1834, 'August': 1835, 'Awwww': 1836, 'B': 1837, 'BBQ': 1838, 'BE': 1839, 'BIG': 1840, 'Being': 1841, 'Bowie': 1842, 'British': 1843, 'Bush': 1844, 'Canada': 1845, 'Chris': 1846, 'David': 1847, 'Deepika': 1848, 'Disappointed': 1849, 'Dr': 1850, 'E3': 1851, 'Everybody': 1852, 'FUN': 1853, 'GOT': 1854, 'HAPPY': 1855, 'HE': 1856, 'Hahaha': 1857, 'His': 1858, 'Hmm': 1859, 'Hmmm': 1860, 'House': 1861, 'IM': 1862, 'Idk': 1863, 'Irish': 1864, 'KimKardashian': 1865, 'LIFE': 1866, 'Living': 1867, 'MTV': 1868, 'Made': 1869, 'Men': 1870, 'Michelle': 1871, 'Might': 1872, 'Mike': 1873, 'Moon': 1874, 'Must': 1875, 'NEW': 1876, 'NIMHgov': 1877, 'NOTHING': 1878, 'OH': 1879, 'OUR': 1880, 'Over': 1881, 'PR': 1882, 'Part': 1883, 'Perhaps': 1884, 'R': 1885, 'REALLY': 1886, 'Ready': 1887, 'Real': 1888, 'Save': 1889, 'Say': 1890, 'Seattle': 1891, 'Sims': 1892, 'Skype': 1893, 'Sleep': 1894, 'Sleeping': 1895, 'Slightly': 1896, 'South': 1897, 'Star': 1898, 'Symptoms': 1899, 'THANK': 1900, 'TWITTER': 1901, 'Taking': 1902, 'Thanx': 1903, 'Think': 1904, 'Totally': 1905, 'Trek': 1906, 'Twittering': 1907, 'Um': 1908, 'War': 1909, 'Went': 1910, 'Whatever': 1911, 'Woot': 1912, 'Wossy': 1913, 'Yep': 1914, 'Yesterday': 1915, 'ampamp': 1916, 'anniversary': 1917, 'artist': 1918, 'available': 1919, 'awareness': 1920, 'bag': 1921, 'baseball': 1922, 'bath': 1923, 'belly': 1924, 'bible': 1925, 'biggest': 1926, 'bitches': 1927, 'blast': 1928, 'blend': 1929, 'blood': 1930, 'bom': 1931, 'breaking': 1932, 'breeze': 1933, 'brush': 1934, 'burn': 1935, 'c': 1936, 'camp': 1937, 'cards': 1938, 'cars': 1939, 'cases': 1940, 'cats': 1941, 'certainly': 1942, 'channel': 1943, 'character': 1944, 'checked': 1945, 'cheers': 1946, 'chilling': 1947, 'chips': 1948, 'chocolate': 1949, 'cleaning': 1950, 'clear': 1951, 'comics': 1952, 'community': 1953, 'competition': 1954, 'complain': 1955, 'conference': 1956, 'congratulations': 1957, 'crash': 1958, 'cup': 1959, 'cures': 1960, 'currently': 1961, 'dangerous': 1962, 'decreases': 1963, 'delicious': 1964, 'dementia': 1965, 'depends': 1966, 'depressionEmoji': 1967, 'deserves': 1968, 'digging': 1969, 'direct': 1970, 'discuss': 1971, 'disorders': 1972, 'draw': 1973, 'drawing': 1974, 'dying': 1975, 'e': 1976, 'easier': 1977, 'emails': 1978, 'empty': 1979, 'experts': 1980, 'eye': 1981, 'eyesEmoji': 1982, 'facebook': 1983, 'failure': 1984, 'feed': 1985, 'feelin': 1986, 'feelings': 1987, 'female': 1988, 'fever': 1989, 'finding': 1990, 'finishing': 1991, 'flight': 1992, 'folks': 1993, 'follower': 1994, 'french': 1995, 'fuckin': 1996, 'gas': 1997, 'gay': 1998, 'gift': 1999, 'given': 2000, 'goal': 2001, 'gorgeous': 2002, 'gosh': 2003, 'grass': 2004, 'greater': 2005, 'grief': 2006, 'gut': 2007, 'hah': 2008, 'happier': 2009, 'hee': 2010, 'hide': 2011, 'higher': 2012, 'homie': 2013, 'hun': 2014, 'iPhone': 2015, 'ignored': 2016, 'illnesses': 2017, 'image': 2018, 'increased': 2019, 'incredible': 2020, 'incredibly': 2021, 'ipod': 2022, 'jk': 2023, 'joining': 2024, 'joyEmoji': 2025, 'jst': 2026, 'kanyewest': 2027, 'key': 2028, 'kidding': 2029, 'kristenstewart9': 2030, 'la': 2031, 'lakers': 2032, 'laughing': 2033, 'leg': 2034, 'legs': 2035, 'library': 2036, 'lifting': 2037, 'likely': 2038, 'linked': 2039, 'lmfao': 2040, 'loud': 2041, 'lt': 2042, 'lt333': 2043, 'macbook': 2044, 'majority': 2045, 'manage': 2046, 'managed': 2047, 'mark': 2048, 'mate': 2049, 'meal': 2050, 'medicine': 2051, 'memes': 2052, 'miserable': 2053, 'mistake': 2054, 'modern': 2055, 'motivation': 2056, 'muscle': 2057, 'nah': 2058, 'nails': 2059, 'nervous': 2060, 'ng': 2061, 'none': 2062, 'onto': 2063, 'order': 2064, 'otherwise': 2065, 'ourselves': 2066, 'overwhelming': 2067, 'peeps': 2068, 'personality': 2069, 'piano': 2070, 'pills': 2071, 'pink': 2072, 'plus': 2073, 'positivity': 2074, 'pot': 2075, 'prayer': 2076, 'prefer': 2077, 'prevented': 2078, 'princess': 2079, 'prob': 2080, 'program': 2081, 'project': 2082, 'provide': 2083, 'ps': 2084, 'ptsd': 2085, 'quiet': 2086, 'quotI': 2087, 'quote': 2088, 'race': 2089, 'radio': 2090, 'recently': 2091, 'recession': 2092, 'recommends': 2093, 'recovery': 2094, 'reduce': 2095, 'regardless': 2096, 'regular': 2097, 'relate': 2098, 'related': 2099, 'repeat': 2100, 'respect': 2101, 'rolling': 2102, 'sale': 2103, 'sandwich': 2104, 'sat': 2105, 'save': 2106, 'settle': 2107, 'shake': 2108, 'sharing': 2109, 'shining': 2110, 'silly': 2111, 'similar': 2112, 'simply': 2113, 'sleepless': 2114, 'smiles': 2115, 'smoking': 2116, 'sometime': 2117, 'starts': 2118, 'stream': 2119, 'stronger': 2120, 'struggled': 2121, 'struggles': 2122, 'supporting': 2123, 'surprise': 2124, 'surprised': 2125, 'tech': 2126, 'teen': 2127, 'teeth': 2128, 'themselves': 2129, 'theory': 2130, 'therapist': 2131, 'tix': 2132, 'toast': 2133, 'tom': 2134, 'tough': 2135, 'treated': 2136, 'truth': 2137, 'tweeps': 2138, 'twitters': 2139, 'upset': 2140, 'version': 2141, 'victim': 2142, 'voted': 2143, 'waste': 2144, 'wave': 2145, 'whilst': 2146, 'whoa': 2147, 'winter': 2148, 'wishing': 2149, 'wooo': 2150, 'worried': 2151, 'wtf': 2152, 'xo': 2153, 'yard': 2154, 'youuu': 2155, \"'em\": 2156, '13': 2157, '14': 2158, '16th': 2159, '17': 2160, '2009': 2161, '2016': 2162, '2017': 2163, '23': 2164, '250418': 2165, '2morrow': 2166, '99': 2167, 'ADHD': 2168, 'Against': 2169, 'Alright': 2170, 'America': 2171, 'Any': 2172, 'Anyways': 2173, 'Ask': 2174, 'Atlanta': 2175, 'Aw': 2176, 'BABY': 2177, 'Beach': 2178, 'Ben': 2179, 'Blue': 2180, 'Books': 2181, 'Boston': 2182, 'Brothers': 2183, 'Brown': 2184, 'CD': 2185, 'Checking': 2186, 'Cheers': 2187, 'Chicago': 2188, 'Christmas': 2189, 'Class': 2190, 'Cole': 2191, 'Damn': 2192, 'Dannymcfly': 2193, 'Dave': 2194, 'Declan': 2195, 'Diversity': 2196, 'Doing': 2197, 'Drinking': 2198, 'ET': 2199, 'EXACTLY': 2200, 'England': 2201, 'Eric': 2202, 'Europe': 2203, 'Excited': 2204, 'FEEL': 2205, 'FF': 2206, 'Fact': 2207, 'Feel': 2208, 'Finished': 2209, 'FollowFriday': 2210, 'Food': 2211, 'Friend': 2212, 'Fuck': 2213, 'Fun': 2214, 'GOD': 2215, 'Gettin': 2216, 'Glass': 2217, 'Google': 2218, 'HAHA': 2219, 'Hah': 2220, 'Hahah': 2221, 'Hanging': 2222, 'Hangover': 2223, 'Hills': 2224, 'Honestly': 2225, 'Hug': 2226, 'Interview': 2227, 'Italy': 2228, 'Jeff': 2229, 'Join': 2230, 'K': 2231, 'Kanye': 2232, 'Ketamine': 2233, 'Kool': 2234, 'LMAO': 2235, 'La': 2236, 'Learning': 2237, 'Leaving': 2238, 'Leeds': 2239, 'Lets': 2240, 'Lmao': 2241, 'Lonely': 2242, 'Lovely': 2243, 'Loving': 2244, 'Lucky': 2245, 'M': 2246, 'MORE': 2247, 'Makes': 2248, 'Making': 2249, 'MentalHealthAwareness': 2250, 'MentalHealthMatters': 2251, 'Mine': 2252, 'Missed': 2253, 'Movie': 2254, 'N': 2255, 'NY': 2256, 'NYC': 2257, 'Netflix': 2258, 'Nick': 2259, 'Nite': 2260, 'North': 2261, 'OCD': 2262, 'ONE': 2263, 'OUT': 2264, 'Oooh': 2265, 'Orlando': 2266, 'Other': 2267, 'PA': 2268, 'Padukone': 2269, 'Pastor': 2270, 'Perfect': 2271, 'Police': 2272, 'Postnatal': 2273, 'Potter': 2274, 'Queen': 2275, 'Quick': 2276, 'Rappers': 2277, 'Remember': 2278, 'Richard': 2279, 'Rock': 2280, 'SOON': 2281, 'Sat': 2282, 'Sent': 2283, 'Seriously': 2284, 'Simon': 2285, 'Smirking': 2286, 'Something': 2287, 'Sooo': 2288, 'Started': 2289, 'Suicidal': 2290, 'Summer': 2291, 'Super': 2292, 'T': 2293, 'THIS': 2294, 'TIME': 2295, 'Talking': 2296, 'Team': 2297, 'Their': 2298, 'Thinking': 2299, 'Third': 2300, 'Thoughts': 2301, 'Tony': 2302, 'Try': 2303, 'Turkey': 2304, 'Tweet': 2305, 'Upsidedown': 2306, 'VERY': 2307, 'Vegas': 2308, 'WORLD': 2309, 'Waiting': 2310, 'Want': 2311, 'Watch': 2312, 'Weekend': 2313, 'Woman': 2314, 'X': 2315, 'Yea': 2316, 'above': 2317, 'abuse': 2318, 'accept': 2319, 'across': 2320, 'adam': 2321, 'adorable': 2322, 'adult': 2323, 'afterwards': 2324, 'ahaha': 2325, 'air': 2326, 'aka': 2327, 'alive': 2328, 'among': 2329, 'anyways': 2330, 'aplusk': 2331, 'appointment': 2332, 'appropriate': 2333, 'artists': 2334, 'asking': 2335, 'asshole': 2336, 'atm': 2337, 'attempt': 2338, 'avoid': 2339, 'balance': 2340, 'ball': 2341, 'bank': 2342, 'barely': 2343, 'bat': 2344, 'battling': 2345, 'bay': 2346, 'beast': 2347, 'became': 2348, 'behave': 2349, 'behavior': 2350, 'bein': 2351, 'benefits': 2352, 'bf': 2353, 'bikini': 2354, 'bills': 2355, 'bits': 2356, 'bleeding': 2357, 'blessing': 2358, 'block': 2359, 'boat': 2360, 'boo': 2361, 'born': 2362, 'boss': 2363, 'boyfriend': 2364, 'breath': 2365, 'bright': 2366, 'brings': 2367, 'broken': 2368, 'buddy': 2369, 'button': 2370, 'calls': 2371, 'careful': 2372, 'cat': 2373, 'ceiling': 2374, 'challenge': 2375, 'challenges': 2376, 'charity': 2377, 'child': 2378, 'cleared': 2379, 'clearly': 2380, 'clouds': 2381, 'club': 2382, 'comedy': 2383, 'comp': 2384, 'completely': 2385, 'confused': 2386, 'conversation': 2387, 'corner': 2388, 'cough': 2389, 'coz': 2390, 'create': 2391, 'crush': 2392, 'customer': 2393, 'cutie': 2394, 'cutting': 2395, 'cycle': 2396, 'daddy': 2397, 'dancing': 2398, 'dare': 2399, 'david': 2400, 'decent': 2401, 'decisions': 2402, 'deck': 2403, 'dedicated': 2404, 'deeper': 2405, 'demi': 2406, 'depressing': 2407, 'desk': 2408, 'despite': 2409, 'dessert': 2410, 'destroy': 2411, 'devil': 2412, 'difference': 2413, 'differently': 2414, 'display': 2415, 'doctors': 2416, 'dogs': 2417, 'download': 2418, 'drivers': 2419, 'dry': 2420, 'duck': 2421, 'duloc': 2422, 'dun': 2423, 'earn': 2424, 'eats': 2425, 'economic': 2426, 'emotion': 2427, 'english': 2428, 'entertaining': 2429, 'esp': 2430, 'essay': 2431, 'eventually': 2432, 'everytime': 2433, 'everywhere': 2434, 'excuse': 2435, 'exhausted': 2436, 'expect': 2437, 'experiences': 2438, 'extreme': 2439, 'extremely': 2440, 'fab': 2441, 'facts': 2442, 'fail': 2443, 'fair': 2444, 'fallen': 2445, 'fear': 2446, 'feet': 2447, 'films': 2448, 'finale': 2449, 'finals': 2450, 'fo': 2451, 'four': 2452, 'freakin': 2453, 'fruit': 2454, 'gender': 2455, 'giveaway': 2456, 'global': 2457, 'goodmorning': 2458, 'grade': 2459, 'grades': 2460, 'graduate': 2461, 'grandma': 2462, 'grateful': 2463, 'growing': 2464, 'gtlt': 2465, 'guilty': 2466, 'halo': 2467, 'handle': 2468, 'harder': 2469, 'hat': 2470, 'hated': 2471, 'heavy': 2472, 'hella': 2473, 'heyy': 2474, 'hills': 2475, 'holds': 2476, 'hole': 2477, 'hon': 2478, 'honest': 2479, 'horrible': 2480, 'hospital': 2481, 'hotel': 2482, 'humor': 2483, 'ideas': 2484, 'idiot': 2485, 'ie': 2486, 'imbalance': 2487, 'impress': 2488, 'include': 2489, 'individual': 2490, 'inspired': 2491, 'involved': 2492, 'isolation': 2493, 'itself': 2494, 'jacket': 2495, 'joined': 2496, 'journey': 2497, 'judge': 2498, 'junk': 2499, 'jus': 2500, 'killing': 2501, 'kiss': 2502, 'knocks': 2503, 'ko': 2504, 'laughed': 2505, 'lay': 2506, 'leads': 2507, 'levels': 2508, 'lift': 2509, 'listened': 2510, 'lived': 2511, 'loose': 2512, 'lower': 2513, 'lyrics': 2514, 'mac': 2515, 'mail': 2516, 'managers': 2517, 'manic': 2518, 'marathon': 2519, 'match': 2520, 'material': 2521, 'maths': 2522, 'memories': 2523, 'mentalhealthmatters': 2524, 'mentally': 2525, 'messages': 2526, 'mild': 2527, 'mini': 2528, 'minor': 2529, 'mixed': 2530, 'mo': 2531, 'mode': 2532, 'mommy': 2533, 'mornings': 2534, 'motivated': 2535, 'museum': 2536, 'musical': 2537, 'musicmonday': 2538, 'names': 2539, 'nasty': 2540, 'neck': 2541, 'nick': 2542, 'noodles': 2543, 'normally': 2544, 'north': 2545, 'noticed': 2546, 'novel': 2547, 'nude': 2548, 'offering': 2549, 'offers': 2550, 'official': 2551, 'oo': 2552, 'oops': 2553, 'original': 2554, 'outta': 2555, 'pants': 2556, 'paper': 2557, 'park': 2558, 'particular': 2559, 'passing': 2560, 'passion': 2561, 'per': 2562, 'percent': 2563, 'pet': 2564, 'picnic': 2565, 'plane': 2566, 'player': 2567, 'plenty': 2568, 'plz': 2569, 'pointing': 2570, 'pop': 2571, 'popping': 2572, 'poster': 2573, 'posting': 2574, 'postnatal': 2575, 'pregnancy': 2576, 'probs': 2577, 'product': 2578, 'productive': 2579, 'professional': 2580, 'profile': 2581, 'protect': 2582, 'prove': 2583, 'psychological': 2584, 'psychologist': 2585, 'pub': 2586, 'public': 2587, 'pulled': 2588, 'push': 2589, 'pushing': 2590, 'putting': 2591, 'quot': 2592, 'rainy': 2593, 'ran': 2594, 'rare': 2595, 'rates': 2596, 'reality': 2597, 'referring': 2598, 'regret': 2599, 'rehearsals': 2600, 'reminder': 2601, 'reminds': 2602, 'remix': 2603, 'researchers': 2604, 'results': 2605, 'retweet': 2606, 'rid': 2607, 'rides': 2608, 'ring': 2609, 'rocks': 2610, 'roll': 2611, 'roof': 2612, 'ruined': 2613, 'rule': 2614, 'salt': 2615, 'schedule': 2616, 'schizophrenia': 2617, 'schools': 2618, 'seat': 2619, 'selenagomez': 2620, 'selfesteem': 2621, 'semester': 2622, 'senior': 2623, 'services': 2624, 'shaking': 2625, 'shape': 2626, 'shown': 2627, 'silence': 2628, 'sin': 2629, 'sings': 2630, 'sisters': 2631, 'sites': 2632, 'skinny': 2633, 'slight': 2634, 'smart': 2635, 'solid': 2636, 'somewhere': 2637, 'soooooo': 2638, 'south': 2639, 'space': 2640, 'spiral': 2641, 'spot': 2642, 'stage': 2643, 'starbucks': 2644, 'steps': 2645, 'stick': 2646, 'stomach': 2647, 'store': 2648, 'strange': 2649, 'student': 2650, 'studio': 2651, 'success': 2652, 'suffers': 2653, 'suggest': 2654, 'suggestions': 2655, 'survival': 2656, 'sushi': 2657, 'sway': 2658, 'swimming': 2659, 'talkin': 2660, 'taught': 2661, 'telling': 2662, 'tempted': 2663, 'tend': 2664, 'tests': 2665, 'thankful': 2666, 'thursday': 2667, 'tie': 2668, 'tonite': 2669, 'tons': 2670, 'tool': 2671, 'trek': 2672, 'trending': 2673, 'triggered': 2674, 'trouble': 2675, 'tune': 2676, 'turning': 2677, 'turns': 2678, 'twit': 2679, 'twittering': 2680, 'types': 2681, \"u're\": 2682, 'um': 2683, 'updating': 2684, 'upload': 2685, 'useful': 2686, 'uses': 2687, 'usual': 2688, 'vid': 2689, 'visiting': 2690, 'wall': 2691, 'wat': 2692, 'wee': 2693, 'weekends': 2694, 'wellbeing': 2695, 'wicked': 2696, 'wide': 2697, 'wishes': 2698, 'wolverine': 2699, 'wore': 2700, 'workers': 2701, 'workin': 2702, \"ya'll\": 2703, 'yah': 2704, 'yayy': 2705, 'yo': 2706, 'yoga': 2707, 'youu': 2708, '\\x85': 2709, '¡': 2710, 'Â¹â\\x82¬Ã': 2711, 'Ã¢â\\x82¬Â¢Ã\\x82Â': 2712, '      ': 2713, '09': 2714, '130': 2715, '1930s': 2716, '1998': 2717, '19th': 2718, '2014': 2719, '2018': 2720, '20th': 2721, '247': 2722, '2day': 2723, '33': 2724, '360': 2725, '3D': 2726, '45': 2727, '500': 2728, '5th': 2729, '60': 2730, '6th': 2731, '70': 2732, '90': 2733, 'AC': 2734, 'AGAIN': 2735, 'AIM': 2736, 'AJ': 2737, 'ANXIETY': 2738, 'AP': 2739, 'ATL': 2740, 'Absolutely': 2741, 'Add': 2742, 'Album': 2743, 'AmJPsychiatry': 2744, 'Amen': 2745, 'American': 2746, 'Australia': 2747, 'Autism': 2748, 'Awww': 2749, 'BATEMAN': 2750, 'BITCH': 2751, 'BRING': 2752, 'BTS': 2753, 'Beating': 2754, 'Bell': 2755, 'Bible': 2756, 'Bing': 2757, 'Bipolar': 2758, 'Blog': 2759, 'Bon': 2760, 'Both': 2761, 'Bought': 2762, 'Brain': 2763, 'Breastfeeding': 2764, 'Brian': 2765, 'Bring': 2766, 'Btw': 2767, 'C': 2768, \"C'mon\": 2769, 'Candy': 2770, 'Carl': 2771, 'Cause': 2772, 'CharlyJohnson': 2773, 'Cherry': 2774, 'Chinese': 2775, 'Chocolate': 2776, 'Clinical': 2777, 'Club': 2778, 'Cookie': 2779, 'Dear': 2780, 'Definitely': 2781, 'Depressed': 2782, 'Dinner': 2783, 'Dish': 2784, 'Doc': 2785, 'Done': 2786, 'Down': 2787, 'Dude': 2788, 'Dundee': 2789, 'EVER': 2790, 'EVERYONE': 2791, 'EXCITED': 2792, 'Edward': 2793, 'Either': 2794, 'Eminem': 2795, 'Erin': 2796, 'Etsy': 2797, 'Excellent': 2798, 'FB': 2799, 'FL': 2800, 'FOLLOW': 2801, 'FREE': 2802, 'FROM': 2803, 'FTW': 2804, 'Felt': 2805, 'Fighting': 2806, 'Florida': 2807, 'Fly': 2808, 'Forgive': 2809, 'Found': 2810, 'Full': 2811, 'GH': 2812, 'GOOD': 2813, 'Game': 2814, 'George': 2815, 'Golden': 2816, 'Goodbye': 2817, 'Gosh': 2818, 'Govt': 2819, 'Granddad': 2820, 'Growing': 2821, 'Guess': 2822, 'HA': 2823, 'HER': 2824, 'HERE': 2825, 'HOT': 2826, 'HP': 2827, 'Hair': 2828, 'Hannah': 2829, 'Hay': 2830, 'Heart': 2831, 'Hehehe': 2832, 'Hell': 2833, 'High': 2834, 'Hollywood': 2835, 'Holy': 2836, 'Home': 2837, 'ILY': 2838, 'Ice': 2839, 'Idea': 2840, 'Infinity': 2841, 'Internet': 2842, 'Iron': 2843, 'JB': 2844, 'Japanese': 2845, 'Jason': 2846, 'Jealous': 2847, 'Joe': 2848, 'Joel': 2849, 'Journal': 2850, 'Justin': 2851, 'Kinda': 2852, 'Korea': 2853, 'Kristen': 2854, 'LAST': 2855, 'LECTURES': 2856, 'LIKE': 2857, 'LIVE': 2858, 'Lady': 2859, 'Late': 2860, 'Later': 2861, 'Lauren': 2862, 'Learn': 2863, 'Link': 2864, 'List': 2865, 'LoL': 2866, 'Lord': 2867, 'Lots': 2868, 'MAY': 2869, 'MB': 2870, 'MI': 2871, 'MOTHERS': 2872, 'Magic': 2873, 'Major': 2874, 'Married': 2875, 'Matrix': 2876, 'Meditation': 2877, 'Mindfulness': 2878, 'Miss': 2879, 'Mmmm': 2880, 'Mountain': 2881, 'Mum': 2882, 'Museum': 2883, 'MySpace': 2884, 'NIGHT': 2885, 'NIMH': 2886, 'NIMHchats': 2887, 'NKOTB': 2888, 'NOW': 2889, 'Norway': 2890, 'Note': 2891, 'OFF': 2892, 'OLD': 2893, 'OR': 2894, 'OWN': 2895, 'Office': 2896, 'Ohh': 2897, 'Old': 2898, 'Ooh': 2899, 'Open': 2900, 'Oz': 2901, 'P': 2902, 'PC': 2903, 'POSTERS': 2904, 'PS': 2905, 'Parents': 2906, 'Paris': 2907, 'Phoenix': 2908, 'Photo': 2909, 'Podcast': 2910, 'Praying': 2911, 'Promise': 2912, 'Psychiatry': 2913, 'Quite': 2914, 'RIGHT': 2915, 'Radio': 2916, 'Rain': 2917, 'Reading': 2918, 'Red': 2919, 'Reserve': 2920, 'Reuters': 2921, 'Risk': 2922, 'Russian': 2923, 'SAD': 2924, 'SF': 2925, 'SOME': 2926, 'SOMEONE': 2927, 'STOP': 2928, 'Sadness': 2929, 'Said': 2930, 'Sarah': 2931, 'School': 2932, 'Searching': 2933, 'Send': 2934, 'Shows': 2935, 'Since': 2936, 'Six': 2937, 'Sky': 2938, 'Someone': 2939, 'State': 2940, 'Staying': 2941, 'Steve': 2942, 'Stop': 2943, 'StrayKids': 2944, 'StrayQuiz': 2945, 'Stress': 2946, 'Studies': 2947, 'Such': 2948, 'Sun': 2949, 'TOO': 2950, 'Taco': 2951, 'Teens': 2952, 'TelegramSam100': 2953, 'Texas': 2954, 'Though': 2955, 'Tips': 2956, 'Tommy': 2957, 'Toronto': 2958, 'Trilogy': 2959, 'True': 2960, 'Turn': 2961, 'Tweeting': 2962, 'Tweets': 2963, 'Twitters': 2964, 'Unamused': 2965, 'Vancouver': 2966, 'Victoria': 2967, 'Video': 2968, 'Visit': 2969, 'WAIT': 2970, 'WE': 2971, 'WHAT': 2972, 'WIN': 2973, 'Wait': 2974, 'Walking': 2975, 'Warning': 2976, 'Watchin': 2977, 'Web': 2978, 'Wednesday': 2979, 'WednesdayWisdom': 2980, 'Week': 2981, 'WellnessWednesday': 2982, 'Were': 2983, 'West': 2984, 'Whoop': 2985, 'Woke': 2986, 'Women': 2987, 'Woo': 2988, 'Woop': 2989, 'XX': 2990, 'Xx': 2991, 'YA': 2992, 'YEAH': 2993, 'Yaks': 2994, 'Yet': 2995, 'Yo': 2996, 'Zicutake': 2997, 'aJackieLarsen': 2998, 'accent': 2999, 'aches': 3000, 'acne': 3001, 'action': 3002, 'ad': 3003, 'address': 3004, 'admire': 3005, 'advertise': 3006, 'affected': 3007, 'agreed': 3008, 'ahhhh': 3009, 'ako': 3010, 'alike': 3011, 'allow': 3012, 'allowed': 3013, 'amber': 3014, 'amount': 3015, 'andor': 3016, 'andy': 3017, 'angel': 3018, 'animal': 3019, 'annoyed': 3020, 'answered': 3021, 'antidepressants': 3022, 'anybody': 3023, 'apartment': 3024, 'areas': 3025, 'asap': 3026, 'assholes': 3027, 'associated': 3028, 'august': 3029, 'award': 3030, 'awesomeness': 3031, 'awful': 3032, 'awg_allan': 3033, 'awhile': 3034, 'awwwww': 3035, 'b4': 3036, 'babies': 3037, 'badly': 3038, 'balloon': 3039, 'banking': 3040, 'basket': 3041, 'beaten': 3042, 'beating': 3043, 'becoming': 3044, 'bedtime': 3045, 'begin': 3046, 'beginning': 3047, 'benefit': 3048, 'bestie': 3049, 'bing': 3050, 'biological': 3051, 'biscuits': 3052, 'blah': 3053, 'blaming': 3054, 'blip': 3055, 'blogging': 3056, 'blogs': 3057, 'bloody': 3058, 'booked': 3059, 'boot': 3060, 'bottom': 3061, 'bowl': 3062, 'bowling': 3063, 'bracelet': 3064, 'brand': 3065, 'brave': 3066, 'brazil': 3067, 'bread': 3068, 'breathing': 3069, 'brunch': 3070, 'bubble': 3071, 'build': 3072, 'bullshit': 3073, 'bump': 3074, 'butter': 3075, 'buttons': 3076, 'cafe': 3077, 'cali': 3078, 'calm': 3079, 'camping': 3080, 'cancelled': 3081, 'candy': 3082, 'capacity': 3083, 'career': 3084, 'catchy': 3085, 'cds': 3086, 'celebrating': 3087, 'celebrity': 3088, 'centre': 3089, 'chair': 3090, 'changing': 3091, 'characters': 3092, 'chasing': 3093, 'cheap': 3094, 'checking': 3095, 'cheeky': 3096, 'cheer': 3097, 'chemical': 3098, 'childhood': 3099, 'choices': 3100, 'chose': 3101, 'chris': 3102, 'cinema': 3103, 'climb': 3104, 'coach': 3105, 'coast': 3106, 'colleagues': 3107, 'colors': 3108, 'comments': 3109, 'complete': 3110, 'compliments': 3111, 'con': 3112, 'concern': 3113, 'connections': 3114, 'consider': 3115, 'contest': 3116, 'continues': 3117, 'continuous': 3118, 'cooked': 3119, 'coping': 3120, 'corn': 3121, 'cost': 3122, 'couch': 3123, 'counting': 3124, 'covered': 3125, 'cozy': 3126, 'cranky': 3127, 'creating': 3128, 'credit': 3129, 'creeping': 3130, 'crochet': 3131, 'cruel': 3132, 'crushing': 3133, 'cultural': 3134, 'culture': 3135, 'curious': 3136, 'curly': 3137, 'curry': 3138, 'cutest': 3139, 'daisyrjordan': 3140, 'dallas': 3141, 'darkness': 3142, 'dat': 3143, 'dead': 3144, 'debate': 3145, 'decide': 3146, 'delete': 3147, 'deleted': 3148, 'deserved': 3149, 'designing': 3150, 'designs': 3151, 'desperate': 3152, 'developed': 3153, 'dick': 3154, 'difficulty': 3155, 'dirty': 3156, 'dis': 3157, 'disgusting': 3158, 'dividends': 3159, 'doc': 3160, 'doll': 3161, 'dollars': 3162, 'doors': 3163, 'dosage': 3164, 'dose': 3165, 'downtown': 3166, 'dp': 3167, 'dragged': 3168, 'dresses': 3169, 'du': 3170, 'dunno': 3171, 'dvd': 3172, 'eBay': 3173, 'easeÃ\\x82Â': 3174, 'easily': 3175, 'easter': 3176, 'educate': 3177, 'education': 3178, 'effect': 3179, 'effort': 3180, 'eight': 3181, 'el': 3182, 'employees': 3183, 'ended': 3184, 'entering': 3185, 'entitled': 3186, 'episodes': 3187, 'equal': 3188, 'errands': 3189, 'espresso': 3190, 'events': 3191, 'evil': 3192, 'ex': 3193, 'expected': 3194, 'experiencing': 3195, 'expert': 3196, 'explains': 3197, 'explanation': 3198, 'extended': 3199, 'fa': 3200, 'faith': 3201, 'fancy': 3202, 'farright': 3203, 'father': 3204, 'fattest': 3205, 'figured': 3206, 'filling': 3207, 'flat': 3208, 'flying': 3209, 'fm': 3210, 'follows': 3211, 'forces': 3212, 'forcing': 3213, 'forgetting': 3214, 'form': 3215, 'fortnite': 3216, 'freedom': 3217, 'fries': 3218, 'frustration': 3219, 'fucked': 3220, 'fund': 3221, 'fundraiser': 3222, 'further': 3223, 'g': 3224, 'gain': 3225, 'generally': 3226, 'genuinely': 3227, 'gg': 3228, 'gr8': 3229, 'grace': 3230, 'grad': 3231, 'grasp': 3232, 'gray': 3233, 'grill': 3234, 'growth': 3235, 'gunna': 3236, 'haircut': 3237, 'hannah': 3238, 'hating': 3239, 'hatred': 3240, 'heads': 3241, 'hearing': 3242, 'heartsEmoji': 3243, 'heat': 3244, 'helpful': 3245, 'hero': 3246, 'hittin': 3247, 'hmmm': 3248, 'homeless': 3249, 'hoo': 3250, 'hook': 3251, 'hooray': 3252, 'hopes': 3253, 'host': 3254, 'hott': 3255, 'hurr': 3256, 'hv': 3257, 'hw': 3258, 'iced': 3259, 'idol': 3260, 'ignorance': 3261, 'ignorant': 3262, 'immediately': 3263, 'impact': 3264, 'impressed': 3265, 'improves': 3266, 'increases': 3267, 'index': 3268, 'individuals': 3269, 'insecurity': 3270, 'inspiring': 3271, 'instagram': 3272, 'intended': 3273, 'interest': 3274, 'interviewed': 3275, 'jeans': 3276, 'jonasbrothers': 3277, 'jumper': 3278, 'kelly': 3279, 'kept': 3280, 'kicked': 3281, 'kicks': 3282, 'killer': 3283, 'kills': 3284, 'kings': 3285, 'kirstiealley': 3286, 'kisses': 3287, 'kitchen': 3288, 'kittens': 3289, 'kitty': 3290, 'lake': 3291, 'lang': 3292, 'language': 3293, 'latest': 3294, 'law': 3295, 'laying': 3296, 'le': 3297, 'lesson': 3298, 'lessons': 3299, 'letters': 3300, 'likes': 3301, 'limit': 3302, 'lit': 3303, 'lmaooo': 3304, 'load': 3305, 'loads': 3306, 'log': 3307, 'london': 3308, 'lovee': 3309, 'lowers': 3310, 'majornelson': 3311, 'mania': 3312, 'marijuana': 3313, 'markhoppus': 3314, 'marks': 3315, 'maternity': 3316, 'mates': 3317, 'matters': 3318, 'meat': 3319, 'meetings': 3320, 'mel': 3321, 'mentalhealthawareness': 3322, 'mentioned': 3323, 'mentions': 3324, 'microsoft': 3325, 'milk': 3326, 'min': 3327, 'minds': 3328, 'mindset': 3329, 'mmitchelldaviss': 3330, 'mmm': 3331, 'moments': 3332, 'momma': 3333, 'montana': 3334, 'mountain': 3335, 'msg': 3336, 'msn': 3337, 'multiple': 3338, 'mums': 3339, 'murder': 3340, 'naked': 3341, 'naman': 3342, 'named': 3343, 'natural': 3344, 'nd': 3345, 'neat': 3346, 'network': 3347, 'nightmares': 3348, 'nighty': 3349, 'noise': 3350, 'notes': 3351, 'nyc': 3352, 'obsession': 3353, 'occur': 3354, 'odd': 3355, 'officialTila': 3356, 'ohhh': 3357, 'oldest': 3358, 'onion': 3359, 'ooo': 3360, 'opened': 3361, 'opinions': 3362, 'outlook': 3363, 'pa': 3364, 'packed': 3365, 'paid': 3366, 'paranoid': 3367, 'partying': 3368, 'paycheck': 3369, 'paying': 3370, 'peer': 3371, 'perks': 3372, 'personally': 3373, 'peter': 3374, 'phase': 3375, 'piercing': 3376, 'pissed': 3377, 'placed': 3378, 'plain': 3379, 'plant': 3380, 'points': 3381, 'poke': 3382, 'policy': 3383, 'possibly': 3384, 'potato': 3385, 'prayers': 3386, 'praying': 3387, 'prepare': 3388, 'prepared': 3389, 'pretending': 3390, 'prison': 3391, 'productivity': 3392, 'products': 3393, 'projects': 3394, 'promo': 3395, 'promote': 3396, 'props': 3397, 'published': 3398, 'queen': 3399, 'quickly': 3400, 'raise': 3401, 'raising': 3402, 'rap': 3403, 'rapper': 3404, 'realDonaldTrump': 3405, 'received': 3406, 'recent': 3407, 'recipe': 3408, 'recommended': 3409, 'recorded': 3410, 'recording': 3411, 'rehab': 3412, 'rejected': 3413, 'relationships': 3414, 'relatives': 3415, 'relieved': 3416, 'remind': 3417, 'replied': 3418, 'replies': 3419, 'requires': 3420, 'researching': 3421, 'resources': 3422, 'result': 3423, 'returned': 3424, 'review': 3425, 'rice': 3426, 'ridiculous': 3427, 'rocked': 3428, 'role': 3429, 'routine': 3430, 'rush': 3431, 'sales': 3432, 'sarah': 3433, 'saving': 3434, 'sayin': 3435, 'scandal': 3436, 'scheduled': 3437, 'script': 3438, 'search': 3439, 'security': 3440, 'seek': 3441, 'seizures': 3442, 'sell': 3443, 'sends': 3444, 'sermon': 3445, 'sexual': 3446, 'shame': 3447, 'shareholder': 3448, 'shed': 3449, 'shift': 3450, 'shitty': 3451, 'sho': 3452, 'shoot': 3453, 'shooting': 3454, 'shorts': 3455, 'shout': 3456, 'shoutout': 3457, 'sickness': 3458, 'sigh': 3459, 'simple': 3460, 'singer': 3461, 'situations': 3462, 'skills': 3463, 'skull': 3464, 'sleeps': 3465, 'slip': 3466, 'smells': 3467, 'snack': 3468, 'sober': 3469, 'soda': 3470, 'sold': 3471, 'sorted': 3472, 'soul': 3473, 'sowwy': 3474, 'spamming': 3475, 'speaks': 3476, 'speech': 3477, 'spirit': 3478, 'spoke': 3479, 'sports': 3480, 'spots': 3481, 'spring': 3482, 'spy': 3483, 'square': 3484, 'st': 3485, 'stalk': 3486, 'stand': 3487, 'statement': 3488, 'stopped': 3489, 'stops': 3490, 'storm': 3491, 'strain': 3492, 'strength': 3493, 'studies': 3494, 'studying': 3495, 'subjects': 3496, 'sudden': 3497, 'suddenly': 3498, 'sum': 3499, 'survive': 3500, 'sweatEmoji': 3501, 'sweater': 3502, 'swim': 3503, 'swing': 3504, 'symbol': 3505, 'sympathy': 3506, 'taboo': 3507, 'taco': 3508, 'tacos': 3509, 'talent': 3510, 'talented': 3511, 'tall': 3512, 'tastes': 3513, 'tax': 3514, 'taylor': 3515, 'teach': 3516, 'teachers': 3517, 'tee': 3518, 'teenager': 3519, 'teenagers': 3520, 'tells': 3521, 'temper': 3522, 'temporary': 3523, 'tends': 3524, 'term': 3525, 'th': 3526, 'thai': 3527, 'thankyou': 3528, 'thanx': 3529, 'theme': 3530, 'timeline': 3531, 'tips': 3532, 'tiring': 3533, 'title': 3534, 'tmrw': 3535, 'tnx': 3536, 'toes': 3537, 'ton': 3538, 'tooth': 3539, 'torn': 3540, 'tornado': 3541, 'total': 3542, 'tracks': 3543, 'trade': 3544, 'tragic': 3545, 'trailer': 3546, 'trampoline': 3547, 'triple': 3548, 'tshirt': 3549, 'tweeted': 3550, 'tweeter': 3551, 'twitterville': 3552, 'txt': 3553, 'ty': 3554, 'uh': 3555, 'umm': 3556, 'un': 3557, 'understanding': 3558, 'underwear': 3559, 'unfortunate': 3560, 'uni': 3561, 'unless': 3562, 'upcoming': 3563, 'uploaded': 3564, 'uploading': 3565, 'v': 3566, 'variety': 3567, 'vibes': 3568, 'victory': 3569, 'villainous': 3570, 'vision': 3571, 'vomiting': 3572, 'voting': 3573, 'watchin': 3574, 'wet': 3575, 'wifey': 3576, 'wii': 3577, 'willing': 3578, 'window': 3579, 'winner': 3580, 'wise': 3581, 'witnessed': 3582, 'wonderfully': 3583, 'writers': 3584, 'wwwm2easia': 3585, 'xbox': 3586, 'yeh': 3587, 'younger': 3588, 'yung': 3589, 'zero': 3590, 'zoo': 3591, '|': 3592, 'Â¸Â¡Ã': 3593, 'Â¸Â\\xadÃ': 3594, 'Ã¢Â\\x97Â\\x8f': 3595, 'Ã¢â\\x84¢Â¥': 3596})\n"
          ]
        }
      ]
    },
    {
      "cell_type": "code",
      "metadata": {
        "id": "elBWablT5XUN"
      },
      "source": [
        "#check whether cuda is available\n",
        "device = torch.device('cuda' if torch.cuda.is_available() else 'cpu')  \n",
        "\n",
        "#set batch size\n",
        "BATCH_SIZE = 64\n",
        "\n",
        "#Load an iterator\n",
        "train_iterator, valid_iterator = data.BucketIterator.splits(\n",
        "    (train_data, valid_data), \n",
        "    batch_size = BATCH_SIZE,\n",
        "    sort_key = lambda x: len(x.text),\n",
        "    sort_within_batch=True,\n",
        "    device = device)"
      ],
      "execution_count": 55,
      "outputs": []
    },
    {
      "cell_type": "code",
      "metadata": {
        "id": "rzJa68Yk16SR"
      },
      "source": [
        "import torch.nn as nn\n",
        "\n",
        "class classifier(nn.Module):\n",
        "    \n",
        "    #define all the layers used in model\n",
        "    def __init__(self, vocab_size, embedding_dim, hidden_dim, output_dim, n_layers, \n",
        "                 bidirectional, dropout):\n",
        "        \n",
        "        #Constructor\n",
        "        super().__init__()          \n",
        "        \n",
        "        #embedding layer\n",
        "        self.embedding = nn.Embedding(vocab_size, embedding_dim)\n",
        "        \n",
        "        #lstm layer\n",
        "        self.lstm = nn.LSTM(embedding_dim, \n",
        "                           hidden_dim, \n",
        "                           num_layers=n_layers, \n",
        "                           bidirectional=bidirectional, \n",
        "                           dropout=dropout,\n",
        "                           batch_first=True)\n",
        "        \n",
        "        #dense layer\n",
        "        self.fc = nn.Linear(hidden_dim * 2, output_dim)\n",
        "        \n",
        "        #activation function\n",
        "        self.act = nn.Sigmoid()\n",
        "        \n",
        "    def forward(self, text, text_lengths):\n",
        "        \n",
        "        #text = [batch size,sent_length]\n",
        "        embedded = self.embedding(text)\n",
        "        #embedded = [batch size, sent_len, emb dim]\n",
        "      \n",
        "        #packed sequence\n",
        "        packed_embedded = nn.utils.rnn.pack_padded_sequence(embedded, text_lengths,batch_first=True)\n",
        "        \n",
        "        packed_output, (hidden, cell) = self.lstm(packed_embedded)\n",
        "        #hidden = [batch size, num layers * num directions,hid dim]\n",
        "        #cell = [batch size, num layers * num directions,hid dim]\n",
        "        \n",
        "        #concat the final forward and backward hidden state\n",
        "        hidden = torch.cat((hidden[-2,:,:], hidden[-1,:,:]), dim = 1)\n",
        "                \n",
        "        #hidden = [batch size, hid dim * num directions]\n",
        "        dense_outputs=self.fc(hidden)\n",
        "\n",
        "        #Final activation function\n",
        "        outputs=self.act(dense_outputs)\n",
        "        \n",
        "        return outputs"
      ],
      "execution_count": 57,
      "outputs": []
    },
    {
      "cell_type": "code",
      "metadata": {
        "id": "QxykUQXq9K4B"
      },
      "source": [
        ""
      ],
      "execution_count": null,
      "outputs": []
    },
    {
      "cell_type": "code",
      "metadata": {
        "id": "X7pI4PTr8Rf0"
      },
      "source": [
        "#define hyperparameters\n",
        "size_of_vocab = len(TEXT.vocab)\n",
        "embedding_dim = 100\n",
        "num_hidden_nodes = 32\n",
        "num_output_nodes = 1\n",
        "num_layers = 2\n",
        "bidirection = True\n",
        "dropout = 0.2\n",
        "\n",
        "#instantiate the model\n",
        "model = classifier(size_of_vocab, embedding_dim, num_hidden_nodes,num_output_nodes, num_layers, \n",
        "                   bidirectional = True, dropout = dropout)"
      ],
      "execution_count": 58,
      "outputs": []
    },
    {
      "cell_type": "code",
      "metadata": {
        "id": "8bY4Rfgp8Ur9"
      },
      "source": [
        "import torch.optim as optim\n",
        "\n",
        "#define optimizer and loss\n",
        "optimizer = optim.Adam(model.parameters())\n",
        "criterion = nn.BCELoss()\n",
        "\n",
        "#define metric\n",
        "def binary_accuracy(preds, y):\n",
        "    #round predictions to the closest integer\n",
        "    rounded_preds = torch.round(preds)\n",
        "    \n",
        "    correct = (rounded_preds == y).float() \n",
        "    acc = correct.sum() / len(correct)\n",
        "    return acc\n",
        "    \n",
        "#push to cuda if available\n",
        "model = model.to(device)\n",
        "criterion = criterion.to(device)"
      ],
      "execution_count": 64,
      "outputs": []
    },
    {
      "cell_type": "code",
      "metadata": {
        "colab": {
          "base_uri": "https://localhost:8080/"
        },
        "id": "wxtE3Hrz9Fd-",
        "outputId": "468dab79-c383-4b1e-e9d9-f8533bef3c92"
      },
      "source": [
        "model"
      ],
      "execution_count": 72,
      "outputs": [
        {
          "output_type": "execute_result",
          "data": {
            "text/plain": [
              "classifier(\n",
              "  (embedding): Embedding(3597, 100)\n",
              "  (lstm): LSTM(100, 32, num_layers=2, batch_first=True, dropout=0.2, bidirectional=True)\n",
              "  (fc): Linear(in_features=64, out_features=1, bias=True)\n",
              "  (act): Sigmoid()\n",
              ")"
            ]
          },
          "metadata": {},
          "execution_count": 72
        }
      ]
    },
    {
      "cell_type": "code",
      "metadata": {
        "id": "Q89hHgIL8Zqn"
      },
      "source": [
        "def train(model, iterator, optimizer, criterion):\n",
        "    \n",
        "    #initialize every epoch \n",
        "    epoch_loss = 0\n",
        "    epoch_acc = 0\n",
        "    \n",
        "    #set the model in training phase\n",
        "    model.train()  \n",
        "    \n",
        "    for batch in iterator:\n",
        "        \n",
        "        #resets the gradients after every batch\n",
        "        optimizer.zero_grad()   \n",
        "        \n",
        "        #retrieve text and no. of words\n",
        "        text, text_lengths = batch.text\n",
        "\n",
        "        text=text.to(device) \n",
        "        text_lengths=torch.as_tensor(text_lengths, dtype=torch.int64, device='cpu') \n",
        "         \n",
        "        \n",
        "        #convert to 1D tensor\n",
        "        predictions = model(text, text_lengths).squeeze()  \n",
        "        \n",
        "        #compute the loss\n",
        "        loss = criterion(predictions, batch.label)        \n",
        "        \n",
        "        #compute the binary accuracy\n",
        "        acc = binary_accuracy(predictions, batch.label)   \n",
        "        \n",
        "        #backpropage the loss and compute the gradients\n",
        "        loss.backward()       \n",
        "        \n",
        "        #update the weights\n",
        "        optimizer.step()      \n",
        "        \n",
        "        #loss and accuracy\n",
        "        epoch_loss += loss.item()  \n",
        "        epoch_acc += acc.item()    \n",
        "        \n",
        "    return epoch_loss / len(iterator), epoch_acc / len(iterator)"
      ],
      "execution_count": 77,
      "outputs": []
    },
    {
      "cell_type": "code",
      "metadata": {
        "id": "WgosFiUX8c72"
      },
      "source": [
        "def evaluate(model, iterator, criterion):\n",
        "    \n",
        "    #initialize every epoch\n",
        "    epoch_loss = 0\n",
        "    epoch_acc = 0\n",
        "\n",
        "    #deactivating dropout layers\n",
        "    model.eval()\n",
        "    \n",
        "    #deactivates autograd\n",
        "    with torch.no_grad():\n",
        "    \n",
        "        for batch in iterator:\n",
        "        \n",
        "            #retrieve text and no. of words\n",
        "            text, text_lengths = batch.text\n",
        "            text=text.to(device)\n",
        "            text_lengths=torch.as_tensor(text_lengths, dtype=torch.int64, device='cpu') \n",
        "            #convert to 1d tensor\n",
        "            predictions = model(text, text_lengths).squeeze()\n",
        "            \n",
        "            #compute loss and accuracy\n",
        "            loss = criterion(predictions, batch.label)\n",
        "            acc = binary_accuracy(predictions, batch.label)\n",
        "            \n",
        "            #keep track of loss and accuracy\n",
        "            epoch_loss += loss.item()\n",
        "            epoch_acc += acc.item()\n",
        "        \n",
        "    return epoch_loss / len(iterator), epoch_acc / len(iterator)"
      ],
      "execution_count": 79,
      "outputs": []
    },
    {
      "cell_type": "code",
      "metadata": {
        "colab": {
          "base_uri": "https://localhost:8080/"
        },
        "id": "PQgprkJ68c_C",
        "outputId": "97361f78-ca4b-403e-b4f9-eed0f13e56e6"
      },
      "source": [
        "train_losses=[]\n",
        "valid_losses=[]\n",
        "train_accuracy=[]\n",
        "valid_accuracy=[]\n",
        "\n",
        "N_EPOCHS = 10\n",
        "best_valid_loss = float('inf')\n",
        "\n",
        "for epoch in range(N_EPOCHS):\n",
        "     \n",
        "    #train the model\n",
        "    train_loss, train_acc = train(model, train_iterator, optimizer, criterion)\n",
        "    train_losses.append(train_loss)\n",
        "    train_accuracy.append(train_acc)\n",
        "    #evaluate the model\n",
        "    valid_loss, valid_acc = evaluate(model, valid_iterator, criterion)\n",
        "    valid_losses.append(valid_loss)\n",
        "    valid_accuracy.append(valid_acc)\n",
        "    #save the best model\n",
        "    if valid_loss < best_valid_loss:\n",
        "        best_valid_loss = valid_loss\n",
        "        torch.save(model.state_dict(), 'saved_weights.pt')\n",
        "    \n",
        "    print(f'\\tTrain Loss: {train_loss:.3f} | Train Acc: {train_acc*100:.2f}%')\n",
        "    print(f'\\t Val. Loss: {valid_loss:.3f} |  Val. Acc: {valid_acc*100:.2f}%')"
      ],
      "execution_count": 86,
      "outputs": [
        {
          "output_type": "stream",
          "name": "stdout",
          "text": [
            "\tTrain Loss: 0.003 | Train Acc: 99.94%\n",
            "\t Val. Loss: 0.056 |  Val. Acc: 98.72%\n",
            "\tTrain Loss: 0.003 | Train Acc: 99.94%\n",
            "\t Val. Loss: 0.057 |  Val. Acc: 98.76%\n",
            "\tTrain Loss: 0.003 | Train Acc: 99.96%\n",
            "\t Val. Loss: 0.057 |  Val. Acc: 98.66%\n",
            "\tTrain Loss: 0.003 | Train Acc: 99.94%\n",
            "\t Val. Loss: 0.057 |  Val. Acc: 98.88%\n",
            "\tTrain Loss: 0.002 | Train Acc: 99.96%\n",
            "\t Val. Loss: 0.058 |  Val. Acc: 98.76%\n",
            "\tTrain Loss: 0.002 | Train Acc: 99.96%\n",
            "\t Val. Loss: 0.060 |  Val. Acc: 98.76%\n",
            "\tTrain Loss: 0.002 | Train Acc: 99.96%\n",
            "\t Val. Loss: 0.061 |  Val. Acc: 98.76%\n",
            "\tTrain Loss: 0.001 | Train Acc: 99.97%\n",
            "\t Val. Loss: 0.062 |  Val. Acc: 98.72%\n",
            "\tTrain Loss: 0.001 | Train Acc: 99.99%\n",
            "\t Val. Loss: 0.064 |  Val. Acc: 98.79%\n",
            "\tTrain Loss: 0.007 | Train Acc: 99.80%\n",
            "\t Val. Loss: 0.068 |  Val. Acc: 99.01%\n"
          ]
        }
      ]
    },
    {
      "cell_type": "code",
      "metadata": {
        "id": "_3BGdj6SISUS"
      },
      "source": [
        "import matplotlib.pyplot as plt\n"
      ],
      "execution_count": 84,
      "outputs": []
    },
    {
      "cell_type": "code",
      "metadata": {
        "colab": {
          "base_uri": "https://localhost:8080/",
          "height": 157
        },
        "id": "RuqFVv2BDp2i",
        "outputId": "7fd1fb91-1a83-4210-fea1-18dac6905380"
      },
      "source": [
        "#display stats in graph\n",
        "plt.figure(figsize=(10, 2))\n",
        "plt.plot(train_losses, label='Training Loss')\n",
        "plt.plot(valid_losses, label='Validation Loss')\n",
        "plt.legend()\n",
        "plt.grid()\n",
        "plt.show()"
      ],
      "execution_count": 93,
      "outputs": [
        {
          "output_type": "display_data",
          "data": {
            "image/png": "[encoded data removed]",
            "text/plain": [
              "<Figure size 720x144 with 1 Axes>"
            ]
          },
          "metadata": {
            "needs_background": "light"
          }
        }
      ]
    },
    {
      "cell_type": "code",
      "metadata": {
        "colab": {
          "base_uri": "https://localhost:8080/",
          "height": 157
        },
        "id": "Av1hi_gsBRCE",
        "outputId": "a7656100-92ba-4664-b0a2-03a7fe4dd9cc"
      },
      "source": [
        "#display stats in graph\n",
        "plt.figure(figsize=(10, 2))\n",
        "plt.plot(train_accuracy, label='Training Loss')\n",
        "plt.plot(valid_accuracy, label='Validation Loss')\n",
        "plt.legend()\n",
        "plt.grid()\n",
        "plt.show()"
      ],
      "execution_count": 95,
      "outputs": [
        {
          "output_type": "display_data",
          "data": {
            "image/png": "[encoded data removed]",
            "text/plain": [
              "<Figure size 720x144 with 1 Axes>"
            ]
          },
          "metadata": {
            "needs_background": "light"
          }
        }
      ]
    },
    {
      "cell_type": "code",
      "metadata": {
        "id": "sZat34qC8dBp"
      },
      "source": [
        ""
      ],
      "execution_count": null,
      "outputs": []
    },
    {
      "cell_type": "code",
      "metadata": {
        "id": "2ZCrwmUy8RkJ"
      },
      "source": [
        ""
      ],
      "execution_count": null,
      "outputs": []
    },
    {
      "cell_type": "code",
      "metadata": {
        "id": "1yZhAjTd8RoI"
      },
      "source": [
        ""
      ],
      "execution_count": null,
      "outputs": []
    },
    {
      "cell_type": "code",
      "metadata": {
        "id": "plxvdK0g8RqK"
      },
      "source": [
        ""
      ],
      "execution_count": null,
      "outputs": []
    },
    {
      "cell_type": "code",
      "metadata": {
        "id": "0M74PEEf8Rsr"
      },
      "source": [
        ""
      ],
      "execution_count": null,
      "outputs": []
    },
    {
      "cell_type": "code",
      "metadata": {
        "id": "X17BvpTr8Rwa"
      },
      "source": [
        ""
      ],
      "execution_count": null,
      "outputs": []
    }
  ]
}
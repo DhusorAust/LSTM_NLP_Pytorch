{
  "nbformat": 4,
  "nbformat_minor": 0,
  "metadata": {
    "colab": {
      "name": "NLP_LSTM_Pytorch.ipynb",
      "provenance": [],
      "collapsed_sections": []
    },
    "kernelspec": {
      "name": "python3",
      "display_name": "Python 3"
    },
    "language_info": {
      "name": "python"
    }
  },
  "cells": [
    {
      "cell_type": "code",
      "metadata": {
        "colab": {
          "base_uri": "https://localhost:8080/"
        },
        "id": "GzChYtxoZjbg",
        "outputId": "5c7e1647-89da-439e-c170-a97c414c64c7"
      },
      "source": [
        "# ! conda install -y gdown\n",
        "!gdown --id 1ovYiBl-6XFBI9ooATficyPpY6aaZCYEk"
      ],
      "execution_count": 1,
      "outputs": [
        {
          "output_type": "stream",
          "name": "stdout",
          "text": [
            "Downloading...\n",
            "From: https://drive.google.com/uc?id=1ovYiBl-6XFBI9ooATficyPpY6aaZCYEk\n",
            "To: /content/Dataset 1.csv\n",
            "\r  0% 0.00/999k [00:00<?, ?B/s]\r100% 999k/999k [00:00<00:00, 66.2MB/s]\n"
          ]
        }
      ]
    },
    {
      "cell_type": "code",
      "metadata": {
        "id": "crNbVgtDXiqq"
      },
      "source": [
        "import pandas as pd"
      ],
      "execution_count": 2,
      "outputs": []
    },
    {
      "cell_type": "code",
      "metadata": {
        "id": "oBatEwueZjep"
      },
      "source": [
        "import torch   \n",
        "\n",
        "#handling text data\n",
        "from torchtext.legacy import data  "
      ],
      "execution_count": 3,
      "outputs": []
    },
    {
      "cell_type": "code",
      "metadata": {
        "id": "l6YemjLtaFP3"
      },
      "source": [
        "dataset=pd.read_csv('/content/Dataset 1.csv',encoding='ISO-8859-1')"
      ],
      "execution_count": 4,
      "outputs": []
    },
    {
      "cell_type": "code",
      "metadata": {
        "id": "CAqRIZygG3QB"
      },
      "source": [
        "import re\n",
        "def remove(text):\n",
        "    return re.sub(r\"[,.\\\"!@#$%^&*(){}?/;`~:<>+=-]\", \"\", text)\n"
      ],
      "execution_count": 5,
      "outputs": []
    },
    {
      "cell_type": "code",
      "metadata": {
        "id": "SLiEwNCJGuL7"
      },
      "source": [
        "dataset['message'] = dataset['message'].apply(lambda x: remove(x))\n"
      ],
      "execution_count": 6,
      "outputs": []
    },
    {
      "cell_type": "code",
      "metadata": {
        "colab": {
          "base_uri": "https://localhost:8080/",
          "height": 417
        },
        "id": "VpHkYg4N1knr",
        "outputId": "4de620ca-2770-4a48-b6f2-d3d4c6ea4f32"
      },
      "source": [
        "dataset"
      ],
      "execution_count": 7,
      "outputs": [
        {
          "output_type": "execute_result",
          "data": {
            "text/html": [
              "<div>\n",
              "<style scoped>\n",
              "    .dataframe tbody tr th:only-of-type {\n",
              "        vertical-align: middle;\n",
              "    }\n",
              "\n",
              "    .dataframe tbody tr th {\n",
              "        vertical-align: top;\n",
              "    }\n",
              "\n",
              "    .dataframe thead th {\n",
              "        text-align: right;\n",
              "    }\n",
              "</style>\n",
              "<table border=\"1\" class=\"dataframe\">\n",
              "  <thead>\n",
              "    <tr style=\"text-align: right;\">\n",
              "      <th></th>\n",
              "      <th>message</th>\n",
              "      <th>label</th>\n",
              "    </tr>\n",
              "  </thead>\n",
              "  <tbody>\n",
              "    <tr>\n",
              "      <th>0</th>\n",
              "      <td>just had a real good moment i missssssssss him...</td>\n",
              "      <td>0</td>\n",
              "    </tr>\n",
              "    <tr>\n",
              "      <th>1</th>\n",
              "      <td>is reading manga  httpplurkcompmzp1e</td>\n",
              "      <td>0</td>\n",
              "    </tr>\n",
              "    <tr>\n",
              "      <th>2</th>\n",
              "      <td>comeagainjen httptwitpiccom2y2lx  httpwwwyoutu...</td>\n",
              "      <td>0</td>\n",
              "    </tr>\n",
              "    <tr>\n",
              "      <th>3</th>\n",
              "      <td>lapcat Need to send 'em to my accountant tomor...</td>\n",
              "      <td>0</td>\n",
              "    </tr>\n",
              "    <tr>\n",
              "      <th>4</th>\n",
              "      <td>ADD ME ON MYSPACE  myspacecomLookThunder</td>\n",
              "      <td>0</td>\n",
              "    </tr>\n",
              "    <tr>\n",
              "      <th>...</th>\n",
              "      <td>...</td>\n",
              "      <td>...</td>\n",
              "    </tr>\n",
              "    <tr>\n",
              "      <th>10309</th>\n",
              "      <td>No Depression by G Herbo is my mood from now o...</td>\n",
              "      <td>1</td>\n",
              "    </tr>\n",
              "    <tr>\n",
              "      <th>10310</th>\n",
              "      <td>What do you do when depression succumbs the br...</td>\n",
              "      <td>1</td>\n",
              "    </tr>\n",
              "    <tr>\n",
              "      <th>10311</th>\n",
              "      <td>Ketamine Nasal Spray Shows Promise Against Dep...</td>\n",
              "      <td>1</td>\n",
              "    </tr>\n",
              "    <tr>\n",
              "      <th>10312</th>\n",
              "      <td>dont mistake a bad day with depression everyon...</td>\n",
              "      <td>1</td>\n",
              "    </tr>\n",
              "    <tr>\n",
              "      <th>10313</th>\n",
              "      <td>0</td>\n",
              "      <td>1</td>\n",
              "    </tr>\n",
              "  </tbody>\n",
              "</table>\n",
              "<p>10314 rows × 2 columns</p>\n",
              "</div>"
            ],
            "text/plain": [
              "                                                 message  label\n",
              "0      just had a real good moment i missssssssss him...      0\n",
              "1                   is reading manga  httpplurkcompmzp1e      0\n",
              "2      comeagainjen httptwitpiccom2y2lx  httpwwwyoutu...      0\n",
              "3      lapcat Need to send 'em to my accountant tomor...      0\n",
              "4               ADD ME ON MYSPACE  myspacecomLookThunder      0\n",
              "...                                                  ...    ...\n",
              "10309  No Depression by G Herbo is my mood from now o...      1\n",
              "10310  What do you do when depression succumbs the br...      1\n",
              "10311  Ketamine Nasal Spray Shows Promise Against Dep...      1\n",
              "10312  dont mistake a bad day with depression everyon...      1\n",
              "10313                                                  0      1\n",
              "\n",
              "[10314 rows x 2 columns]"
            ]
          },
          "metadata": {},
          "execution_count": 7
        }
      ]
    },
    {
      "cell_type": "code",
      "metadata": {
        "id": "56mHtd7Q7VTZ"
      },
      "source": [
        "dataset.drop(10313,inplace=True)"
      ],
      "execution_count": 8,
      "outputs": []
    },
    {
      "cell_type": "code",
      "metadata": {
        "id": "Yll4EbCn25lL"
      },
      "source": [
        "dataset.rename(columns = {'message':'text'}, inplace = True)"
      ],
      "execution_count": 9,
      "outputs": []
    },
    {
      "cell_type": "code",
      "metadata": {
        "colab": {
          "base_uri": "https://localhost:8080/",
          "height": 417
        },
        "id": "Oh9yFJVb2_o8",
        "outputId": "b288edb1-2cc4-4d36-a82c-66cc584aa039"
      },
      "source": [
        "dataset"
      ],
      "execution_count": 11,
      "outputs": [
        {
          "output_type": "execute_result",
          "data": {
            "text/html": [
              "<div>\n",
              "<style scoped>\n",
              "    .dataframe tbody tr th:only-of-type {\n",
              "        vertical-align: middle;\n",
              "    }\n",
              "\n",
              "    .dataframe tbody tr th {\n",
              "        vertical-align: top;\n",
              "    }\n",
              "\n",
              "    .dataframe thead th {\n",
              "        text-align: right;\n",
              "    }\n",
              "</style>\n",
              "<table border=\"1\" class=\"dataframe\">\n",
              "  <thead>\n",
              "    <tr style=\"text-align: right;\">\n",
              "      <th></th>\n",
              "      <th>text</th>\n",
              "      <th>label</th>\n",
              "    </tr>\n",
              "  </thead>\n",
              "  <tbody>\n",
              "    <tr>\n",
              "      <th>0</th>\n",
              "      <td>just had a real good moment i missssssssss him...</td>\n",
              "      <td>0</td>\n",
              "    </tr>\n",
              "    <tr>\n",
              "      <th>1</th>\n",
              "      <td>is reading manga  httpplurkcompmzp1e</td>\n",
              "      <td>0</td>\n",
              "    </tr>\n",
              "    <tr>\n",
              "      <th>2</th>\n",
              "      <td>comeagainjen httptwitpiccom2y2lx  httpwwwyoutu...</td>\n",
              "      <td>0</td>\n",
              "    </tr>\n",
              "    <tr>\n",
              "      <th>3</th>\n",
              "      <td>lapcat Need to send 'em to my accountant tomor...</td>\n",
              "      <td>0</td>\n",
              "    </tr>\n",
              "    <tr>\n",
              "      <th>4</th>\n",
              "      <td>ADD ME ON MYSPACE  myspacecomLookThunder</td>\n",
              "      <td>0</td>\n",
              "    </tr>\n",
              "    <tr>\n",
              "      <th>...</th>\n",
              "      <td>...</td>\n",
              "      <td>...</td>\n",
              "    </tr>\n",
              "    <tr>\n",
              "      <th>10308</th>\n",
              "      <td>Many sufferers of depression aren't sad they f...</td>\n",
              "      <td>1</td>\n",
              "    </tr>\n",
              "    <tr>\n",
              "      <th>10309</th>\n",
              "      <td>No Depression by G Herbo is my mood from now o...</td>\n",
              "      <td>1</td>\n",
              "    </tr>\n",
              "    <tr>\n",
              "      <th>10310</th>\n",
              "      <td>What do you do when depression succumbs the br...</td>\n",
              "      <td>1</td>\n",
              "    </tr>\n",
              "    <tr>\n",
              "      <th>10311</th>\n",
              "      <td>Ketamine Nasal Spray Shows Promise Against Dep...</td>\n",
              "      <td>1</td>\n",
              "    </tr>\n",
              "    <tr>\n",
              "      <th>10312</th>\n",
              "      <td>dont mistake a bad day with depression everyon...</td>\n",
              "      <td>1</td>\n",
              "    </tr>\n",
              "  </tbody>\n",
              "</table>\n",
              "<p>10313 rows × 2 columns</p>\n",
              "</div>"
            ],
            "text/plain": [
              "                                                    text  label\n",
              "0      just had a real good moment i missssssssss him...      0\n",
              "1                   is reading manga  httpplurkcompmzp1e      0\n",
              "2      comeagainjen httptwitpiccom2y2lx  httpwwwyoutu...      0\n",
              "3      lapcat Need to send 'em to my accountant tomor...      0\n",
              "4               ADD ME ON MYSPACE  myspacecomLookThunder      0\n",
              "...                                                  ...    ...\n",
              "10308  Many sufferers of depression aren't sad they f...      1\n",
              "10309  No Depression by G Herbo is my mood from now o...      1\n",
              "10310  What do you do when depression succumbs the br...      1\n",
              "10311  Ketamine Nasal Spray Shows Promise Against Dep...      1\n",
              "10312  dont mistake a bad day with depression everyon...      1\n",
              "\n",
              "[10313 rows x 2 columns]"
            ]
          },
          "metadata": {},
          "execution_count": 11
        }
      ]
    },
    {
      "cell_type": "code",
      "metadata": {
        "id": "qvUYMVPN6quP"
      },
      "source": [
        "dataset.drop( dataset[dataset.text.str.len() < 5].index, inplace=True)"
      ],
      "execution_count": 12,
      "outputs": []
    },
    {
      "cell_type": "code",
      "metadata": {
        "id": "a_Xr8tlL3a7S"
      },
      "source": [
        "dataset.to_csv('data.csv',index=False)"
      ],
      "execution_count": 13,
      "outputs": []
    },
    {
      "cell_type": "code",
      "metadata": {
        "id": "Xc6OW9_T16JT"
      },
      "source": [
        "#Reproducing same results\n",
        "SEED = 2019\n",
        "\n",
        "#Torch\n",
        "torch.manual_seed(SEED)\n",
        "\n",
        "#Cuda algorithms\n",
        "torch.backends.cudnn.deterministic = True  \n",
        "\n",
        "TEXT = data.Field(tokenize='spacy',batch_first=True,include_lengths=True)\n",
        "LABEL = data.LabelField(dtype = torch.float,batch_first=True)\n",
        "\n",
        "fields = [('text',TEXT),('label', LABEL)]"
      ],
      "execution_count": 14,
      "outputs": []
    },
    {
      "cell_type": "code",
      "metadata": {
        "colab": {
          "base_uri": "https://localhost:8080/"
        },
        "id": "djaDwzz716MS",
        "outputId": "32beb5de-73bb-4ddc-a2c2-a92ab7480916"
      },
      "source": [
        "#loading custom dataset\n",
        "training_data=data.TabularDataset(path = 'data.csv',format = 'csv',fields = fields,skip_header = True)\n",
        "\n",
        "#print preprocessed text\n",
        "print(vars(training_data.examples[2]))"
      ],
      "execution_count": 15,
      "outputs": [
        {
          "output_type": "stream",
          "name": "stdout",
          "text": [
            "{'text': ['comeagainjen', 'httptwitpiccom2y2lx', ' ', 'httpwwwyoutubecomwatchvzoGfqvh2ME8'], 'label': '0'}\n"
          ]
        }
      ]
    },
    {
      "cell_type": "code",
      "metadata": {
        "id": "90l905Vq44Ne"
      },
      "source": [
        "import random\n",
        "train_data, valid_data = training_data.split(split_ratio=0.7, random_state = random.seed(SEED))"
      ],
      "execution_count": 16,
      "outputs": []
    },
    {
      "cell_type": "code",
      "metadata": {
        "colab": {
          "base_uri": "https://localhost:8080/"
        },
        "id": "rl2VRfas16PY",
        "outputId": "63ea87bc-c4f9-4752-f8a9-8bb120fc5875"
      },
      "source": [
        "#initialize glove embeddings\n",
        "TEXT.build_vocab(train_data,min_freq=3,vectors = \"glove.6B.100d\")  \n",
        "LABEL.build_vocab(train_data)\n",
        "\n",
        "#No. of unique tokens in text\n",
        "print(\"Size of TEXT vocabulary:\",len(TEXT.vocab))\n",
        "\n",
        "#No. of unique tokens in label\n",
        "print(\"Size of LABEL vocabulary:\",len(LABEL.vocab))\n",
        "\n",
        "#Commonly used words\n",
        "print(TEXT.vocab.freqs.most_common(10))  \n",
        "\n",
        "#Word dictionary\n",
        "print(TEXT.vocab.stoi)   "
      ],
      "execution_count": 17,
      "outputs": [
        {
          "output_type": "stream",
          "name": "stderr",
          "text": [
            ".vector_cache/glove.6B.zip: 862MB [02:43, 5.28MB/s]                           \n",
            "100%|█████████▉| 399999/400000 [00:17<00:00, 23170.19it/s]\n"
          ]
        },
        {
          "output_type": "stream",
          "name": "stdout",
          "text": [
            "Size of TEXT vocabulary: 3605\n",
            "Size of LABEL vocabulary: 2\n",
            "[(' ', 3416), ('I', 2710), ('to', 2605), ('the', 2399), ('a', 2107), ('and', 1793), ('you', 1605), ('depression', 1269), ('of', 1252), ('it', 1204)]\n",
            "defaultdict(<bound method Vocab._default_unk_index of <torchtext.legacy.vocab.Vocab object at 0x7f17b1b80fd0>>, {'<unk>': 0, '<pad>': 1, ' ': 2, 'I': 3, 'to': 4, 'the': 5, 'a': 6, 'and': 7, 'you': 8, 'depression': 9, 'of': 10, 'it': 11, 'is': 12, 'my': 13, 'for': 14, 'i': 15, 'in': 16, \"'s\": 17, 'that': 18, 'with': 19, 'on': 20, 'me': 21, 'have': 22, \"n't\": 23, 'so': 24, \"'m\": 25, 'do': 26, 'be': 27, 'your': 28, 'was': 29, '\\xa0': 30, 'are': 31, 'just': 32, 'but': 33, 'this': 34, 'not': 35, 'at': 36, 'out': 37, 'good': 38, 'like': 39, 'all': 40, 'day': 41, 'about': 42, 'up': 43, 'love': 44, 'can': 45, '¦': 46, 'from': 47, 'get': 48, 'now': 49, 'Depression': 50, 'Ã¢Â\\x80Â': 51, 'know': 52, \"'\": 53, '  ': 54, 'time': 55, 'what': 56, 'or': 57, 'today': 58, 'will': 59, 'one': 60, 'go': 61, 'some': 62, 'got': 63, 'we': 64, 'u': 65, 'going': 66, 'as': 67, 'It': 68, 'am': 69, 'anxiety': 70, 'more': 71, 'too': 72, 'if': 73, 'when': 74, 'see': 75, 'back': 76, 'has': 77, 'The': 78, 'new': 79, \"'ll\": 80, 'lol': 81, 'how': 82, \"'re\": 83, 'by': 84, 'no': 85, 'there': 86, 'an': 87, 'm': 88, 'much': 89, 'You': 90, 'great': 91, 'think': 92, 'really': 93, 'here': 94, 'they': 95, 'night': 96, 'people': 97, 'work': 98, 'her': 99, 'had': 100, 'amp': 101, 'thanks': 102, 'then': 103, 'who': 104, 'did': 105, 'nt': 106, 'would': 107, 'well': 108, 'ca': 109, 'haha': 110, 'its': 111, \"'ve\": 112, 'he': 113, 'been': 114, 'feel': 115, 'want': 116, '2': 117, 'them': 118, 'My': 119, 'make': 120, 'off': 121, 'Just': 122, 'life': 123, 'need': 124, 'Emoji': 125, 'happy': 126, 'way': 127, 'better': 128, 'fun': 129, 'morning': 130, 'na': 131, 'still': 132, 'again': 133, 'should': 134, 'Good': 135, 'hope': 136, 'last': 137, 'home': 138, 'she': 139, 'only': 140, 'over': 141, 'And': 142, 'bed': 143, 'gon': 144, 'right': 145, 'very': 146, 'Thanks': 147, 'being': 148, 'twitter': 149, '\\xa0 ': 150, 'than': 151, 'everyone': 152, 'face': 153, 'into': 154, '_': 155, 'could': 156, 'nice': 157, 'tomorrow': 158, 'We': 159, 'does': 160, 'wait': 161, 'help': 162, 'even': 163, 'never': 164, 'us': 165, 'because': 166, 'someone': 167, 'after': 168, 'oh': 169, 'What': 170, 'getting': 171, 'take': 172, 'first': 173, 'something': 174, 'come': 175, 'say': 176, 'How': 177, 'our': 178, 'awesome': 179, 'best': 180, 'were': 181, 'That': 182, 'bad': 183, 'friends': 184, 'made': 185, 'his': 186, 'sure': 187, 'thing': 188, 'doing': 189, 'things': 190, 'days': 191, 'down': 192, 'tonight': 193, 'done': 194, 'guys': 195, 'long': 196, 'school': 197, '3': 198, 'So': 199, '4': 200, 'cool': 201, 's': 202, 'watching': 203, 'look': 204, 'ready': 205, 'their': 206, 'though': 207, 'But': 208, 'having': 209, 'week': 210, 'Happy': 211, 'let': 212, 'mental': 213, 'next': 214, 'always': 215, 'ever': 216, 'sleep': 217, 'try': 218, 'while': 219, 'This': 220, 'excited': 221, 'myself': 222, 'soon': 223, 'those': 224, 'watch': 225, 'why': 226, 'other': 227, 'thank': 228, 'weekend': 229, 'him': 230, 'If': 231, 'lot': 232, 'Have': 233, 'Thank': 234, 'friend': 235, 'hey': 236, 'where': 237, '   ': 238, 'A': 239, 'Do': 240, 'LOL': 241, 'No': 242, \"'d\": 243, 'every': 244, 'real': 245, 'song': 246, 'through': 247, 'yeah': 248, 'already': 249, 'amazing': 250, 'feeling': 251, 'follow': 252, 'health': 253, 'show': 254, 'world': 255, 'went': 256, 'makes': 257, 'ok': 258, 'please': 259, 'ur': 260, '5': 261, 'around': 262, 'give': 263, 'lt3': 264, 'little': 265, 'such': 266, 'year': 267, 'yes': 268, 'Is': 269, 'Oh': 270, 'few': 271, 'glad': 272, 'many': 273, 'pretty': 274, 'x': 275, '1': 276, 'Great': 277, 'actually': 278, 'movie': 279, 'also': 280, 'hard': 281, 'via': 282, 'Hey': 283, 'Twitter': 284, 'Well': 285, 'shit': 286, 'tweet': 287, 'wo': 288, 'years': 289, 'Not': 290, 'kids': 291, 'sun': 292, 'use': 293, 'working': 294, 'find': 295, 'girl': 296, 'job': 297, 'man': 298, 'nothing': 299, 'same': 300, 'which': 301, 'another': 302, 'beautiful': 303, 'before': 304, 'check': 305, 'house': 306, 'post': 307, 'read': 308, 'talk': 309, 'any': 310, 'big': 311, 'enjoy': 312, 'hours': 313, 'may': 314, 'said': 315, 'start': 316, 'looking': 317, 'music': 318, 'tell': 319, 'enough': 320, 'person': 321, 'trying': 322, 'wanna': 323, 'wish': 324, 'She': 325, 'bit': 326, 'n': 327, 'sorry': 328, 'anything': 329, 'away': 330, 'birthday': 331, 'coming': 332, 'dinner': 333, 'eating': 334, 'keep': 335, 'later': 336, 'live': 337, 'miss': 338, 'these': 339, 'waiting': 340, 'ya': 341, 'He': 342, 'finally': 343, 'thinking': 344, 'times': 345, 'two': 346, 'yet': 347, 'On': 348, 'both': 349, 'mom': 350, 'old': 351, 'stop': 352, 'thought': 353, '°': 354, 'most': 355, 'party': 356, 'At': 357, 'Love': 358, 'baby': 359, 'cute': 360, 'early': 361, 'eat': 362, 'family': 363, 'hit': 364, 'listening': 365, 'luck': 366, 'might': 367, 'video': 368, 'weather': 369, 'Hi': 370, 'everything': 371, 'hair': 372, 'least': 373, 'once': 374, 'put': 375, 'used': 376, 'Got': 377, 'Hope': 378, 'In': 379, 'Me': 380, 'They': 381, 'When': 382, 'emotional': 383, 'hear': 384, 'making': 385, 'stuff': 386, 'summer': 387, 'till': 388, 'tired': 389, '10': 390, 'Going': 391, 'almost': 392, 'anyone': 393, 'blog': 394, 'care': 395, 'food': 396, 'found': 397, 'game': 398, 'own': 399, 'since': 400, 'stress': 401, 'true': 402, '100': 403, 'Mom': 404, 'THE': 405, 'guess': 406, 'maybe': 407, 'money': 408, 'outside': 409, 'room': 410, 'sad': 411, 'study': 412, 'using': 413, 'xx': 414, 'yay': 415, 'Now': 416, 'called': 417, 'else': 418, 'followers': 419, 'free': 420, 'fucking': 421, 'heart': 422, 'left': 423, 'looks': 424, 'lovely': 425, 'pain': 426, 'pay': 427, 'phone': 428, 'taking': 429, 'without': 430, 'Ca': 431, 'Day': 432, 'Its': 433, 'There': 434, 'Your': 435, 'anyway': 436, 'coffee': 437, 'hot': 438, 'late': 439, 'mean': 440, 'play': 441, 'talking': 442, 'w': 443, 'yesterday': 444, 'For': 445, 'God': 446, 'To': 447, 'buy': 448, 'cause': 449, 'crazy': 450, 'development': 451, 'faceEmoji': 452, 'following': 453, 'helps': 454, 'mentalhealth': 455, 'mind': 456, 'place': 457, 'remember': 458, 'sounds': 459, 'told': 460, 'whole': 461, 'LOVE': 462, 'Lol': 463, 'Why': 464, 'YOU': 465, 'add': 466, 'book': 467, 'email': 468, 'far': 469, 'forward': 470, 'funny': 471, 'illness': 472, 'loved': 473, 'pic': 474, 'ta': 475, 'totally': 476, 'welcome': 477, 'Get': 478, 'Morning': 479, 'Watching': 480, 'Yes': 481, 'came': 482, 'crying': 483, 'easy': 484, 'end': 485, 'etc': 486, 'others': 487, 'playing': 488, 'quite': 489, 'reason': 490, 'self': 491, 'stay': 492, 'suffering': 493, 'support': 494, 'thoughts': 495, 'took': 496, 'Maybe': 497, 'New': 498, 'Time': 499, 'Yeah': 500, 'ago': 501, 'ass': 502, 'call': 503, 'children': 504, 'cured': 505, 'fine': 506, 'ha': 507, 'hate': 508, 'light': 509, 'nap': 510, 'okay': 511, 'probably': 512, 'red': 513, 'side': 514, 'skin': 515, 'tied': 516, 'won': 517, 'wow': 518, '20': 519, '7': 520, 'All': 521, 'Haha': 522, 'More': 523, 'damn': 524, 'depressed': 525, 'full': 526, 'hand': 527, 'head': 528, 'hehe': 529, 'hi': 530, 'intellectual': 531, 'interesting': 532, 'seeing': 533, '©': 534, '6': 535, 'appreciate': 536, 'car': 537, 'comes': 538, 'during': 539, 'forget': 540, 'gone': 541, 'happen': 542, 'idea': 543, 'ill': 544, 'listen': 545, 'mine': 546, 'saw': 547, 'second': 548, 'story': 549, 'sweet': 550, 'train': 551, 'tweets': 552, 'wanted': 553, 'wants': 554, 'Anxiety': 555, 'Can': 556, 'Once': 557, 'Please': 558, 'Will': 559, 'With': 560, 'Yay': 561, 'ai': 562, 'album': 563, 'busy': 564, 'gt': 565, 'hahaha': 566, 'lost': 567, 'lunch': 568, 'name': 569, 'part': 570, 'rain': 571, 'shopping': 572, 'super': 573, 'trip': 574, 'win': 575, 'wrong': 576, 'Let': 577, 'Life': 578, 'Nice': 579, 'Wow': 580, 'band': 581, 'believe': 582, 'class': 583, 'college': 584, 'definitely': 585, 'disorder': 586, 'favorite': 587, 'gets': 588, 'hopefully': 589, 'mood': 590, 'movies': 591, 'run': 592, 'seen': 593, 'set': 594, 'share': 595, 'understand': 596, 'worry': 597, 'worth': 598, 'yourself': 599, 'DEPRESSION': 600, 'Had': 601, 'IT': 602, 'June': 603, 'Only': 604, 'Smiling': 605, 'Today': 606, ']': 607, 'able': 608, 'afternoon': 609, 'course': 610, 'experience': 611, 'hell': 612, 'leave': 613, 'must': 614, 'point': 615, 'ppl': 616, 'problem': 617, 'severe': 618, 'together': 619, 'tommcfly': 620, 'top': 621, 'visit': 622, 'watched': 623, 'wedding': 624, 'y': 625, 'As': 626, 'D': 627, 'One': 628, 'Sunday': 629, 'U': 630, 'bipolar': 631, 'bought': 632, 'boy': 633, 'brain': 634, 'bring': 635, 'btw': 636, 'change': 637, 'deal': 638, 'decided': 639, 'fight': 640, 'heard': 641, 'hello': 642, 'laugh': 643, 'lmao': 644, 'mother': 645, 'page': 646, 'pick': 647, 'problems': 648, 'proud': 649, 'reply': 650, 'says': 651, 'seems': 652, 'shower': 653, 'sign': 654, 'sleeping': 655, 'social': 656, 'suffer': 657, 'suicide': 658, 'wonderful': 659, 'write': 660, 'Are': 661, 'Face': 662, 'Goodnight': 663, 'Last': 664, 'May': 665, 'Off': 666, 'Saturday': 667, 'ask': 668, 'b': 669, 'bitch': 670, 'breakfast': 671, 'cold': 672, 'cure': 673, 'drug': 674, 'evening': 675, 'fall': 676, 'finished': 677, 'god': 678, 'issues': 679, 'link': 680, 'meet': 681, 'months': 682, 'online': 683, 'past': 684, 'perfect': 685, 'positive': 686, 'risk': 687, 'rock': 688, 'send': 689, 'site': 690, 'state': 691, 'sucks': 692, 'tears': 693, 'until': 694, 'worse': 695, '12': 696, '1st': 697, 'AND': 698, 'Getting': 699, 'Here': 700, 'NOT': 701, 'OMG': 702, 'YAY': 703, 'YouTube': 704, 'awake': 705, 'bc': 706, 'business': 707, 'dark': 708, 'drinking': 709, 'enjoying': 710, 'fuck': 711, 'gave': 712, 'giving': 713, 'guy': 714, 'joke': 715, 'joy': 716, 'less': 717, 'low': 718, 'nights': 719, 'reading': 720, 'rest': 721, 'saying': 722, 'serious': 723, 'songs': 724, 'starting': 725, 'tho': 726, 'weeks': 727, 'white': 728, 'works': 729, 'Be': 730, 'Finally': 731, 'Friday': 732, 'Go': 733, 'Having': 734, 'Like': 735, 'ME': 736, 'MY': 737, 'Night': 738, 'SO': 739, '[': 740, 'alone': 741, 'along': 742, 'answer': 743, 'asleep': 744, 'bout': 745, 'break': 746, 'cannabis': 747, 'drive': 748, 'each': 749, 'followfriday': 750, 'garden': 751, 'goodnight': 752, 'guitar': 753, 'half': 754, 'hands': 755, 'kind': 756, 'learn': 757, 'mileycyrus': 758, 'moment': 759, 'ones': 760, 'picture': 761, 'r': 762, 'started': 763, 'tea': 764, 'text': 765, 'vip': 766, 'Back': 767, 'Did': 768, 'Heavy': 769, 'Loudly': 770, 'ON': 771, 'TO': 772, 'US': 773, 'Up': 774, 'aww': 775, 'bday': 776, 'beach': 777, 'become': 778, 'chronic': 779, 'concert': 780, 'cut': 781, 'dad': 782, 'different': 783, 'especially': 784, 'exactly': 785, 'exercise': 786, 'helped': 787, 'kinda': 788, 'liked': 789, 'living': 790, 'loves': 791, 'luv': 792, 'month': 793, 'needs': 794, 'physical': 795, 'piece': 796, 'season': 797, 'therapy': 798, 'type': 799, '30': 800, 'About': 801, 'Best': 802, 'Cool': 803, 'FOR': 804, 'Hello': 805, 'IS': 806, 'Ok': 807, 'Still': 808, 'congrats': 809, 'crippling': 810, 'ddlovato': 811, 'deep': 812, 'deserve': 813, 'dude': 814, 'either': 815, 'episode': 816, 'fact': 817, 'film': 818, 'friday': 819, 'girls': 820, 'goes': 821, 'high': 822, 'join': 823, 'knew': 824, 'knows': 825, 'lazy': 826, 'myspace': 827, 'news': 828, 'nite': 829, 'number': 830, 'o': 831, 'often': 832, 'open': 833, 'p': 834, 'pm': 835, 'sick': 836, 'sitting': 837, 'sometimes': 838, 'symptoms': 839, 'tour': 840, 'training': 841, 'tried': 842, 'turn': 843, 'under': 844, 'vacation': 845, 'walk': 846, 'woke': 847, 'wonder': 848, 'Ah': 849, 'Check': 850, 'Glad': 851, 'Monday': 852, 'Or': 853, 'People': 854, 'Then': 855, 'Weary': 856, 'Who': 857, 'Wish': 858, 'absolutely': 859, 'agree': 860, 'art': 861, 'awww': 862, 'behind': 863, 'chance': 864, 'computer': 865, 'couple': 866, 'daily': 867, 'dealing': 868, 'drink': 869, 'everybody': 870, 'eyes': 871, 'fans': 872, 'fit': 873, 'green': 874, 'healthy': 875, 'history': 876, 'honestly': 877, 'hour': 878, 'instead': 879, 'lets': 880, 'literally': 881, 'lucky': 882, 'matter': 883, 'mcflyforgermany': 884, 'men': 885, 'million': 886, 'missed': 887, 'panic': 888, 'parents': 889, 'peace': 890, 'photo': 891, 'pizza': 892, 'plan': 893, 'puff': 894, 'running': 895, 'safe': 896, 'sex': 897, 'shows': 898, 'sing': 899, 'smile': 900, 'special': 901, 'spend': 902, 'struggling': 903, 'sunshine': 904, 'teens': 905, 'tweeting': 906, 'wake': 907, 'words': 908, 'worked': 909, 'worst': 910, 'wrote': 911, 'yours': 912, 'Â\\x95Ã«Â´Â\\x84Ã¬Â': 913, 'Â\\x9cÃ«Â': 914, 'Â\\x9cÃ«Â\\x82Â´Ã«Â²Â\\x84Ã«Â': 915, 'Ã«Â': 916, '8': 917, 'Am': 918, 'Another': 919, 'Birthday': 920, 'Everyone': 921, 'Looking': 922, 'OF': 923, 'Read': 924, 'Was': 925, 'battle': 926, 'books': 927, 'broke': 928, 'cream': 929, 'death': 930, 'fan': 931, 'fighting': 932, 'graduation': 933, 'helping': 934, 'important': 935, 'interview': 936, 'knowing': 937, 'media': 938, 'move': 939, 'pictures': 940, 'raining': 941, 'sent': 942, 'sister': 943, 'straight': 944, 'strong': 945, 'struggle': 946, 'sunny': 947, 'supposed': 948, 'taken': 949, 'thinks': 950, 'three': 951, 'til': 952, 'truly': 953, 'tv': 954, 'war': 955, 'water': 956, 'weight': 957, '    ': 958, '16': 959, 'ALL': 960, 'After': 961, 'Also': 962, 'Awesome': 963, 'Facebook': 964, 'Help': 965, 'July': 966, 'LA': 967, 'Listening': 968, 'Man': 969, 'Okay': 970, 'Right': 971, 'UP': 972, 'alot': 973, 'anymore': 974, 'attacks': 975, 'beat': 976, 'body': 977, 'case': 978, 'catch': 979, 'caused': 980, 'chat': 981, 'church': 982, 'clean': 983, 'comment': 984, 'cos': 985, 'date': 986, 'def': 987, 'ease': 988, 'enjoyed': 989, 'feels': 990, 'finish': 991, 'fix': 992, 'forgot': 993, 'gives': 994, 'hang': 995, 'happiness': 996, 'heading': 997, 'human': 998, 'jealous': 999, 'keeps': 1000, 'lil': 1001, 'longer': 1002, 'message': 1003, 'minute': 1004, 'minutes': 1005, 'monday': 1006, 'pool': 1007, 'posted': 1008, 're': 1009, 'relax': 1010, 'research': 1011, 'ride': 1012, 'sexy': 1013, 'shall': 1014, 'short': 1015, 'sooo': 1016, 'stupid': 1017, 'style': 1018, 'suicidal': 1019, 'takes': 1020, 'team': 1021, 'test': 1022, 'town': 1023, 'update': 1024, 've': 1025, 'view': 1026, 'warm': 1027, 'weird': 1028, 'wine': 1029, 'winning': 1030, 'xxx': 1031, 'young': 1032, 'Â¤Ã«Â\\x91Â\\x90Ã¬Â\\x84Â¸Ã¬Â\\x9aÂ\\x94': 1033, 'AM': 1034, 'Congrats': 1035, 'Could': 1036, 'Enjoy': 1037, 'Exercise': 1038, 'Follow': 1039, 'MentalHealth': 1040, 'Mother': 1041, 'Need': 1042, 'News': 1043, 'Of': 1044, 'Our': 1045, 'Park': 1046, 'Really': 1047, 'See': 1048, 'Suicide': 1049, 'THAT': 1050, 'Take': 1051, 'Very': 1052, 'Welcome': 1053, 'account': 1054, 'actual': 1055, 'against': 1056, 'anytime': 1057, 'attention': 1058, 'background': 1059, 'between': 1060, 'black': 1061, 'boys': 1062, 'chill': 1063, 'choice': 1064, 'close': 1065, 'cry': 1066, 'cuz': 1067, 'depressionanxiety': 1068, 'disease': 1069, 'doctor': 1070, 'door': 1071, 'energy': 1072, 'fb': 1073, 'felt': 1074, 'figure': 1075, 'final': 1076, 'followed': 1077, 'goin': 1078, 'hahahaha': 1079, 'hanging': 1080, 'hits': 1081, 'homework': 1082, 'huge': 1083, 'hungry': 1084, 'hurt': 1085, 'indeed': 1086, 'internet': 1087, 'issue': 1088, 'line': 1089, 'lose': 1090, 'meant': 1091, 'meds': 1092, 'met': 1093, 'middle': 1094, 'model': 1095, 'mothers': 1096, 'mouth': 1097, 'nobody': 1098, 'normal': 1099, 'omg': 1100, 'pass': 1101, 'patients': 1102, 'plans': 1103, 'played': 1104, 'poor': 1105, 'questions': 1106, 'regularly': 1107, 'rise': 1108, 'secret': 1109, 'seem': 1110, 'signs': 1111, 'smiling': 1112, 'society': 1113, 'soooo': 1114, 'suffered': 1115, 'sunday': 1116, 'updates': 1117, 'voice': 1118, 'walking': 1119, 'ways': 1120, 'word': 1121, 'wwwtweeteraddercom': 1122, 'xoxo': 1123, 'yummy': 1124, \"'S\": 1125, '21': 1126, '25': 1127, 'AWESOME': 1128, 'Almost': 1129, 'Avoid': 1130, 'Bom': 1131, 'DAY': 1132, 'DM': 1133, 'Even': 1134, 'Friends': 1135, 'IN': 1136, 'JUST': 1137, 'Miley': 1138, 'Most': 1139, 'Mothers': 1140, 'Mr': 1141, 'Nothing': 1142, 'O': 1143, 'OK': 1144, 'PTSD': 1145, 'S': 1146, 'Should': 1147, 'Sounds': 1148, 'Tomorrow': 1149, 'UK': 1150, 'activity': 1151, 'added': 1152, 'addiction': 1153, 'age': 1154, 'anger': 1155, 'article': 1156, 'ate': 1157, 'awards': 1158, 'beer': 1159, 'blue': 1160, 'bottle': 1161, 'brother': 1162, 'bye': 1163, 'cake': 1164, 'camera': 1165, 'cares': 1166, 'causes': 1167, 'choiceDepression': 1168, 'constantly': 1169, 'cook': 1170, 'cooking': 1171, 'cousin': 1172, 'cover': 1173, 'crap': 1174, 'da': 1175, 'dance': 1176, 'dream': 1177, 'dreams': 1178, 'driving': 1179, 'exam': 1180, 'fake': 1181, 'fingers': 1182, 'group': 1183, 'hahah': 1184, 'highly': 1185, 'however': 1186, 'ice': 1187, 'imagine': 1188, 'info': 1189, 'inside': 1190, 'ist': 1191, 'june': 1192, 'kick': 1193, 'ladies': 1194, 'laptop': 1195, 'lately': 1196, 'learning': 1197, 'list': 1198, 'loneliness': 1199, 'lots': 1200, 'mall': 1201, 'massive': 1202, 'medication': 1203, 'medium': 1204, 'meeting': 1205, 'miley': 1206, 'moon': 1207, 'mum': 1208, 'pack': 1209, 'packing': 1210, 'passed': 1211, 'pleasure': 1212, 'porn': 1213, 'pray': 1214, 'present': 1215, 'pressure': 1216, 'promise': 1217, 'question': 1218, 'record': 1219, 'relationship': 1220, 'rn': 1221, 'road': 1222, 'round': 1223, 'row': 1224, 'scared': 1225, 'single': 1226, 'small': 1227, 'soo': 1228, 'sound': 1229, 'spending': 1230, 'stigma': 1231, 't': 1232, 'talks': 1233, 'terrible': 1234, 'topic': 1235, 'trauma': 1236, 'treatment': 1237, 'vote': 1238, 'wearing': 1239, 'website': 1240, 'whether': 1241, 'wife': 1242, 'woo': 1243, 'writing': 1244, 'xD': 1245, 'yum': 1246, 'Ã¢Â\\x80Â\\x93': 1247, '24': 1248, '30SECONDSTOMARS': 1249, '9': 1250, 'Aww': 1251, 'Been': 1252, 'By': 1253, 'City': 1254, 'Come': 1255, 'Congratulations': 1256, 'Disney': 1257, 'Does': 1258, 'Enjoying': 1259, 'Especially': 1260, 'Exercising': 1261, 'FINALLY': 1262, 'Feeling': 1263, 'Free': 1264, 'Heading': 1265, 'Jesus': 1266, 'Lakers': 1267, 'Live': 1268, 'Never': 1269, 'PLEASE': 1270, 'PM': 1271, 'Person': 1272, 'Playing': 1273, 'Running': 1274, 'Show': 1275, 'Sometimes': 1276, 'TV': 1277, 'Tell': 1278, 'Therapy': 1279, 'Things': 1280, 'Trump': 1281, 'Vaastu': 1282, 'Where': 1283, 'Which': 1284, 'World': 1285, 'XD': 1286, 'abt': 1287, 'afraid': 1288, 'babe': 1289, 'bar': 1290, 'based': 1291, 'bet': 1292, 'beyond': 1293, 'bless': 1294, 'bored': 1295, 'boring': 1296, 'bother': 1297, 'brothers': 1298, 'bus': 1299, 'cancer': 1300, 'card': 1301, 'chicken': 1302, 'clothes': 1303, 'control': 1304, 'cuts': 1305, 'd': 1306, 'dear': 1307, 'developing': 1308, 'diagnosed': 1309, 'die': 1310, 'dougiemcfly': 1311, 'drunk': 1312, 'due': 1313, 'earlier': 1314, 'effects': 1315, 'eh': 1316, 'emotions': 1317, 'entire': 1318, 'escape': 1319, 'everyday': 1320, 'fabulous': 1321, 'falling': 1322, 'fantastic': 1323, 'fast': 1324, 'fat': 1325, 'fav': 1326, 'favourite': 1327, 'focus': 1328, 'front': 1329, 'glass': 1330, 'gym': 1331, 'hangover': 1332, 'happened': 1333, 'headed': 1334, 'heartEmoji': 1335, 'heartshaped': 1336, 'hold': 1337, 'hoping': 1338, 'httpsifttt2HtVZCEÃ\\x82Â': 1339, 'hug': 1340, 'hugs': 1341, 'huh': 1342, 'including': 1343, 'jordanknight': 1344, 'kill': 1345, 'leaving': 1346, 'level': 1347, 'lives': 1348, 'lonely': 1349, 'losing': 1350, 'loving': 1351, 'mad': 1352, 'major': 1353, 'married': 1354, 'missing': 1355, 'mix': 1356, 'moved': 1357, 'moving': 1358, 'offer': 1359, 'officially': 1360, 'older': 1361, 'overcome': 1362, 'personal': 1363, 'planned': 1364, 'planning': 1365, 'podcast': 1366, 'power': 1367, 'psychology': 1368, 'purpose': 1369, 'quality': 1370, 'reasons': 1371, 'sense': 1372, 'session': 1373, 'shoes': 1374, 'shop': 1375, 'showing': 1376, 'sit': 1377, 'situation': 1378, 'slept': 1379, 'smoke': 1380, 'star': 1381, 'street': 1382, 'swear': 1383, 'table': 1384, 'tan': 1385, 'thx': 1386, 'tickets': 1387, 'tone': 1388, 'toneEmoji': 1389, 'trust': 1390, 'turned': 1391, 'twice': 1392, 'updated': 1393, 'videos': 1394, 'waking': 1395, 'wear': 1396, 'web': 1397, 'women': 1398, 'workout': 1399, 'yea': 1400, 'Ã': 1401, 'Ã¢Â\\x80Â\\x94': 1402, '1000': 1403, '2nite': 1404, '300': 1405, '50': 1406, 'ARE': 1407, 'Amazing': 1408, 'Americans': 1409, 'App': 1410, 'Because': 1411, 'Big': 1412, 'Black': 1413, 'Call': 1414, 'Crying': 1415, 'DO': 1416, \"DON'T\": 1417, 'English': 1418, 'Every': 1419, 'First': 1420, 'G': 1421, 'GET': 1422, 'GO': 1423, 'Gon': 1424, 'Harry': 1425, 'Health': 1426, 'John': 1427, 'Jonas': 1428, 'Jonasbrothers': 1429, 'Keep': 1430, 'Looks': 1431, 'Many': 1432, 'Mental': 1433, 'NO': 1434, 'Out': 1435, 'Pensive': 1436, 'Post': 1437, 'Power': 1438, 'Saw': 1439, 'Sitting': 1440, 'Some': 1441, 'Struggle': 1442, 'Sweet': 1443, 'These': 1444, 'Tim': 1445, 'Too': 1446, 'Trying': 1447, 'Tuesday': 1448, 'Two': 1449, 'advice': 1450, 'affect': 1451, 'ages': 1452, 'ahh': 1453, 'alright': 1454, 'anxietydepression': 1455, 'apple': 1456, 'area': 1457, 'avatar': 1458, 'bike': 1459, 'blame': 1460, 'brought': 1461, 'buying': 1462, 'calling': 1463, 'cd': 1464, 'changes': 1465, 'city': 1466, 'closer': 1467, 'company': 1468, 'condition': 1469, 'conditions': 1470, 'contact': 1471, 'content': 1472, 'continue': 1473, 'conversations': 1474, 'cookies': 1475, 'copy': 1476, 'count': 1477, 'country': 1478, 'created': 1479, 'crossed': 1480, 'design': 1481, 'diet': 1482, 'difficult': 1483, 'dog': 1484, 'doin': 1485, 'double': 1486, 'doubt': 1487, 'drama': 1488, 'dress': 1489, 'earth': 1490, 'eggs': 1491, 'evidence': 1492, 'except': 1493, 'exciting': 1494, 'extra': 1495, 'fam': 1496, 'fave': 1497, 'ff': 1498, 'fixed': 1499, 'flowers': 1500, 'fly': 1501, 'fresh': 1502, 'future': 1503, 'girlfriend': 1504, 'greatest': 1505, 'happens': 1506, 'harm': 1507, 'healing': 1508, 'hrs': 1509, 'hubby': 1510, 'idk': 1511, 'imma': 1512, 'improve': 1513, 'information': 1514, 'insomnia': 1515, 'jobs': 1516, 'keeping': 1517, 'kicking': 1518, 'lack': 1519, 'lady': 1520, 'learned': 1521, 'local': 1522, 'looked': 1523, 'means': 1524, 'meditation': 1525, 'memory': 1526, 'miles': 1527, 'mostly': 1528, 'naps': 1529, 'nearly': 1530, 'nom': 1531, 'note': 1532, 'opening': 1533, 'orange': 1534, 'paint': 1535, 'perhaps': 1536, 'pics': 1537, 'possible': 1538, 'postpartum': 1539, 'posts': 1540, 'practice': 1541, 'prevent': 1542, 'properly': 1543, 'pull': 1544, 'realize': 1545, 'realized': 1546, 'recommend': 1547, 'response': 1548, 'sadDepression': 1549, 'sadness': 1550, 'saved': 1551, 'sending': 1552, 'service': 1553, 'shot': 1554, 'singing': 1555, 'sis': 1556, 'sky': 1557, 'sleepy': 1558, 'slowly': 1559, 'smell': 1560, 'son': 1561, 'sort': 1562, 'speaking': 1563, 'spent': 1564, 'spread': 1565, 'step': 1566, 'stuck': 1567, 'students': 1568, 'suck': 1569, 'suggests': 1570, 'taste': 1571, 'teacher': 1572, 'terms': 1573, 'thru': 1574, 'touch': 1575, 'track': 1576, 'treating': 1577, 'truck': 1578, 'usually': 1579, 'vodka': 1580, 'votes': 1581, 'vs': 1582, 'weed': 1583, 'wins': 1584, 'wit': 1585, 'woman': 1586, '«': 1587, '     ': 1588, '0': 1589, '11': 1590, '15': 1591, '18002738255': 1592, '22': 1593, '2nd': 1594, 'AMAZING': 1595, 'AT': 1596, 'Always': 1597, 'Anyway': 1598, 'BTW': 1599, 'Beautiful': 1600, 'Bout': 1601, 'Cat': 1602, 'DEATH': 1603, 'DavidArchie': 1604, 'DonnieWahlberg': 1605, 'Eating': 1606, 'Family': 1607, 'Federal': 1608, 'From': 1609, 'Funny': 1610, 'GREAT': 1611, 'HAVE': 1612, 'Ha': 1613, 'Harmful': 1614, 'Helps': 1615, 'ITS': 1616, 'J': 1617, 'James': 1618, 'JonathanRKnight': 1619, 'Know': 1620, 'L': 1621, 'Listen': 1622, 'London': 1623, 'Long': 1624, 'Look': 1625, 'MUCH': 1626, 'Make': 1627, 'Mark': 1628, 'Music': 1629, 'National': 1630, 'Next': 1631, 'Obama': 1632, 'Omg': 1633, 'Party': 1634, 'Phrases': 1635, 'Pink': 1636, 'Potentially': 1637, 'Pretty': 1638, 'RT': 1639, 'Same': 1640, 'Social': 1641, 'Sorry': 1642, 'Spent': 1643, 'Sure': 1644, 'Talks': 1645, 'Those': 1646, 'Thursday': 1647, 'Tom': 1648, 'Use': 1649, 'WILL': 1650, 'WOW': 1651, 'Waving': 1652, 'While': 1653, 'Working': 1654, 'YES': 1655, 'YOUR': 1656, 'according': 1657, 'act': 1658, 'active': 1659, 'addicted': 1660, 'admit': 1661, 'ah': 1662, 'ahead': 1663, 'airport': 1664, 'annoying': 1665, 'apart': 1666, 'arrived': 1667, 'asked': 1668, 'attack': 1669, 'aw': 1670, 'basically': 1671, 'bb': 1672, 'bear': 1673, 'beers': 1674, 'bigger': 1675, 'birds': 1676, 'blessed': 1677, 'board': 1678, 'bro': 1679, 'bunch': 1680, 'carry': 1681, 'causing': 1682, 'changed': 1683, 'cheese': 1684, 'choose': 1685, 'classes': 1686, 'clinical': 1687, 'clue': 1688, 'color': 1689, 'combat': 1690, 'common': 1691, 'constant': 1692, 'cope': 1693, 'creative': 1694, 'daughter': 1695, 'de': 1696, 'debt': 1697, 'decision': 1698, 'diagnosis': 1699, 'drop': 1700, 'drugs': 1701, 'em': 1702, 'ends': 1703, 'epic': 1704, 'event': 1705, 'exams': 1706, 'explain': 1707, 'famous': 1708, 'fell': 1709, 'field': 1710, 'filled': 1711, 'finds': 1712, 'five': 1713, 'floor': 1714, 'folded': 1715, 'football': 1716, 'forever': 1717, 'fully': 1718, 'games': 1719, 'glasses': 1720, 'goodness': 1721, 'google': 1722, 'grow': 1723, 'happening': 1724, 'hilarious': 1725, 'himself': 1726, 'hitting': 1727, 'hmm': 1728, 'holiday': 1729, 'honor': 1730, 'httpnewsskycomstoryexercisingregularlycutsriskofdepressionby16studysuggests11346264Ã\\x82Â': 1731, 'hurts': 1732, 'husband': 1733, 'interested': 1734, 'jonas': 1735, 'july': 1736, 'k': 1737, 'kid': 1738, 'known': 1739, 'land': 1740, 'lead': 1741, 'letting': 1742, 'lie': 1743, 'ma': 1744, 'main': 1745, 'mama': 1746, 'medical': 1747, 'mentalillness': 1748, 'mention': 1749, 'millennials': 1750, 'mindfulness': 1751, 'mins': 1752, 'moms': 1753, 'mtv': 1754, 'near': 1755, 'needed': 1756, 'negative': 1757, 'notice': 1758, 'office': 1759, 'opinion': 1760, 'ordered': 1761, 'outfit': 1762, 'overall': 1763, 'photos': 1764, 'places': 1765, 'playlist': 1766, 'pls': 1767, 'process': 1768, 'puppy': 1769, 'quick': 1770, 'quit': 1771, 'random': 1772, 'rather': 1773, 'realise': 1774, 'relaxing': 1775, 'rt': 1776, 'sa': 1777, 'saturday': 1778, 'screen': 1779, 'seasonal': 1780, 'series': 1781, 'seriously': 1782, 'setting': 1783, 'several': 1784, 'shares': 1785, 'shine': 1786, 'shirt': 1787, 'shots': 1788, 'sir': 1789, 'slow': 1790, 'somebody': 1791, 'somehow': 1792, 'sore': 1793, 'soup': 1794, 'speak': 1795, 'stars': 1796, 'staying': 1797, 'stoked': 1798, 'stressed': 1799, 'stressing': 1800, 'subject': 1801, 'survived': 1802, 'system': 1803, 'thread': 1804, 'ticket': 1805, 'tip': 1806, 'treat': 1807, 'trigger': 1808, 'twilight': 1809, 'ugh': 1810, 'ugly': 1811, 'whatever': 1812, 'wild': 1813, 'within': 1814, 'wondering': 1815, 'woot': 1816, 'worries': 1817, 'written': 1818, 'wwwtweeterfollowcom': 1819, \"y'\": 1820, 'yep': 1821, 'youtube': 1822, 'yrs': 1823, 'yup': 1824, 'Ã¢â\\x84¢Â': 1825, '13th': 1826, '140': 1827, '18': 1828, '3rd': 1829, '40': 1830, '7th': 1831, 'Actually': 1832, 'Addiction': 1833, 'An': 1834, 'Anyone': 1835, 'August': 1836, 'Awwww': 1837, 'B': 1838, 'BBQ': 1839, 'BE': 1840, 'BIG': 1841, 'Being': 1842, 'Bowie': 1843, 'British': 1844, 'Bush': 1845, 'Canada': 1846, 'Chris': 1847, 'David': 1848, 'Deepika': 1849, 'Disappointed': 1850, 'Dr': 1851, 'E3': 1852, 'Everybody': 1853, 'FUN': 1854, 'GOT': 1855, 'HAPPY': 1856, 'HE': 1857, 'Hahaha': 1858, 'His': 1859, 'Hmm': 1860, 'Hmmm': 1861, 'House': 1862, 'IM': 1863, 'Idk': 1864, 'Irish': 1865, 'KimKardashian': 1866, 'LIFE': 1867, 'Living': 1868, 'M': 1869, 'MTV': 1870, 'Made': 1871, 'Men': 1872, 'Michelle': 1873, 'Might': 1874, 'Mike': 1875, 'Moon': 1876, 'Must': 1877, 'NEW': 1878, 'NIMHgov': 1879, 'NOTHING': 1880, 'OH': 1881, 'OUR': 1882, 'Over': 1883, 'PR': 1884, 'Part': 1885, 'Perhaps': 1886, 'R': 1887, 'REALLY': 1888, 'Ready': 1889, 'Real': 1890, 'Save': 1891, 'Say': 1892, 'Seattle': 1893, 'Sims': 1894, 'Skype': 1895, 'Sleep': 1896, 'Sleeping': 1897, 'Slightly': 1898, 'South': 1899, 'Star': 1900, 'Symptoms': 1901, 'T': 1902, 'THANK': 1903, 'TWITTER': 1904, 'Taking': 1905, 'Thanx': 1906, 'Think': 1907, 'Totally': 1908, 'Trek': 1909, 'Twittering': 1910, 'Um': 1911, 'War': 1912, 'Went': 1913, 'Whatever': 1914, 'Woot': 1915, 'Wossy': 1916, 'Yep': 1917, 'Yesterday': 1918, 'ampamp': 1919, 'anniversary': 1920, 'artist': 1921, 'available': 1922, 'awareness': 1923, 'bag': 1924, 'baseball': 1925, 'bath': 1926, 'belly': 1927, 'bible': 1928, 'biggest': 1929, 'bitches': 1930, 'blast': 1931, 'blend': 1932, 'blood': 1933, 'bom': 1934, 'breaking': 1935, 'breeze': 1936, 'brush': 1937, 'burn': 1938, 'c': 1939, 'camp': 1940, 'cards': 1941, 'cars': 1942, 'cases': 1943, 'cats': 1944, 'certainly': 1945, 'channel': 1946, 'character': 1947, 'checked': 1948, 'cheers': 1949, 'chilling': 1950, 'chips': 1951, 'chocolate': 1952, 'cleaning': 1953, 'clear': 1954, 'comics': 1955, 'community': 1956, 'competition': 1957, 'complain': 1958, 'conference': 1959, 'congratulations': 1960, 'crash': 1961, 'cup': 1962, 'cures': 1963, 'currently': 1964, 'dangerous': 1965, 'decreases': 1966, 'delicious': 1967, 'dementia': 1968, 'depends': 1969, 'depressionEmoji': 1970, 'deserves': 1971, 'digging': 1972, 'direct': 1973, 'discuss': 1974, 'disorders': 1975, 'draw': 1976, 'drawing': 1977, 'dying': 1978, 'e': 1979, 'easier': 1980, 'emails': 1981, 'empty': 1982, 'experts': 1983, 'eye': 1984, 'eyesEmoji': 1985, 'facebook': 1986, 'failure': 1987, 'feed': 1988, 'feelin': 1989, 'feelings': 1990, 'female': 1991, 'fever': 1992, 'finding': 1993, 'finishing': 1994, 'flight': 1995, 'folks': 1996, 'follower': 1997, 'french': 1998, 'fuckin': 1999, 'gas': 2000, 'gay': 2001, 'gift': 2002, 'given': 2003, 'goal': 2004, 'gorgeous': 2005, 'gosh': 2006, 'grass': 2007, 'greater': 2008, 'grief': 2009, 'gut': 2010, 'hah': 2011, 'happier': 2012, 'hee': 2013, 'hide': 2014, 'higher': 2015, 'homie': 2016, 'httpswwwsciencedailycomreleases201804180424184119htmÃ\\x82Â': 2017, 'hun': 2018, 'iPhone': 2019, 'ignored': 2020, 'illnesses': 2021, 'image': 2022, 'increased': 2023, 'incredible': 2024, 'incredibly': 2025, 'ipod': 2026, 'jk': 2027, 'joining': 2028, 'joyEmoji': 2029, 'jst': 2030, 'kanyewest': 2031, 'key': 2032, 'kidding': 2033, 'kristenstewart9': 2034, 'la': 2035, 'lakers': 2036, 'laughing': 2037, 'leg': 2038, 'legs': 2039, 'library': 2040, 'lifting': 2041, 'likely': 2042, 'linked': 2043, 'lmfao': 2044, 'loud': 2045, 'lt': 2046, 'lt333': 2047, 'macbook': 2048, 'majority': 2049, 'manage': 2050, 'managed': 2051, 'mark': 2052, 'mate': 2053, 'meal': 2054, 'medicine': 2055, 'memes': 2056, 'miserable': 2057, 'mistake': 2058, 'modern': 2059, 'motivation': 2060, 'muscle': 2061, 'nah': 2062, 'nails': 2063, 'nervous': 2064, 'ng': 2065, 'none': 2066, 'onto': 2067, 'order': 2068, 'otherwise': 2069, 'ourselves': 2070, 'overwhelming': 2071, 'peeps': 2072, 'personality': 2073, 'piano': 2074, 'pills': 2075, 'pink': 2076, 'plus': 2077, 'positivity': 2078, 'pot': 2079, 'prayer': 2080, 'prefer': 2081, 'prevented': 2082, 'princess': 2083, 'prob': 2084, 'program': 2085, 'project': 2086, 'provide': 2087, 'ps': 2088, 'ptsd': 2089, 'quiet': 2090, 'quotI': 2091, 'quote': 2092, 'race': 2093, 'radio': 2094, 'recently': 2095, 'recession': 2096, 'recommends': 2097, 'recovery': 2098, 'reduce': 2099, 'regardless': 2100, 'regular': 2101, 'relate': 2102, 'related': 2103, 'repeat': 2104, 'respect': 2105, 'rolling': 2106, 'sale': 2107, 'sandwich': 2108, 'sat': 2109, 'save': 2110, 'settle': 2111, 'shake': 2112, 'sharing': 2113, 'shining': 2114, 'silly': 2115, 'similar': 2116, 'simply': 2117, 'sleepless': 2118, 'smiles': 2119, 'smoking': 2120, 'sometime': 2121, 'starts': 2122, 'stream': 2123, 'stronger': 2124, 'struggled': 2125, 'struggles': 2126, 'supporting': 2127, 'surprise': 2128, 'surprised': 2129, 'tech': 2130, 'teen': 2131, 'teeth': 2132, 'themselves': 2133, 'theory': 2134, 'therapist': 2135, 'tix': 2136, 'toast': 2137, 'tom': 2138, 'tough': 2139, 'treated': 2140, 'truth': 2141, 'tweeps': 2142, 'twitters': 2143, 'upset': 2144, 'version': 2145, 'victim': 2146, 'voted': 2147, 'waste': 2148, 'wave': 2149, 'whilst': 2150, 'whoa': 2151, 'winter': 2152, 'wishing': 2153, 'wooo': 2154, 'worried': 2155, 'wtf': 2156, 'xo': 2157, 'yard': 2158, 'youuu': 2159, \"'em\": 2160, '13': 2161, '14': 2162, '16th': 2163, '17': 2164, '2009': 2165, '2016': 2166, '2017': 2167, '23': 2168, '250418': 2169, '2morrow': 2170, '99': 2171, 'ADHD': 2172, 'Against': 2173, 'Alright': 2174, 'America': 2175, 'Any': 2176, 'Anyways': 2177, 'Ask': 2178, 'Atlanta': 2179, 'Aw': 2180, 'BABY': 2181, 'Beach': 2182, 'Ben': 2183, 'Blue': 2184, 'Books': 2185, 'Boston': 2186, 'Brothers': 2187, 'Brown': 2188, 'CD': 2189, 'Checking': 2190, 'Cheers': 2191, 'Chicago': 2192, 'Christmas': 2193, 'Class': 2194, 'Cole': 2195, 'Damn': 2196, 'Dannymcfly': 2197, 'Dave': 2198, 'Declan': 2199, 'Diversity': 2200, 'Doing': 2201, 'Drinking': 2202, 'ET': 2203, 'EXACTLY': 2204, 'England': 2205, 'Eric': 2206, 'Europe': 2207, 'Excited': 2208, 'FEEL': 2209, 'FF': 2210, 'Fact': 2211, 'Feel': 2212, 'Finished': 2213, 'FollowFriday': 2214, 'Food': 2215, 'Friend': 2216, 'Fuck': 2217, 'Fun': 2218, 'GOD': 2219, 'Gettin': 2220, 'Glass': 2221, 'Google': 2222, 'HAHA': 2223, 'Hah': 2224, 'Hahah': 2225, 'Hanging': 2226, 'Hangover': 2227, 'Hills': 2228, 'Honestly': 2229, 'Hug': 2230, 'Interview': 2231, 'Italy': 2232, 'Jeff': 2233, 'Join': 2234, 'K': 2235, 'Kanye': 2236, 'Ketamine': 2237, 'Kool': 2238, 'LMAO': 2239, 'La': 2240, 'Learning': 2241, 'Leaving': 2242, 'Leeds': 2243, 'Lets': 2244, 'Lmao': 2245, 'Lonely': 2246, 'Lovely': 2247, 'Loving': 2248, 'Lucky': 2249, 'MORE': 2250, 'Makes': 2251, 'Making': 2252, 'MentalHealthAwareness': 2253, 'MentalHealthMatters': 2254, 'Mine': 2255, 'Missed': 2256, 'Movie': 2257, 'N': 2258, 'NY': 2259, 'NYC': 2260, 'Netflix': 2261, 'Nick': 2262, 'Nite': 2263, 'North': 2264, 'OCD': 2265, 'ONE': 2266, 'OUT': 2267, 'Oooh': 2268, 'Orlando': 2269, 'Other': 2270, 'PA': 2271, 'Padukone': 2272, 'Pastor': 2273, 'Perfect': 2274, 'Police': 2275, 'Postnatal': 2276, 'Potter': 2277, 'Queen': 2278, 'Quick': 2279, 'Rappers': 2280, 'Remember': 2281, 'Richard': 2282, 'Rock': 2283, 'SOON': 2284, 'Sat': 2285, 'Sent': 2286, 'Seriously': 2287, 'Simon': 2288, 'Smirking': 2289, 'Something': 2290, 'Sooo': 2291, 'Started': 2292, 'Suicidal': 2293, 'Summer': 2294, 'Super': 2295, 'THIS': 2296, 'TIME': 2297, 'Talking': 2298, 'Team': 2299, 'Their': 2300, 'Thinking': 2301, 'Third': 2302, 'Thoughts': 2303, 'Tony': 2304, 'Try': 2305, 'Turkey': 2306, 'Tweet': 2307, 'Upsidedown': 2308, 'VERY': 2309, 'Vegas': 2310, 'WORLD': 2311, 'Waiting': 2312, 'Want': 2313, 'Watch': 2314, 'Weekend': 2315, 'Woman': 2316, 'X': 2317, 'Yea': 2318, 'above': 2319, 'abuse': 2320, 'accept': 2321, 'across': 2322, 'adam': 2323, 'adorable': 2324, 'adult': 2325, 'afterwards': 2326, 'ahaha': 2327, 'air': 2328, 'aka': 2329, 'alive': 2330, 'among': 2331, 'anyways': 2332, 'aplusk': 2333, 'appointment': 2334, 'appropriate': 2335, 'artists': 2336, 'asking': 2337, 'asshole': 2338, 'atm': 2339, 'attempt': 2340, 'avoid': 2341, 'balance': 2342, 'ball': 2343, 'bank': 2344, 'barely': 2345, 'bat': 2346, 'battling': 2347, 'bay': 2348, 'beast': 2349, 'became': 2350, 'behave': 2351, 'behavior': 2352, 'bein': 2353, 'benefits': 2354, 'bf': 2355, 'bikini': 2356, 'bills': 2357, 'bits': 2358, 'bleeding': 2359, 'blessing': 2360, 'block': 2361, 'boat': 2362, 'boo': 2363, 'born': 2364, 'boss': 2365, 'boyfriend': 2366, 'breath': 2367, 'bright': 2368, 'brings': 2369, 'broken': 2370, 'buddy': 2371, 'button': 2372, 'calls': 2373, 'careful': 2374, 'cat': 2375, 'ceiling': 2376, 'challenge': 2377, 'challenges': 2378, 'charity': 2379, 'child': 2380, 'cleared': 2381, 'clearly': 2382, 'clouds': 2383, 'club': 2384, 'comedy': 2385, 'comp': 2386, 'completely': 2387, 'confused': 2388, 'conversation': 2389, 'corner': 2390, 'cough': 2391, 'coz': 2392, 'create': 2393, 'crush': 2394, 'customer': 2395, 'cutie': 2396, 'cutting': 2397, 'cycle': 2398, 'daddy': 2399, 'dancing': 2400, 'dare': 2401, 'david': 2402, 'decent': 2403, 'decisions': 2404, 'deck': 2405, 'dedicated': 2406, 'deeper': 2407, 'demi': 2408, 'depressing': 2409, 'desk': 2410, 'despite': 2411, 'dessert': 2412, 'destroy': 2413, 'devil': 2414, 'difference': 2415, 'differently': 2416, 'display': 2417, 'doctors': 2418, 'dogs': 2419, 'download': 2420, 'drivers': 2421, 'dry': 2422, 'duck': 2423, 'duloc': 2424, 'dun': 2425, 'earn': 2426, 'eats': 2427, 'economic': 2428, 'emotion': 2429, 'english': 2430, 'entertaining': 2431, 'esp': 2432, 'essay': 2433, 'eventually': 2434, 'everytime': 2435, 'everywhere': 2436, 'excuse': 2437, 'exhausted': 2438, 'expect': 2439, 'experiences': 2440, 'extreme': 2441, 'extremely': 2442, 'fab': 2443, 'facts': 2444, 'fail': 2445, 'fair': 2446, 'fallen': 2447, 'fear': 2448, 'feet': 2449, 'films': 2450, 'finale': 2451, 'finals': 2452, 'fo': 2453, 'four': 2454, 'freakin': 2455, 'fruit': 2456, 'g': 2457, 'gender': 2458, 'giveaway': 2459, 'global': 2460, 'goodmorning': 2461, 'grade': 2462, 'grades': 2463, 'graduate': 2464, 'grandma': 2465, 'grateful': 2466, 'growing': 2467, 'gtlt': 2468, 'guilty': 2469, 'halo': 2470, 'handle': 2471, 'harder': 2472, 'hat': 2473, 'hated': 2474, 'heavy': 2475, 'hella': 2476, 'heyy': 2477, 'hills': 2478, 'holds': 2479, 'hole': 2480, 'hon': 2481, 'honest': 2482, 'horrible': 2483, 'hospital': 2484, 'hotel': 2485, 'httpbitly2K3W5hJÃ\\x82Â': 2486, 'httpstwittercomayanatheoraclestatus988861135142248449Ã\\x82Â': 2487, 'humor': 2488, 'ideas': 2489, 'idiot': 2490, 'ie': 2491, 'imbalance': 2492, 'impress': 2493, 'include': 2494, 'individual': 2495, 'inspired': 2496, 'involved': 2497, 'isolation': 2498, 'itself': 2499, 'jacket': 2500, 'joined': 2501, 'journey': 2502, 'judge': 2503, 'junk': 2504, 'jus': 2505, 'killing': 2506, 'kiss': 2507, 'knocks': 2508, 'ko': 2509, 'laughed': 2510, 'lay': 2511, 'leads': 2512, 'levels': 2513, 'lift': 2514, 'listened': 2515, 'lived': 2516, 'loose': 2517, 'lower': 2518, 'lyrics': 2519, 'mac': 2520, 'mail': 2521, 'managers': 2522, 'manic': 2523, 'marathon': 2524, 'match': 2525, 'material': 2526, 'maths': 2527, 'memories': 2528, 'mentalhealthmatters': 2529, 'mentally': 2530, 'messages': 2531, 'mild': 2532, 'mini': 2533, 'minor': 2534, 'mixed': 2535, 'mo': 2536, 'mode': 2537, 'mommy': 2538, 'mornings': 2539, 'motivated': 2540, 'museum': 2541, 'musical': 2542, 'musicmonday': 2543, 'names': 2544, 'nasty': 2545, 'neck': 2546, 'nick': 2547, 'noodles': 2548, 'normally': 2549, 'north': 2550, 'noticed': 2551, 'novel': 2552, 'nude': 2553, 'offering': 2554, 'offers': 2555, 'official': 2556, 'oo': 2557, 'oops': 2558, 'original': 2559, 'outta': 2560, 'pants': 2561, 'paper': 2562, 'park': 2563, 'particular': 2564, 'passing': 2565, 'passion': 2566, 'per': 2567, 'percent': 2568, 'pet': 2569, 'picnic': 2570, 'plane': 2571, 'player': 2572, 'plenty': 2573, 'plz': 2574, 'pointing': 2575, 'pop': 2576, 'popping': 2577, 'poster': 2578, 'posting': 2579, 'postnatal': 2580, 'pregnancy': 2581, 'probs': 2582, 'product': 2583, 'productive': 2584, 'professional': 2585, 'profile': 2586, 'protect': 2587, 'prove': 2588, 'psychological': 2589, 'psychologist': 2590, 'pub': 2591, 'public': 2592, 'pulled': 2593, 'push': 2594, 'pushing': 2595, 'putting': 2596, 'quot': 2597, 'rainy': 2598, 'ran': 2599, 'rare': 2600, 'rates': 2601, 'reality': 2602, 'referring': 2603, 'regret': 2604, 'rehearsals': 2605, 'reminder': 2606, 'reminds': 2607, 'remix': 2608, 'researchers': 2609, 'results': 2610, 'retweet': 2611, 'rid': 2612, 'rides': 2613, 'ring': 2614, 'rocks': 2615, 'roll': 2616, 'roof': 2617, 'ruined': 2618, 'rule': 2619, 'salt': 2620, 'schedule': 2621, 'schizophrenia': 2622, 'schools': 2623, 'seat': 2624, 'selenagomez': 2625, 'selfesteem': 2626, 'semester': 2627, 'senior': 2628, 'services': 2629, 'shaking': 2630, 'shape': 2631, 'shown': 2632, 'silence': 2633, 'sin': 2634, 'sings': 2635, 'sisters': 2636, 'sites': 2637, 'skinny': 2638, 'slight': 2639, 'smart': 2640, 'solid': 2641, 'somewhere': 2642, 'soooooo': 2643, 'south': 2644, 'space': 2645, 'spiral': 2646, 'spot': 2647, 'stage': 2648, 'starbucks': 2649, 'steps': 2650, 'stick': 2651, 'stomach': 2652, 'store': 2653, 'strange': 2654, 'student': 2655, 'studio': 2656, 'success': 2657, 'suffers': 2658, 'suggest': 2659, 'suggestions': 2660, 'survival': 2661, 'sushi': 2662, 'sway': 2663, 'swimming': 2664, 'talkin': 2665, 'taught': 2666, 'telling': 2667, 'tempted': 2668, 'tend': 2669, 'tests': 2670, 'thankful': 2671, 'thursday': 2672, 'tie': 2673, 'tonite': 2674, 'tons': 2675, 'tool': 2676, 'trek': 2677, 'trending': 2678, 'triggered': 2679, 'trouble': 2680, 'tune': 2681, 'turning': 2682, 'turns': 2683, 'twit': 2684, 'twittering': 2685, 'types': 2686, \"u're\": 2687, 'um': 2688, 'updating': 2689, 'upload': 2690, 'useful': 2691, 'uses': 2692, 'usual': 2693, 'vid': 2694, 'visiting': 2695, 'wall': 2696, 'wat': 2697, 'wee': 2698, 'weekends': 2699, 'wellbeing': 2700, 'wicked': 2701, 'wide': 2702, 'wishes': 2703, 'wolverine': 2704, 'wore': 2705, 'workers': 2706, 'workin': 2707, \"ya'll\": 2708, 'yah': 2709, 'yayy': 2710, 'yo': 2711, 'yoga': 2712, 'youu': 2713, '\\x85': 2714, '¡': 2715, 'Â¹â\\x82¬Ã': 2716, 'Ã¢â\\x82¬Â¢Ã\\x82Â': 2717, '09': 2718, '130': 2719, '1930s': 2720, '1998': 2721, '19th': 2722, '2014': 2723, '2018': 2724, '20th': 2725, '247': 2726, '2day': 2727, '33': 2728, '360': 2729, '3D': 2730, '45': 2731, '500': 2732, '5th': 2733, '60': 2734, '6th': 2735, '70': 2736, '90': 2737, 'AC': 2738, 'AGAIN': 2739, 'AIM': 2740, 'AJ': 2741, 'ANXIETY': 2742, 'AP': 2743, 'ATL': 2744, 'Absolutely': 2745, 'Add': 2746, 'Album': 2747, 'AmJPsychiatry': 2748, 'Amen': 2749, 'American': 2750, 'Australia': 2751, 'Autism': 2752, 'Awww': 2753, 'BATEMAN': 2754, 'BITCH': 2755, 'BRING': 2756, 'BTS': 2757, 'Beating': 2758, 'Bell': 2759, 'Bible': 2760, 'Bing': 2761, 'Bipolar': 2762, 'Blog': 2763, 'Bon': 2764, 'Both': 2765, 'Bought': 2766, 'Brain': 2767, 'Breastfeeding': 2768, 'Brian': 2769, 'Bring': 2770, 'Btw': 2771, 'C': 2772, \"C'mon\": 2773, 'Candy': 2774, 'Carl': 2775, 'Cause': 2776, 'CharlyJohnson': 2777, 'Cherry': 2778, 'Chinese': 2779, 'Chocolate': 2780, 'Clinical': 2781, 'Club': 2782, 'Cookie': 2783, 'Dear': 2784, 'Definitely': 2785, 'Depressed': 2786, 'Dinner': 2787, 'Dish': 2788, 'Doc': 2789, 'Done': 2790, 'Down': 2791, 'Dude': 2792, 'Dundee': 2793, 'EVER': 2794, 'EVERYONE': 2795, 'EXCITED': 2796, 'Edward': 2797, 'Either': 2798, 'Eminem': 2799, 'Erin': 2800, 'Etsy': 2801, 'Excellent': 2802, 'FB': 2803, 'FL': 2804, 'FOLLOW': 2805, 'FREE': 2806, 'FROM': 2807, 'FTW': 2808, 'Felt': 2809, 'Fighting': 2810, 'Florida': 2811, 'Fly': 2812, 'Forgive': 2813, 'Found': 2814, 'Full': 2815, 'GH': 2816, 'GOOD': 2817, 'Game': 2818, 'George': 2819, 'Golden': 2820, 'Goodbye': 2821, 'Gosh': 2822, 'Govt': 2823, 'Granddad': 2824, 'Growing': 2825, 'Guess': 2826, 'HA': 2827, 'HER': 2828, 'HERE': 2829, 'HOT': 2830, 'HP': 2831, 'Hair': 2832, 'Hannah': 2833, 'Hay': 2834, 'Heart': 2835, 'Hehehe': 2836, 'Hell': 2837, 'High': 2838, 'Hollywood': 2839, 'Holy': 2840, 'Home': 2841, 'ILY': 2842, 'Ice': 2843, 'Idea': 2844, 'Infinity': 2845, 'Internet': 2846, 'Iron': 2847, 'JB': 2848, 'Japanese': 2849, 'Jason': 2850, 'Jealous': 2851, 'Joe': 2852, 'Joel': 2853, 'Journal': 2854, 'Justin': 2855, 'Kinda': 2856, 'Korea': 2857, 'Kristen': 2858, 'LAST': 2859, 'LECTURES': 2860, 'LIKE': 2861, 'LIVE': 2862, 'Lady': 2863, 'Late': 2864, 'Later': 2865, 'Lauren': 2866, 'Learn': 2867, 'Link': 2868, 'List': 2869, 'LoL': 2870, 'Lord': 2871, 'Lots': 2872, 'MAY': 2873, 'MB': 2874, 'MI': 2875, 'MOTHERS': 2876, 'Magic': 2877, 'Major': 2878, 'Married': 2879, 'Matrix': 2880, 'Meditation': 2881, 'Mindfulness': 2882, 'Miss': 2883, 'Mmmm': 2884, 'Mountain': 2885, 'Mum': 2886, 'Museum': 2887, 'MySpace': 2888, 'NIGHT': 2889, 'NIMH': 2890, 'NIMHchats': 2891, 'NKOTB': 2892, 'NOW': 2893, 'Norway': 2894, 'Note': 2895, 'OFF': 2896, 'OLD': 2897, 'OR': 2898, 'OWN': 2899, 'Office': 2900, 'Ohh': 2901, 'Old': 2902, 'Ooh': 2903, 'Open': 2904, 'Oz': 2905, 'P': 2906, 'PC': 2907, 'POSTERS': 2908, 'PS': 2909, 'Parents': 2910, 'Paris': 2911, 'Phoenix': 2912, 'Photo': 2913, 'Podcast': 2914, 'Praying': 2915, 'Promise': 2916, 'Psychiatry': 2917, 'Quite': 2918, 'RIGHT': 2919, 'Radio': 2920, 'Rain': 2921, 'Reading': 2922, 'Red': 2923, 'Reserve': 2924, 'Reuters': 2925, 'Risk': 2926, 'Russian': 2927, 'SAD': 2928, 'SF': 2929, 'SOME': 2930, 'SOMEONE': 2931, 'STOP': 2932, 'Sadness': 2933, 'Said': 2934, 'Sarah': 2935, 'School': 2936, 'Searching': 2937, 'Send': 2938, 'Shows': 2939, 'Since': 2940, 'Six': 2941, 'Sky': 2942, 'Someone': 2943, 'State': 2944, 'Staying': 2945, 'Steve': 2946, 'Stop': 2947, 'StrayKids': 2948, 'StrayQuiz': 2949, 'Stress': 2950, 'Studies': 2951, 'Such': 2952, 'Sun': 2953, 'TOO': 2954, 'Taco': 2955, 'Teens': 2956, 'TelegramSam100': 2957, 'Texas': 2958, 'Though': 2959, 'Tips': 2960, 'Tommy': 2961, 'Toronto': 2962, 'Trilogy': 2963, 'True': 2964, 'Turn': 2965, 'Tweeting': 2966, 'Tweets': 2967, 'Twitters': 2968, 'Unamused': 2969, 'Vancouver': 2970, 'Victoria': 2971, 'Video': 2972, 'Visit': 2973, 'WAIT': 2974, 'WE': 2975, 'WHAT': 2976, 'WIN': 2977, 'Wait': 2978, 'Walking': 2979, 'Warning': 2980, 'Watchin': 2981, 'Web': 2982, 'Wednesday': 2983, 'WednesdayWisdom': 2984, 'Week': 2985, 'WellnessWednesday': 2986, 'Were': 2987, 'West': 2988, 'Whoop': 2989, 'Woke': 2990, 'Women': 2991, 'Woo': 2992, 'Woop': 2993, 'XX': 2994, 'Xx': 2995, 'YA': 2996, 'YEAH': 2997, 'Yaks': 2998, 'Yet': 2999, 'Yo': 3000, 'Zicutake': 3001, 'aJackieLarsen': 3002, 'accent': 3003, 'aches': 3004, 'acne': 3005, 'action': 3006, 'ad': 3007, 'address': 3008, 'admire': 3009, 'advertise': 3010, 'affected': 3011, 'agreed': 3012, 'ahhhh': 3013, 'ako': 3014, 'alike': 3015, 'allow': 3016, 'allowed': 3017, 'amber': 3018, 'amount': 3019, 'andor': 3020, 'andy': 3021, 'angel': 3022, 'animal': 3023, 'annoyed': 3024, 'answered': 3025, 'antidepressants': 3026, 'anybody': 3027, 'apartment': 3028, 'areas': 3029, 'asap': 3030, 'assholes': 3031, 'associated': 3032, 'august': 3033, 'award': 3034, 'awesomeness': 3035, 'awful': 3036, 'awg_allan': 3037, 'awhile': 3038, 'awwwww': 3039, 'b4': 3040, 'babies': 3041, 'badly': 3042, 'balloon': 3043, 'banking': 3044, 'basket': 3045, 'beaten': 3046, 'beating': 3047, 'becoming': 3048, 'bedtime': 3049, 'begin': 3050, 'beginning': 3051, 'benefit': 3052, 'bestie': 3053, 'bing': 3054, 'biological': 3055, 'biscuits': 3056, 'blah': 3057, 'blaming': 3058, 'blip': 3059, 'blogging': 3060, 'blogs': 3061, 'bloody': 3062, 'booked': 3063, 'boot': 3064, 'bottom': 3065, 'bowl': 3066, 'bowling': 3067, 'bracelet': 3068, 'brand': 3069, 'brave': 3070, 'brazil': 3071, 'bread': 3072, 'breathing': 3073, 'brunch': 3074, 'bubble': 3075, 'build': 3076, 'bullshit': 3077, 'bump': 3078, 'butter': 3079, 'buttons': 3080, 'cafe': 3081, 'cali': 3082, 'calm': 3083, 'camping': 3084, 'cancelled': 3085, 'candy': 3086, 'capacity': 3087, 'career': 3088, 'catchy': 3089, 'cds': 3090, 'celebrating': 3091, 'celebrity': 3092, 'centre': 3093, 'chair': 3094, 'changing': 3095, 'characters': 3096, 'chasing': 3097, 'cheap': 3098, 'checking': 3099, 'cheeky': 3100, 'cheer': 3101, 'chemical': 3102, 'childhood': 3103, 'choices': 3104, 'chose': 3105, 'chris': 3106, 'cinema': 3107, 'climb': 3108, 'coach': 3109, 'coast': 3110, 'colleagues': 3111, 'colors': 3112, 'comments': 3113, 'complete': 3114, 'compliments': 3115, 'con': 3116, 'concern': 3117, 'connections': 3118, 'consider': 3119, 'contest': 3120, 'continues': 3121, 'continuous': 3122, 'cooked': 3123, 'coping': 3124, 'corn': 3125, 'cost': 3126, 'couch': 3127, 'counting': 3128, 'covered': 3129, 'cozy': 3130, 'cranky': 3131, 'creating': 3132, 'credit': 3133, 'creeping': 3134, 'crochet': 3135, 'cruel': 3136, 'crushing': 3137, 'cultural': 3138, 'culture': 3139, 'curious': 3140, 'curly': 3141, 'curry': 3142, 'cutest': 3143, 'daisyrjordan': 3144, 'dallas': 3145, 'darkness': 3146, 'dat': 3147, 'dead': 3148, 'debate': 3149, 'decide': 3150, 'delete': 3151, 'deleted': 3152, 'deserved': 3153, 'designing': 3154, 'designs': 3155, 'desperate': 3156, 'developed': 3157, 'dick': 3158, 'difficulty': 3159, 'dirty': 3160, 'dis': 3161, 'disgusting': 3162, 'dividends': 3163, 'doc': 3164, 'doll': 3165, 'dollars': 3166, 'doors': 3167, 'dosage': 3168, 'dose': 3169, 'downtown': 3170, 'dp': 3171, 'dragged': 3172, 'dresses': 3173, 'du': 3174, 'dunno': 3175, 'dvd': 3176, 'eBay': 3177, 'easeÃ\\x82Â': 3178, 'easily': 3179, 'easter': 3180, 'educate': 3181, 'education': 3182, 'effect': 3183, 'effort': 3184, 'eight': 3185, 'el': 3186, 'employees': 3187, 'ended': 3188, 'entering': 3189, 'entitled': 3190, 'episodes': 3191, 'equal': 3192, 'errands': 3193, 'espresso': 3194, 'events': 3195, 'evil': 3196, 'ex': 3197, 'expected': 3198, 'experiencing': 3199, 'expert': 3200, 'explains': 3201, 'explanation': 3202, 'extended': 3203, 'fa': 3204, 'faith': 3205, 'fancy': 3206, 'farright': 3207, 'father': 3208, 'fattest': 3209, 'figured': 3210, 'filling': 3211, 'flat': 3212, 'flying': 3213, 'fm': 3214, 'follows': 3215, 'forces': 3216, 'forcing': 3217, 'forgetting': 3218, 'form': 3219, 'fortnite': 3220, 'freedom': 3221, 'fries': 3222, 'frustration': 3223, 'fucked': 3224, 'fund': 3225, 'fundraiser': 3226, 'further': 3227, 'gain': 3228, 'generally': 3229, 'genuinely': 3230, 'gg': 3231, 'gr8': 3232, 'grace': 3233, 'grad': 3234, 'grasp': 3235, 'gray': 3236, 'grill': 3237, 'growth': 3238, 'gunna': 3239, 'haircut': 3240, 'hannah': 3241, 'hating': 3242, 'hatred': 3243, 'heads': 3244, 'hearing': 3245, 'heartsEmoji': 3246, 'heat': 3247, 'helpful': 3248, 'hero': 3249, 'hittin': 3250, 'hmmm': 3251, 'homeless': 3252, 'hoo': 3253, 'hook': 3254, 'hooray': 3255, 'hopes': 3256, 'host': 3257, 'hott': 3258, 'httpsgooglfbMu7k6tÃ\\x82Â': 3259, 'httpstwittercomkanyeweststatus989153701095915522Ã\\x82Â': 3260, 'httpsvinecoviu3l2lPBhiKÃ\\x82Â': 3261, 'httpswwwthesuncouknews6137739cannabiseasedepressionstressanxietyÃ\\x82Â': 3262, 'httptweetsg': 3263, 'hurr': 3264, 'hv': 3265, 'hw': 3266, 'iced': 3267, 'idol': 3268, 'ignorance': 3269, 'ignorant': 3270, 'immediately': 3271, 'impact': 3272, 'impressed': 3273, 'improves': 3274, 'increases': 3275, 'index': 3276, 'individuals': 3277, 'insecurity': 3278, 'inspiring': 3279, 'instagram': 3280, 'intended': 3281, 'interest': 3282, 'interviewed': 3283, 'jeans': 3284, 'jonasbrothers': 3285, 'jumper': 3286, 'kelly': 3287, 'kept': 3288, 'kicked': 3289, 'kicks': 3290, 'killer': 3291, 'kills': 3292, 'kings': 3293, 'kirstiealley': 3294, 'kisses': 3295, 'kitchen': 3296, 'kittens': 3297, 'kitty': 3298, 'lake': 3299, 'lang': 3300, 'language': 3301, 'latest': 3302, 'law': 3303, 'laying': 3304, 'le': 3305, 'lesson': 3306, 'lessons': 3307, 'letters': 3308, 'likes': 3309, 'limit': 3310, 'lit': 3311, 'lmaooo': 3312, 'load': 3313, 'loads': 3314, 'log': 3315, 'london': 3316, 'lovee': 3317, 'lowers': 3318, 'majornelson': 3319, 'mania': 3320, 'marijuana': 3321, 'markhoppus': 3322, 'marks': 3323, 'maternity': 3324, 'mates': 3325, 'matters': 3326, 'meat': 3327, 'meetings': 3328, 'mel': 3329, 'mentalhealthawareness': 3330, 'mentioned': 3331, 'mentions': 3332, 'microsoft': 3333, 'milk': 3334, 'min': 3335, 'minds': 3336, 'mindset': 3337, 'mmitchelldaviss': 3338, 'mmm': 3339, 'moments': 3340, 'momma': 3341, 'montana': 3342, 'mountain': 3343, 'msg': 3344, 'msn': 3345, 'multiple': 3346, 'mums': 3347, 'murder': 3348, 'naked': 3349, 'naman': 3350, 'named': 3351, 'natural': 3352, 'nd': 3353, 'neat': 3354, 'network': 3355, 'nightmares': 3356, 'nighty': 3357, 'noise': 3358, 'notes': 3359, 'nyc': 3360, 'obsession': 3361, 'occur': 3362, 'odd': 3363, 'officialTila': 3364, 'ohhh': 3365, 'oldest': 3366, 'onion': 3367, 'ooo': 3368, 'opened': 3369, 'opinions': 3370, 'outlook': 3371, 'pa': 3372, 'packed': 3373, 'paid': 3374, 'paranoid': 3375, 'partying': 3376, 'paycheck': 3377, 'paying': 3378, 'peer': 3379, 'perks': 3380, 'personally': 3381, 'peter': 3382, 'phase': 3383, 'piercing': 3384, 'pissed': 3385, 'placed': 3386, 'plain': 3387, 'plant': 3388, 'points': 3389, 'poke': 3390, 'policy': 3391, 'possibly': 3392, 'potato': 3393, 'prayers': 3394, 'praying': 3395, 'prepare': 3396, 'prepared': 3397, 'pretending': 3398, 'prison': 3399, 'productivity': 3400, 'products': 3401, 'projects': 3402, 'promo': 3403, 'promote': 3404, 'props': 3405, 'published': 3406, 'queen': 3407, 'quickly': 3408, 'raise': 3409, 'raising': 3410, 'rap': 3411, 'rapper': 3412, 'realDonaldTrump': 3413, 'received': 3414, 'recent': 3415, 'recipe': 3416, 'recommended': 3417, 'recorded': 3418, 'recording': 3419, 'rehab': 3420, 'rejected': 3421, 'relationships': 3422, 'relatives': 3423, 'relieved': 3424, 'remind': 3425, 'replied': 3426, 'replies': 3427, 'requires': 3428, 'researching': 3429, 'resources': 3430, 'result': 3431, 'returned': 3432, 'review': 3433, 'rice': 3434, 'ridiculous': 3435, 'rocked': 3436, 'role': 3437, 'routine': 3438, 'rush': 3439, 'sales': 3440, 'sarah': 3441, 'saving': 3442, 'sayin': 3443, 'scandal': 3444, 'scheduled': 3445, 'script': 3446, 'search': 3447, 'security': 3448, 'seek': 3449, 'seizures': 3450, 'sell': 3451, 'sends': 3452, 'sermon': 3453, 'sexual': 3454, 'shame': 3455, 'shareholder': 3456, 'shed': 3457, 'shift': 3458, 'shitty': 3459, 'sho': 3460, 'shoot': 3461, 'shooting': 3462, 'shorts': 3463, 'shout': 3464, 'shoutout': 3465, 'sickness': 3466, 'sigh': 3467, 'simple': 3468, 'singer': 3469, 'situations': 3470, 'skills': 3471, 'skull': 3472, 'sleeps': 3473, 'slip': 3474, 'smells': 3475, 'snack': 3476, 'sober': 3477, 'soda': 3478, 'sold': 3479, 'sorted': 3480, 'soul': 3481, 'sowwy': 3482, 'spamming': 3483, 'speaks': 3484, 'speech': 3485, 'spirit': 3486, 'spoke': 3487, 'sports': 3488, 'spots': 3489, 'spring': 3490, 'spy': 3491, 'square': 3492, 'st': 3493, 'stalk': 3494, 'stand': 3495, 'statement': 3496, 'stopped': 3497, 'stops': 3498, 'storm': 3499, 'strain': 3500, 'strength': 3501, 'studies': 3502, 'studying': 3503, 'subjects': 3504, 'sudden': 3505, 'suddenly': 3506, 'sum': 3507, 'survive': 3508, 'sweatEmoji': 3509, 'sweater': 3510, 'swim': 3511, 'swing': 3512, 'symbol': 3513, 'sympathy': 3514, 'taboo': 3515, 'taco': 3516, 'tacos': 3517, 'talent': 3518, 'talented': 3519, 'tall': 3520, 'tastes': 3521, 'tax': 3522, 'taylor': 3523, 'teach': 3524, 'teachers': 3525, 'tee': 3526, 'teenager': 3527, 'teenagers': 3528, 'tells': 3529, 'temper': 3530, 'temporary': 3531, 'tends': 3532, 'term': 3533, 'th': 3534, 'thai': 3535, 'thankyou': 3536, 'thanx': 3537, 'theme': 3538, 'timeline': 3539, 'tips': 3540, 'tiring': 3541, 'title': 3542, 'tmrw': 3543, 'tnx': 3544, 'toes': 3545, 'ton': 3546, 'tooth': 3547, 'torn': 3548, 'tornado': 3549, 'total': 3550, 'tracks': 3551, 'trade': 3552, 'tragic': 3553, 'trailer': 3554, 'trampoline': 3555, 'triple': 3556, 'tshirt': 3557, 'tweeted': 3558, 'tweeter': 3559, 'twitterville': 3560, 'txt': 3561, 'ty': 3562, 'uh': 3563, 'umm': 3564, 'un': 3565, 'understanding': 3566, 'underwear': 3567, 'unfortunate': 3568, 'uni': 3569, 'unless': 3570, 'upcoming': 3571, 'uploaded': 3572, 'uploading': 3573, 'v': 3574, 'variety': 3575, 'vibes': 3576, 'victory': 3577, 'villainous': 3578, 'vision': 3579, 'vomiting': 3580, 'voting': 3581, 'watchin': 3582, 'wet': 3583, 'wifey': 3584, 'wii': 3585, 'willing': 3586, 'window': 3587, 'winner': 3588, 'wise': 3589, 'witnessed': 3590, 'wonderfully': 3591, 'writers': 3592, 'wwwm2easia': 3593, 'xbox': 3594, 'yeh': 3595, 'younger': 3596, 'yung': 3597, 'zero': 3598, 'zoo': 3599, '|': 3600, 'Â¸Â¡Ã': 3601, 'Â¸Â\\xadÃ': 3602, 'Ã¢Â\\x97Â\\x8f': 3603, 'Ã¢â\\x84¢Â¥': 3604})\n"
          ]
        }
      ]
    },
    {
      "cell_type": "code",
      "metadata": {
        "id": "elBWablT5XUN"
      },
      "source": [
        "#check whether cuda is available\n",
        "device = torch.device('cuda' if torch.cuda.is_available() else 'cpu')  \n",
        "\n",
        "#set batch size\n",
        "BATCH_SIZE = 64\n",
        "\n",
        "#Load an iterator\n",
        "train_iterator, valid_iterator = data.BucketIterator.splits(\n",
        "    (train_data, valid_data), \n",
        "    batch_size = BATCH_SIZE,\n",
        "    sort_key = lambda x: len(x.text),\n",
        "    sort_within_batch=True,\n",
        "    device = device)"
      ],
      "execution_count": 18,
      "outputs": []
    },
    {
      "cell_type": "code",
      "metadata": {
        "id": "rzJa68Yk16SR"
      },
      "source": [
        "import torch.nn as nn\n",
        "\n",
        "class classifier(nn.Module):\n",
        "    \n",
        "    #define all the layers used in model\n",
        "    def __init__(self, vocab_size, embedding_dim, hidden_dim, output_dim, n_layers, \n",
        "                 bidirectional, dropout):\n",
        "        \n",
        "        #Constructor\n",
        "        super().__init__()          \n",
        "        \n",
        "        #embedding layer\n",
        "        self.embedding = nn.Embedding(vocab_size, embedding_dim)\n",
        "        \n",
        "        #lstm layer\n",
        "        self.lstm = nn.LSTM(embedding_dim, \n",
        "                           hidden_dim, \n",
        "                           num_layers=n_layers, \n",
        "                           bidirectional=bidirectional, \n",
        "                           dropout=dropout,\n",
        "                           batch_first=True)\n",
        "        \n",
        "        #dense layer\n",
        "        self.fc = nn.Linear(hidden_dim * 2, output_dim)\n",
        "        \n",
        "        #activation function\n",
        "        self.act = nn.Sigmoid()\n",
        "        \n",
        "    def forward(self, text, text_lengths):\n",
        "        \n",
        "        #text = [batch size,sent_length]\n",
        "        embedded = self.embedding(text)\n",
        "        #embedded = [batch size, sent_len, emb dim]\n",
        "      \n",
        "        #packed sequence\n",
        "        packed_embedded = nn.utils.rnn.pack_padded_sequence(embedded, text_lengths,batch_first=True)\n",
        "        \n",
        "        packed_output, (hidden, cell) = self.lstm(packed_embedded)\n",
        "        #hidden = [batch size, num layers * num directions,hid dim]\n",
        "        #cell = [batch size, num layers * num directions,hid dim]\n",
        "        \n",
        "        #concat the final forward and backward hidden state\n",
        "        hidden = torch.cat((hidden[-2,:,:], hidden[-1,:,:]), dim = 1)\n",
        "                \n",
        "        #hidden = [batch size, hid dim * num directions]\n",
        "        dense_outputs=self.fc(hidden)\n",
        "\n",
        "        #Final activation function\n",
        "        outputs=self.act(dense_outputs)\n",
        "        \n",
        "        return outputs"
      ],
      "execution_count": 19,
      "outputs": []
    },
    {
      "cell_type": "code",
      "metadata": {
        "id": "QxykUQXq9K4B"
      },
      "source": [
        ""
      ],
      "execution_count": 19,
      "outputs": []
    },
    {
      "cell_type": "code",
      "metadata": {
        "id": "X7pI4PTr8Rf0"
      },
      "source": [
        "#define hyperparameters\n",
        "size_of_vocab = len(TEXT.vocab)\n",
        "embedding_dim = 100\n",
        "num_hidden_nodes = 32\n",
        "num_output_nodes = 1\n",
        "num_layers =3\n",
        "bidirection = True\n",
        "dropout = 0.2\n",
        "\n",
        "#instantiate the model\n",
        "model = classifier(size_of_vocab, embedding_dim, num_hidden_nodes,num_output_nodes, num_layers, \n",
        "                   bidirectional = True, dropout = dropout)"
      ],
      "execution_count": 20,
      "outputs": []
    },
    {
      "cell_type": "code",
      "metadata": {
        "id": "8bY4Rfgp8Ur9"
      },
      "source": [
        "import torch.optim as optim\n",
        "\n",
        "#define optimizer and loss\n",
        "optimizer = optim.Adam(model.parameters())\n",
        "criterion = nn.BCELoss()\n",
        "\n",
        "#define metric\n",
        "def binary_accuracy(preds, y):\n",
        "    #round predictions to the closest integer\n",
        "    rounded_preds = torch.round(preds)\n",
        "    \n",
        "    correct = (rounded_preds == y).float() \n",
        "    acc = correct.sum() / len(correct)\n",
        "    return acc\n",
        "    \n",
        "#push to cuda if available\n",
        "model = model.to(device)\n",
        "criterion = criterion.to(device)"
      ],
      "execution_count": 21,
      "outputs": []
    },
    {
      "cell_type": "code",
      "metadata": {
        "colab": {
          "base_uri": "https://localhost:8080/"
        },
        "id": "wxtE3Hrz9Fd-",
        "outputId": "90e2cb18-72f5-4d6f-dd6a-c8c63789b242"
      },
      "source": [
        "model"
      ],
      "execution_count": 22,
      "outputs": [
        {
          "output_type": "execute_result",
          "data": {
            "text/plain": [
              "classifier(\n",
              "  (embedding): Embedding(3605, 100)\n",
              "  (lstm): LSTM(100, 32, num_layers=3, batch_first=True, dropout=0.2, bidirectional=True)\n",
              "  (fc): Linear(in_features=64, out_features=1, bias=True)\n",
              "  (act): Sigmoid()\n",
              ")"
            ]
          },
          "metadata": {},
          "execution_count": 22
        }
      ]
    },
    {
      "cell_type": "code",
      "metadata": {
        "id": "Q89hHgIL8Zqn"
      },
      "source": [
        "def train(model, iterator, optimizer, criterion):\n",
        "    \n",
        "    #initialize every epoch \n",
        "    epoch_loss = 0\n",
        "    epoch_acc = 0\n",
        "    \n",
        "    #set the model in training phase\n",
        "    model.train()  \n",
        "    \n",
        "    for batch in iterator:\n",
        "        \n",
        "        #resets the gradients after every batch\n",
        "        optimizer.zero_grad()   \n",
        "        \n",
        "        #retrieve text and no. of words\n",
        "        text, text_lengths = batch.text\n",
        "\n",
        "        text=text.to(device) \n",
        "        text_lengths=torch.as_tensor(text_lengths, dtype=torch.int64, device='cpu') \n",
        "         \n",
        "        \n",
        "        #convert to 1D tensor\n",
        "        predictions = model(text, text_lengths).squeeze()  \n",
        "        \n",
        "        #compute the loss\n",
        "        loss = criterion(predictions, batch.label)        \n",
        "        \n",
        "        #compute the binary accuracy\n",
        "        acc = binary_accuracy(predictions, batch.label)   \n",
        "        \n",
        "        #backpropage the loss and compute the gradients\n",
        "        loss.backward()       \n",
        "        \n",
        "        #update the weights\n",
        "        optimizer.step()      \n",
        "        \n",
        "        #loss and accuracy\n",
        "        epoch_loss += loss.item()  \n",
        "        epoch_acc += acc.item()    \n",
        "        \n",
        "    return epoch_loss / len(iterator), epoch_acc / len(iterator)"
      ],
      "execution_count": 23,
      "outputs": []
    },
    {
      "cell_type": "code",
      "metadata": {
        "id": "WgosFiUX8c72"
      },
      "source": [
        "def evaluate(model, iterator, criterion):\n",
        "    \n",
        "    #initialize every epoch\n",
        "    epoch_loss = 0\n",
        "    epoch_acc = 0\n",
        "\n",
        "    #deactivating dropout layers\n",
        "    model.eval()\n",
        "    \n",
        "    #deactivates autograd\n",
        "    with torch.no_grad():\n",
        "    \n",
        "        for batch in iterator:\n",
        "        \n",
        "            #retrieve text and no. of words\n",
        "            text, text_lengths = batch.text\n",
        "            text=text.to(device)\n",
        "            text_lengths=torch.as_tensor(text_lengths, dtype=torch.int64, device='cpu') \n",
        "            #convert to 1d tensor\n",
        "            predictions = model(text, text_lengths).squeeze()\n",
        "            \n",
        "            #compute loss and accuracy\n",
        "            loss = criterion(predictions, batch.label)\n",
        "            acc = binary_accuracy(predictions, batch.label)\n",
        "            \n",
        "            #keep track of loss and accuracy\n",
        "            epoch_loss += loss.item()\n",
        "            epoch_acc += acc.item()\n",
        "        \n",
        "    return epoch_loss / len(iterator), epoch_acc / len(iterator)"
      ],
      "execution_count": 24,
      "outputs": []
    },
    {
      "cell_type": "code",
      "metadata": {
        "colab": {
          "base_uri": "https://localhost:8080/"
        },
        "id": "PQgprkJ68c_C",
        "outputId": "15c5c82d-48e2-442f-c685-cb006468f738"
      },
      "source": [
        "train_losses=[]\n",
        "valid_losses=[]\n",
        "train_accuracy=[]\n",
        "valid_accuracy=[]\n",
        "\n",
        "N_EPOCHS = 10\n",
        "best_valid_loss = float('inf')\n",
        "\n",
        "for epoch in range(N_EPOCHS):\n",
        "     \n",
        "    #train the model\n",
        "    train_loss, train_acc = train(model, train_iterator, optimizer, criterion)\n",
        "    train_losses.append(train_loss)\n",
        "    train_accuracy.append(train_acc)\n",
        "    #evaluate the model\n",
        "    valid_loss, valid_acc = evaluate(model, valid_iterator, criterion)\n",
        "    valid_losses.append(valid_loss)\n",
        "    valid_accuracy.append(valid_acc)\n",
        "    #save the best model\n",
        "    if valid_loss < best_valid_loss:\n",
        "        best_valid_loss = valid_loss\n",
        "        torch.save(model.state_dict(), 'saved_weights.pt')\n",
        "    \n",
        "    print(f'\\tTrain Loss: {train_loss:.3f} | Train Acc: {train_acc*100:.2f}%')\n",
        "    print(f'\\t Val. Loss: {valid_loss:.3f} |  Val. Acc: {valid_acc*100:.2f}%')"
      ],
      "execution_count": 25,
      "outputs": [
        {
          "output_type": "stream",
          "name": "stdout",
          "text": [
            "\tTrain Loss: 0.506 | Train Acc: 78.36%\n",
            "\t Val. Loss: 0.350 |  Val. Acc: 85.88%\n",
            "\tTrain Loss: 0.178 | Train Acc: 93.72%\n",
            "\t Val. Loss: 0.084 |  Val. Acc: 98.31%\n",
            "\tTrain Loss: 0.069 | Train Acc: 98.68%\n",
            "\t Val. Loss: 0.056 |  Val. Acc: 98.95%\n",
            "\tTrain Loss: 0.055 | Train Acc: 98.79%\n",
            "\t Val. Loss: 0.043 |  Val. Acc: 99.14%\n",
            "\tTrain Loss: 0.040 | Train Acc: 99.09%\n",
            "\t Val. Loss: 0.039 |  Val. Acc: 99.04%\n",
            "\tTrain Loss: 0.032 | Train Acc: 99.37%\n",
            "\t Val. Loss: 0.039 |  Val. Acc: 99.08%\n",
            "\tTrain Loss: 0.026 | Train Acc: 99.46%\n",
            "\t Val. Loss: 0.039 |  Val. Acc: 99.08%\n",
            "\tTrain Loss: 0.022 | Train Acc: 99.45%\n",
            "\t Val. Loss: 0.034 |  Val. Acc: 99.17%\n",
            "\tTrain Loss: 0.017 | Train Acc: 99.60%\n",
            "\t Val. Loss: 0.045 |  Val. Acc: 98.63%\n",
            "\tTrain Loss: 0.014 | Train Acc: 99.72%\n",
            "\t Val. Loss: 0.038 |  Val. Acc: 99.23%\n"
          ]
        }
      ]
    },
    {
      "cell_type": "code",
      "metadata": {
        "id": "_3BGdj6SISUS"
      },
      "source": [
        "import matplotlib.pyplot as plt\n"
      ],
      "execution_count": 26,
      "outputs": []
    },
    {
      "cell_type": "code",
      "metadata": {
        "colab": {
          "base_uri": "https://localhost:8080/",
          "height": 157
        },
        "id": "RuqFVv2BDp2i",
        "outputId": "2a6221e6-c679-4467-d53e-eda12160e113"
      },
      "source": [
        "#display stats in graph\n",
        "plt.figure(figsize=(10, 2))\n",
        "plt.plot(train_losses, label='Training Loss')\n",
        "plt.plot(valid_losses, label='Validation Loss')\n",
        "plt.legend()\n",
        "plt.grid()\n",
        "plt.show()"
      ],
      "execution_count": 27,
      "outputs": [
        {
          "output_type": "display_data",
          "data": {
            "image/png": "[encoded data removed]",
            "text/plain": [
              "<Figure size 720x144 with 1 Axes>"
            ]
          },
          "metadata": {
            "needs_background": "light"
          }
        }
      ]
    },
    {
      "cell_type": "code",
      "metadata": {
        "colab": {
          "base_uri": "https://localhost:8080/",
          "height": 157
        },
        "id": "Av1hi_gsBRCE",
        "outputId": "60a6b3ad-9a12-4679-e785-cb8fd9bb3498"
      },
      "source": [
        "#display stats in graph\n",
        "plt.figure(figsize=(10, 2))\n",
        "plt.plot(train_accuracy, label='Training Loss')\n",
        "plt.plot(valid_accuracy, label='Validation Loss')\n",
        "plt.legend()\n",
        "plt.grid()\n",
        "plt.show()"
      ],
      "execution_count": 28,
      "outputs": [
        {
          "output_type": "display_data",
          "data": {
            "image/png": "[encoded data removed]",
            "text/plain": [
              "<Figure size 720x144 with 1 Axes>"
            ]
          },
          "metadata": {
            "needs_background": "light"
          }
        }
      ]
    },
    {
      "cell_type": "code",
      "metadata": {
        "colab": {
          "base_uri": "https://localhost:8080/"
        },
        "id": "Lnr9kKN2ATR8",
        "outputId": "b39e7bcf-6d4a-453b-bdfd-1ce24e1a7fca"
      },
      "source": [
        "len(valid_iterator)"
      ],
      "execution_count": 35,
      "outputs": [
        {
          "output_type": "execute_result",
          "data": {
            "text/plain": [
              "49"
            ]
          },
          "metadata": {},
          "execution_count": 35
        }
      ]
    },
    {
      "cell_type": "code",
      "metadata": {
        "id": "WbbXp1v5DHUb"
      },
      "source": [
        "from sklearn.metrics import confusion_matrix\n",
        "from sklearn.metrics import classification_report"
      ],
      "execution_count": null,
      "outputs": []
    },
    {
      "cell_type": "code",
      "metadata": {
        "id": "sZat34qC8dBp"
      },
      "source": [
        "nb_classes = 2\n",
        "classes=[0,1]\n",
        "\n",
        "y_true_tensor = torch.tensor([]).to(device)\n",
        "y_pred_tensor = torch.tensor([]).to(device)\n",
        "model.eval()\n",
        "with torch.no_grad():\n",
        "    for batch in  valid_iterator:\n",
        "        text, text_lengths = batch.text\n",
        "        text=text.to(device)\n",
        "        text_lengths=torch.as_tensor(text_lengths, dtype=torch.int64, device='cpu')\n",
        "        predictions = model(text, text_lengths).squeeze()\n",
        "        rounded_preds = torch.round(predictions)\n",
        "        \n",
        "        y_true_tensor = torch.cat((y_true_tensor,batch.label))\n",
        "        y_pred_tensor = torch.cat((y_pred_tensor,rounded_preds))\n",
        "        "
      ],
      "execution_count": 48,
      "outputs": []
    },
    {
      "cell_type": "code",
      "metadata": {
        "colab": {
          "base_uri": "https://localhost:8080/"
        },
        "id": "8-3MA9SrDEfg",
        "outputId": "c2995a6c-2022-4348-c6ce-8aebb565c96e"
      },
      "source": [
        "y_true = y_true_tensor.tolist()\n",
        "y_pred = y_pred_tensor.tolist()\n",
        "matrix = confusion_matrix(y_true,y_pred)\n",
        "matrix"
      ],
      "execution_count": 49,
      "outputs": [
        {
          "output_type": "execute_result",
          "data": {
            "text/plain": [
              "array([[2384,    5],\n",
              "       [  19,  685]])"
            ]
          },
          "metadata": {},
          "execution_count": 49
        }
      ]
    },
    {
      "cell_type": "code",
      "metadata": {
        "id": "jFzE7lntDEi-"
      },
      "source": [
        ""
      ],
      "execution_count": null,
      "outputs": []
    },
    {
      "cell_type": "code",
      "metadata": {
        "colab": {
          "base_uri": "https://localhost:8080/"
        },
        "id": "0MR0r9SBDEmg",
        "outputId": "fe13275c-e743-44e6-9b3e-04e1dcc27043"
      },
      "source": [
        "classify_report = classification_report(y_true, y_pred)\n",
        "print(classify_report)"
      ],
      "execution_count": 52,
      "outputs": [
        {
          "output_type": "stream",
          "name": "stdout",
          "text": [
            "              precision    recall  f1-score   support\n",
            "\n",
            "         0.0       0.99      1.00      0.99      2389\n",
            "         1.0       0.99      0.97      0.98       704\n",
            "\n",
            "    accuracy                           0.99      3093\n",
            "   macro avg       0.99      0.99      0.99      3093\n",
            "weighted avg       0.99      0.99      0.99      3093\n",
            "\n"
          ]
        }
      ]
    },
    {
      "cell_type": "code",
      "metadata": {
        "id": "uWZFLaXtA6eL"
      },
      "source": [
        "import seaborn as sns"
      ],
      "execution_count": 43,
      "outputs": []
    },
    {
      "cell_type": "code",
      "metadata": {
        "colab": {
          "base_uri": "https://localhost:8080/",
          "height": 358
        },
        "id": "dgCMEuHNA3je",
        "outputId": "b473690e-74fc-478c-de21-0538c2934e8b"
      },
      "source": [
        "plt.figure(figsize=(10,5))\n",
        "\n",
        "class_names = ['0','1']\n",
        "df_cm = pd.DataFrame(matrix, index=class_names, columns=class_names).astype(int)\n",
        "heatmap = sns.heatmap(df_cm, annot=True, fmt=\"d\")\n",
        "\n",
        "heatmap.yaxis.set_ticklabels(heatmap.yaxis.get_ticklabels(), rotation=0, ha='right',fontsize=15)\n",
        "heatmap.xaxis.set_ticklabels(heatmap.xaxis.get_ticklabels(), rotation=45, ha='right',fontsize=15)\n",
        "plt.ylabel('True label')\n",
        "plt.xlabel('Predicted label')"
      ],
      "execution_count": 53,
      "outputs": [
        {
          "output_type": "execute_result",
          "data": {
            "text/plain": [
              "Text(0.5, 24.0, 'Predicted label')"
            ]
          },
          "metadata": {},
          "execution_count": 53
        },
        {
          "output_type": "display_data",
          "data": {
            "image/png": "[encoded data removed]",
            "text/plain": [
              "<Figure size 720x360 with 2 Axes>"
            ]
          },
          "metadata": {
            "needs_background": "light"
          }
        }
      ]
    }
  ]
}